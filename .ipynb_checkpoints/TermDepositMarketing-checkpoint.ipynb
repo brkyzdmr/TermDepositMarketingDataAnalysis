{
 "cells": [
  {
   "cell_type": "markdown",
   "metadata": {},
   "source": [
    "# Term Deposit Marketing\n",
    "\n",
    "## Background\n",
    "\n",
    "ACME is a small startup focusing mainly on providing machine learning solutions in the European banking market. We work on a variety of problems including fraud detection, sentiment classification and customer intention prediction and classification.\n",
    "\n",
    "We are interested in developing a robust machine learning system that leverages information coming from call center data.\n",
    "\n",
    "Ultimately, at ACME we are looking to improve the success rate for calls made to customers for any product that our clients offer. Towards this goal we are working on designing an ever evolving machine learning product that offers high success outcomes while offering interpretability for our clients to make informed decisions.\n",
    "\n",
    "## Data Description\n",
    "\n",
    "The data comes from direct marketing efforts of a European banking institution. The marketing campaign involves making a phone call to a customer, often multiple times to ensure a product subscription, in this case a term deposit. Term deposits are usually short-term deposits with maturities ranging from one month to a few years. The customer must understand when buying a term deposit that they can withdraw their funds only after the term ends. All customer information that might reveal personal information is removed due to privacy concerns.\n",
    "\n",
    "## Attributes\n",
    "\n",
    "age : age of customer (numeric)\n",
    "\n",
    "job : type of job (categorical)\n",
    "\n",
    "marital : marital status (categorical)\n",
    "\n",
    "education (categorical)\n",
    "\n",
    "default: has credit in default? (binary)\n",
    "\n",
    "balance: average yearly balance, in euros (numeric)\n",
    "\n",
    "housing: has a housing loan? (binary)\n",
    "\n",
    "loan: has personal loan? (binary)\n",
    "\n",
    "contact: contact communication type (categorical)\n",
    "\n",
    "day: last contact day of the month (numeric)\n",
    "\n",
    "month: last contact month of year (categorical)\n",
    "\n",
    "duration: last contact duration, in seconds (numeric)\n",
    "\n",
    "campaign: number of contacts performed during this campaign and for this client (numeric, includes last contact)\n",
    "\n",
    "Output (desired target):\n",
    "\n",
    "y - has the client subscribed to a term deposit? (binary)\n",
    "\n",
    "\n",
    "## Goal(s):\n",
    "\n",
    "Predict if the customer will subscribe (yes/no) to a term deposit (variable y)\n",
    "\n",
    "## Success Metric(s)\n",
    "\n",
    "Hit %81 or above accuracy by evaluating with 5-fold cross validation and reporting the average performance score.\n",
    "\n",
    "## Bonus(es):\n",
    "\n",
    "We are also interested in finding customers who are more likely to buy the investment product. Determine the segment(s) of customers our client should prioritize.\n",
    "\n",
    "What makes the customers buy? Tell us which feature we should be focusing more on."
   ]
  },
  {
   "cell_type": "markdown",
   "metadata": {},
   "source": [
    "## Exploratory Data Analysis"
   ]
  },
  {
   "cell_type": "code",
   "execution_count": 1,
   "metadata": {},
   "outputs": [],
   "source": [
    "import numpy as np\n",
    "import pandas as pd"
   ]
  },
  {
   "cell_type": "code",
   "execution_count": 2,
   "metadata": {},
   "outputs": [
    {
     "data": {
      "text/html": [
       "<div>\n",
       "<style scoped>\n",
       "    .dataframe tbody tr th:only-of-type {\n",
       "        vertical-align: middle;\n",
       "    }\n",
       "\n",
       "    .dataframe tbody tr th {\n",
       "        vertical-align: top;\n",
       "    }\n",
       "\n",
       "    .dataframe thead th {\n",
       "        text-align: right;\n",
       "    }\n",
       "</style>\n",
       "<table border=\"1\" class=\"dataframe\">\n",
       "  <thead>\n",
       "    <tr style=\"text-align: right;\">\n",
       "      <th></th>\n",
       "      <th>age</th>\n",
       "      <th>job</th>\n",
       "      <th>marital</th>\n",
       "      <th>education</th>\n",
       "      <th>default</th>\n",
       "      <th>balance</th>\n",
       "      <th>housing</th>\n",
       "      <th>loan</th>\n",
       "      <th>contact</th>\n",
       "      <th>day</th>\n",
       "      <th>month</th>\n",
       "      <th>duration</th>\n",
       "      <th>campaign</th>\n",
       "      <th>y</th>\n",
       "    </tr>\n",
       "  </thead>\n",
       "  <tbody>\n",
       "    <tr>\n",
       "      <th>0</th>\n",
       "      <td>58</td>\n",
       "      <td>management</td>\n",
       "      <td>married</td>\n",
       "      <td>tertiary</td>\n",
       "      <td>no</td>\n",
       "      <td>2143</td>\n",
       "      <td>yes</td>\n",
       "      <td>no</td>\n",
       "      <td>unknown</td>\n",
       "      <td>5</td>\n",
       "      <td>may</td>\n",
       "      <td>261</td>\n",
       "      <td>1</td>\n",
       "      <td>no</td>\n",
       "    </tr>\n",
       "    <tr>\n",
       "      <th>1</th>\n",
       "      <td>44</td>\n",
       "      <td>technician</td>\n",
       "      <td>single</td>\n",
       "      <td>secondary</td>\n",
       "      <td>no</td>\n",
       "      <td>29</td>\n",
       "      <td>yes</td>\n",
       "      <td>no</td>\n",
       "      <td>unknown</td>\n",
       "      <td>5</td>\n",
       "      <td>may</td>\n",
       "      <td>151</td>\n",
       "      <td>1</td>\n",
       "      <td>no</td>\n",
       "    </tr>\n",
       "    <tr>\n",
       "      <th>2</th>\n",
       "      <td>33</td>\n",
       "      <td>entrepreneur</td>\n",
       "      <td>married</td>\n",
       "      <td>secondary</td>\n",
       "      <td>no</td>\n",
       "      <td>2</td>\n",
       "      <td>yes</td>\n",
       "      <td>yes</td>\n",
       "      <td>unknown</td>\n",
       "      <td>5</td>\n",
       "      <td>may</td>\n",
       "      <td>76</td>\n",
       "      <td>1</td>\n",
       "      <td>no</td>\n",
       "    </tr>\n",
       "    <tr>\n",
       "      <th>3</th>\n",
       "      <td>47</td>\n",
       "      <td>blue-collar</td>\n",
       "      <td>married</td>\n",
       "      <td>unknown</td>\n",
       "      <td>no</td>\n",
       "      <td>1506</td>\n",
       "      <td>yes</td>\n",
       "      <td>no</td>\n",
       "      <td>unknown</td>\n",
       "      <td>5</td>\n",
       "      <td>may</td>\n",
       "      <td>92</td>\n",
       "      <td>1</td>\n",
       "      <td>no</td>\n",
       "    </tr>\n",
       "    <tr>\n",
       "      <th>4</th>\n",
       "      <td>33</td>\n",
       "      <td>unknown</td>\n",
       "      <td>single</td>\n",
       "      <td>unknown</td>\n",
       "      <td>no</td>\n",
       "      <td>1</td>\n",
       "      <td>no</td>\n",
       "      <td>no</td>\n",
       "      <td>unknown</td>\n",
       "      <td>5</td>\n",
       "      <td>may</td>\n",
       "      <td>198</td>\n",
       "      <td>1</td>\n",
       "      <td>no</td>\n",
       "    </tr>\n",
       "    <tr>\n",
       "      <th>...</th>\n",
       "      <td>...</td>\n",
       "      <td>...</td>\n",
       "      <td>...</td>\n",
       "      <td>...</td>\n",
       "      <td>...</td>\n",
       "      <td>...</td>\n",
       "      <td>...</td>\n",
       "      <td>...</td>\n",
       "      <td>...</td>\n",
       "      <td>...</td>\n",
       "      <td>...</td>\n",
       "      <td>...</td>\n",
       "      <td>...</td>\n",
       "      <td>...</td>\n",
       "    </tr>\n",
       "    <tr>\n",
       "      <th>39995</th>\n",
       "      <td>53</td>\n",
       "      <td>technician</td>\n",
       "      <td>married</td>\n",
       "      <td>tertiary</td>\n",
       "      <td>no</td>\n",
       "      <td>395</td>\n",
       "      <td>no</td>\n",
       "      <td>no</td>\n",
       "      <td>cellular</td>\n",
       "      <td>3</td>\n",
       "      <td>jun</td>\n",
       "      <td>107</td>\n",
       "      <td>1</td>\n",
       "      <td>no</td>\n",
       "    </tr>\n",
       "    <tr>\n",
       "      <th>39996</th>\n",
       "      <td>30</td>\n",
       "      <td>management</td>\n",
       "      <td>single</td>\n",
       "      <td>tertiary</td>\n",
       "      <td>no</td>\n",
       "      <td>3340</td>\n",
       "      <td>no</td>\n",
       "      <td>no</td>\n",
       "      <td>cellular</td>\n",
       "      <td>3</td>\n",
       "      <td>jun</td>\n",
       "      <td>238</td>\n",
       "      <td>3</td>\n",
       "      <td>yes</td>\n",
       "    </tr>\n",
       "    <tr>\n",
       "      <th>39997</th>\n",
       "      <td>54</td>\n",
       "      <td>admin</td>\n",
       "      <td>divorced</td>\n",
       "      <td>secondary</td>\n",
       "      <td>no</td>\n",
       "      <td>200</td>\n",
       "      <td>no</td>\n",
       "      <td>no</td>\n",
       "      <td>cellular</td>\n",
       "      <td>3</td>\n",
       "      <td>jun</td>\n",
       "      <td>170</td>\n",
       "      <td>1</td>\n",
       "      <td>yes</td>\n",
       "    </tr>\n",
       "    <tr>\n",
       "      <th>39998</th>\n",
       "      <td>34</td>\n",
       "      <td>management</td>\n",
       "      <td>married</td>\n",
       "      <td>tertiary</td>\n",
       "      <td>no</td>\n",
       "      <td>1047</td>\n",
       "      <td>no</td>\n",
       "      <td>no</td>\n",
       "      <td>cellular</td>\n",
       "      <td>3</td>\n",
       "      <td>jun</td>\n",
       "      <td>342</td>\n",
       "      <td>1</td>\n",
       "      <td>no</td>\n",
       "    </tr>\n",
       "    <tr>\n",
       "      <th>39999</th>\n",
       "      <td>38</td>\n",
       "      <td>technician</td>\n",
       "      <td>married</td>\n",
       "      <td>secondary</td>\n",
       "      <td>no</td>\n",
       "      <td>1442</td>\n",
       "      <td>yes</td>\n",
       "      <td>no</td>\n",
       "      <td>cellular</td>\n",
       "      <td>3</td>\n",
       "      <td>jun</td>\n",
       "      <td>113</td>\n",
       "      <td>1</td>\n",
       "      <td>no</td>\n",
       "    </tr>\n",
       "  </tbody>\n",
       "</table>\n",
       "<p>40000 rows × 14 columns</p>\n",
       "</div>"
      ],
      "text/plain": [
       "       age           job   marital  education default  balance housing loan  \\\n",
       "0       58    management   married   tertiary      no     2143     yes   no   \n",
       "1       44    technician    single  secondary      no       29     yes   no   \n",
       "2       33  entrepreneur   married  secondary      no        2     yes  yes   \n",
       "3       47   blue-collar   married    unknown      no     1506     yes   no   \n",
       "4       33       unknown    single    unknown      no        1      no   no   \n",
       "...    ...           ...       ...        ...     ...      ...     ...  ...   \n",
       "39995   53    technician   married   tertiary      no      395      no   no   \n",
       "39996   30    management    single   tertiary      no     3340      no   no   \n",
       "39997   54         admin  divorced  secondary      no      200      no   no   \n",
       "39998   34    management   married   tertiary      no     1047      no   no   \n",
       "39999   38    technician   married  secondary      no     1442     yes   no   \n",
       "\n",
       "        contact  day month  duration  campaign    y  \n",
       "0       unknown    5   may       261         1   no  \n",
       "1       unknown    5   may       151         1   no  \n",
       "2       unknown    5   may        76         1   no  \n",
       "3       unknown    5   may        92         1   no  \n",
       "4       unknown    5   may       198         1   no  \n",
       "...         ...  ...   ...       ...       ...  ...  \n",
       "39995  cellular    3   jun       107         1   no  \n",
       "39996  cellular    3   jun       238         3  yes  \n",
       "39997  cellular    3   jun       170         1  yes  \n",
       "39998  cellular    3   jun       342         1   no  \n",
       "39999  cellular    3   jun       113         1   no  \n",
       "\n",
       "[40000 rows x 14 columns]"
      ]
     },
     "execution_count": 2,
     "metadata": {},
     "output_type": "execute_result"
    }
   ],
   "source": [
    "df = pd.read_csv(\"term-deposit-marketing-2020.csv\")\n",
    "df"
   ]
  },
  {
   "cell_type": "code",
   "execution_count": 3,
   "metadata": {},
   "outputs": [],
   "source": [
    "df_copy = df.copy()"
   ]
  },
  {
   "cell_type": "code",
   "execution_count": 4,
   "metadata": {},
   "outputs": [
    {
     "name": "stdout",
     "output_type": "stream",
     "text": [
      "<class 'pandas.core.frame.DataFrame'>\n",
      "RangeIndex: 40000 entries, 0 to 39999\n",
      "Data columns (total 14 columns):\n",
      " #   Column     Non-Null Count  Dtype \n",
      "---  ------     --------------  ----- \n",
      " 0   age        40000 non-null  int64 \n",
      " 1   job        40000 non-null  object\n",
      " 2   marital    40000 non-null  object\n",
      " 3   education  40000 non-null  object\n",
      " 4   default    40000 non-null  object\n",
      " 5   balance    40000 non-null  int64 \n",
      " 6   housing    40000 non-null  object\n",
      " 7   loan       40000 non-null  object\n",
      " 8   contact    40000 non-null  object\n",
      " 9   day        40000 non-null  int64 \n",
      " 10  month      40000 non-null  object\n",
      " 11  duration   40000 non-null  int64 \n",
      " 12  campaign   40000 non-null  int64 \n",
      " 13  y          40000 non-null  object\n",
      "dtypes: int64(5), object(9)\n",
      "memory usage: 4.3+ MB\n"
     ]
    }
   ],
   "source": [
    "df.info()"
   ]
  },
  {
   "cell_type": "code",
   "execution_count": 5,
   "metadata": {},
   "outputs": [
    {
     "data": {
      "text/plain": [
       "age          0\n",
       "job          0\n",
       "marital      0\n",
       "education    0\n",
       "default      0\n",
       "balance      0\n",
       "housing      0\n",
       "loan         0\n",
       "contact      0\n",
       "day          0\n",
       "month        0\n",
       "duration     0\n",
       "campaign     0\n",
       "y            0\n",
       "dtype: int64"
      ]
     },
     "execution_count": 5,
     "metadata": {},
     "output_type": "execute_result"
    }
   ],
   "source": [
    "df.isnull().sum()"
   ]
  },
  {
   "cell_type": "markdown",
   "metadata": {},
   "source": [
    "* Veri seti içerisinde null veri gözükmemektedir. Ancak, birçok unknown etiketli veri olduğu için dönüşüm yapmamız gerekmektedir."
   ]
  },
  {
   "cell_type": "markdown",
   "metadata": {},
   "source": [
    "### Unique Values\n",
    "\n",
    "Kolonlar içerisindeki verilerin nasıl bir düzende olduğunu görmek için bakıyoruz."
   ]
  },
  {
   "cell_type": "code",
   "execution_count": 6,
   "metadata": {},
   "outputs": [],
   "source": [
    "def print_uniques(df):\n",
    "    cols = [\"job\", \"marital\", \"education\", \"default\", \"housing\", \"loan\", \"contact\", \"day\", \"month\", \"campaign\", \"y\"]\n",
    "\n",
    "    for col in cols:\n",
    "        print(col, df[col].unique())"
   ]
  },
  {
   "cell_type": "code",
   "execution_count": 7,
   "metadata": {},
   "outputs": [
    {
     "name": "stdout",
     "output_type": "stream",
     "text": [
      "job ['management' 'technician' 'entrepreneur' 'blue-collar' 'unknown'\n",
      " 'retired' 'admin' 'services' 'self-employed' 'unemployed' 'housemaid'\n",
      " 'student']\n",
      "marital ['married' 'single' 'divorced']\n",
      "education ['tertiary' 'secondary' 'unknown' 'primary']\n",
      "default ['no' 'yes']\n",
      "housing ['yes' 'no']\n",
      "loan ['no' 'yes']\n",
      "contact ['unknown' 'cellular' 'telephone']\n",
      "day [ 5  6  7  8  9 12 13 14 15 16 19 20 21 23 26 27 28 29 30  2  3  4 11 17\n",
      " 18 24 25  1 10 22 31]\n",
      "month ['may' 'jun' 'jul' 'aug' 'oct' 'nov' 'dec' 'jan' 'feb' 'mar' 'apr']\n",
      "campaign [ 1  2  3  5  4  6  7  8  9 10 11 12 13 19 14 24 16 32 18 22 15 17 25 21\n",
      " 43 51 63 41 26 28 55 50 38 23 20 29 31 37 30 46 27 58 33 35 34 36 39 44]\n",
      "y ['no' 'yes']\n"
     ]
    }
   ],
   "source": [
    "print_uniques(df)"
   ]
  },
  {
   "cell_type": "markdown",
   "metadata": {},
   "source": [
    "### Data Visualization"
   ]
  },
  {
   "cell_type": "code",
   "execution_count": 8,
   "metadata": {},
   "outputs": [],
   "source": [
    "import matplotlib.pyplot as plt\n",
    "import seaborn as sns"
   ]
  },
  {
   "cell_type": "code",
   "execution_count": 9,
   "metadata": {},
   "outputs": [
    {
     "data": {
      "text/html": [
       "<div>\n",
       "<style scoped>\n",
       "    .dataframe tbody tr th:only-of-type {\n",
       "        vertical-align: middle;\n",
       "    }\n",
       "\n",
       "    .dataframe tbody tr th {\n",
       "        vertical-align: top;\n",
       "    }\n",
       "\n",
       "    .dataframe thead th {\n",
       "        text-align: right;\n",
       "    }\n",
       "</style>\n",
       "<table border=\"1\" class=\"dataframe\">\n",
       "  <thead>\n",
       "    <tr style=\"text-align: right;\">\n",
       "      <th></th>\n",
       "      <th>age</th>\n",
       "      <th>job</th>\n",
       "      <th>marital</th>\n",
       "      <th>education</th>\n",
       "      <th>default</th>\n",
       "      <th>balance</th>\n",
       "      <th>housing</th>\n",
       "      <th>loan</th>\n",
       "      <th>contact</th>\n",
       "      <th>day</th>\n",
       "      <th>month</th>\n",
       "      <th>duration</th>\n",
       "      <th>campaign</th>\n",
       "      <th>y</th>\n",
       "    </tr>\n",
       "  </thead>\n",
       "  <tbody>\n",
       "    <tr>\n",
       "      <th>0</th>\n",
       "      <td>58</td>\n",
       "      <td>management</td>\n",
       "      <td>married</td>\n",
       "      <td>tertiary</td>\n",
       "      <td>no</td>\n",
       "      <td>2143</td>\n",
       "      <td>yes</td>\n",
       "      <td>no</td>\n",
       "      <td>unknown</td>\n",
       "      <td>5</td>\n",
       "      <td>may</td>\n",
       "      <td>261</td>\n",
       "      <td>1</td>\n",
       "      <td>no</td>\n",
       "    </tr>\n",
       "    <tr>\n",
       "      <th>1</th>\n",
       "      <td>44</td>\n",
       "      <td>technician</td>\n",
       "      <td>single</td>\n",
       "      <td>secondary</td>\n",
       "      <td>no</td>\n",
       "      <td>29</td>\n",
       "      <td>yes</td>\n",
       "      <td>no</td>\n",
       "      <td>unknown</td>\n",
       "      <td>5</td>\n",
       "      <td>may</td>\n",
       "      <td>151</td>\n",
       "      <td>1</td>\n",
       "      <td>no</td>\n",
       "    </tr>\n",
       "    <tr>\n",
       "      <th>2</th>\n",
       "      <td>33</td>\n",
       "      <td>entrepreneur</td>\n",
       "      <td>married</td>\n",
       "      <td>secondary</td>\n",
       "      <td>no</td>\n",
       "      <td>2</td>\n",
       "      <td>yes</td>\n",
       "      <td>yes</td>\n",
       "      <td>unknown</td>\n",
       "      <td>5</td>\n",
       "      <td>may</td>\n",
       "      <td>76</td>\n",
       "      <td>1</td>\n",
       "      <td>no</td>\n",
       "    </tr>\n",
       "    <tr>\n",
       "      <th>3</th>\n",
       "      <td>47</td>\n",
       "      <td>blue-collar</td>\n",
       "      <td>married</td>\n",
       "      <td>unknown</td>\n",
       "      <td>no</td>\n",
       "      <td>1506</td>\n",
       "      <td>yes</td>\n",
       "      <td>no</td>\n",
       "      <td>unknown</td>\n",
       "      <td>5</td>\n",
       "      <td>may</td>\n",
       "      <td>92</td>\n",
       "      <td>1</td>\n",
       "      <td>no</td>\n",
       "    </tr>\n",
       "    <tr>\n",
       "      <th>4</th>\n",
       "      <td>33</td>\n",
       "      <td>unknown</td>\n",
       "      <td>single</td>\n",
       "      <td>unknown</td>\n",
       "      <td>no</td>\n",
       "      <td>1</td>\n",
       "      <td>no</td>\n",
       "      <td>no</td>\n",
       "      <td>unknown</td>\n",
       "      <td>5</td>\n",
       "      <td>may</td>\n",
       "      <td>198</td>\n",
       "      <td>1</td>\n",
       "      <td>no</td>\n",
       "    </tr>\n",
       "  </tbody>\n",
       "</table>\n",
       "</div>"
      ],
      "text/plain": [
       "   age           job  marital  education default  balance housing loan  \\\n",
       "0   58    management  married   tertiary      no     2143     yes   no   \n",
       "1   44    technician   single  secondary      no       29     yes   no   \n",
       "2   33  entrepreneur  married  secondary      no        2     yes  yes   \n",
       "3   47   blue-collar  married    unknown      no     1506     yes   no   \n",
       "4   33       unknown   single    unknown      no        1      no   no   \n",
       "\n",
       "   contact  day month  duration  campaign   y  \n",
       "0  unknown    5   may       261         1  no  \n",
       "1  unknown    5   may       151         1  no  \n",
       "2  unknown    5   may        76         1  no  \n",
       "3  unknown    5   may        92         1  no  \n",
       "4  unknown    5   may       198         1  no  "
      ]
     },
     "execution_count": 9,
     "metadata": {},
     "output_type": "execute_result"
    }
   ],
   "source": [
    "df.head()"
   ]
  },
  {
   "cell_type": "code",
   "execution_count": 10,
   "metadata": {},
   "outputs": [
    {
     "data": {
      "text/html": [
       "<div>\n",
       "<style scoped>\n",
       "    .dataframe tbody tr th:only-of-type {\n",
       "        vertical-align: middle;\n",
       "    }\n",
       "\n",
       "    .dataframe tbody tr th {\n",
       "        vertical-align: top;\n",
       "    }\n",
       "\n",
       "    .dataframe thead th {\n",
       "        text-align: right;\n",
       "    }\n",
       "</style>\n",
       "<table border=\"1\" class=\"dataframe\">\n",
       "  <thead>\n",
       "    <tr style=\"text-align: right;\">\n",
       "      <th></th>\n",
       "      <th>count</th>\n",
       "      <th>mean</th>\n",
       "      <th>std</th>\n",
       "      <th>min</th>\n",
       "      <th>25%</th>\n",
       "      <th>50%</th>\n",
       "      <th>75%</th>\n",
       "      <th>max</th>\n",
       "    </tr>\n",
       "  </thead>\n",
       "  <tbody>\n",
       "    <tr>\n",
       "      <th>age</th>\n",
       "      <td>40000.0</td>\n",
       "      <td>40.544600</td>\n",
       "      <td>9.641776</td>\n",
       "      <td>19.0</td>\n",
       "      <td>33.0</td>\n",
       "      <td>39.0</td>\n",
       "      <td>48.0</td>\n",
       "      <td>95.0</td>\n",
       "    </tr>\n",
       "    <tr>\n",
       "      <th>balance</th>\n",
       "      <td>40000.0</td>\n",
       "      <td>1274.277550</td>\n",
       "      <td>2903.769716</td>\n",
       "      <td>-8019.0</td>\n",
       "      <td>54.0</td>\n",
       "      <td>407.0</td>\n",
       "      <td>1319.0</td>\n",
       "      <td>102127.0</td>\n",
       "    </tr>\n",
       "    <tr>\n",
       "      <th>day</th>\n",
       "      <td>40000.0</td>\n",
       "      <td>16.017225</td>\n",
       "      <td>8.278127</td>\n",
       "      <td>1.0</td>\n",
       "      <td>8.0</td>\n",
       "      <td>17.0</td>\n",
       "      <td>21.0</td>\n",
       "      <td>31.0</td>\n",
       "    </tr>\n",
       "    <tr>\n",
       "      <th>duration</th>\n",
       "      <td>40000.0</td>\n",
       "      <td>254.824300</td>\n",
       "      <td>259.366498</td>\n",
       "      <td>0.0</td>\n",
       "      <td>100.0</td>\n",
       "      <td>175.0</td>\n",
       "      <td>313.0</td>\n",
       "      <td>4918.0</td>\n",
       "    </tr>\n",
       "    <tr>\n",
       "      <th>campaign</th>\n",
       "      <td>40000.0</td>\n",
       "      <td>2.882175</td>\n",
       "      <td>3.239051</td>\n",
       "      <td>1.0</td>\n",
       "      <td>1.0</td>\n",
       "      <td>2.0</td>\n",
       "      <td>3.0</td>\n",
       "      <td>63.0</td>\n",
       "    </tr>\n",
       "  </tbody>\n",
       "</table>\n",
       "</div>"
      ],
      "text/plain": [
       "            count         mean          std     min    25%    50%     75%  \\\n",
       "age       40000.0    40.544600     9.641776    19.0   33.0   39.0    48.0   \n",
       "balance   40000.0  1274.277550  2903.769716 -8019.0   54.0  407.0  1319.0   \n",
       "day       40000.0    16.017225     8.278127     1.0    8.0   17.0    21.0   \n",
       "duration  40000.0   254.824300   259.366498     0.0  100.0  175.0   313.0   \n",
       "campaign  40000.0     2.882175     3.239051     1.0    1.0    2.0     3.0   \n",
       "\n",
       "               max  \n",
       "age           95.0  \n",
       "balance   102127.0  \n",
       "day           31.0  \n",
       "duration    4918.0  \n",
       "campaign      63.0  "
      ]
     },
     "execution_count": 10,
     "metadata": {},
     "output_type": "execute_result"
    }
   ],
   "source": [
    "df.describe().T"
   ]
  },
  {
   "cell_type": "markdown",
   "metadata": {},
   "source": [
    "#### Age Distribution"
   ]
  },
  {
   "cell_type": "code",
   "execution_count": 11,
   "metadata": {},
   "outputs": [
    {
     "data": {
      "text/plain": [
       "<AxesSubplot:ylabel='Frequency'>"
      ]
     },
     "execution_count": 11,
     "metadata": {},
     "output_type": "execute_result"
    },
    {
     "data": {
      "image/png": "[encoded data removed]",
      "text/plain": [
       "<Figure size 432x288 with 1 Axes>"
      ]
     },
     "metadata": {
      "needs_background": "light"
     },
     "output_type": "display_data"
    }
   ],
   "source": [
    "df[\"age\"].plot.hist(bins=len(df[\"age\"].unique()))"
   ]
  },
  {
   "cell_type": "code",
   "execution_count": 12,
   "metadata": {},
   "outputs": [
    {
     "name": "stderr",
     "output_type": "stream",
     "text": [
      "C:\\Users\\Einsteinekeine\\Anaconda3\\envs\\ds\\lib\\site-packages\\seaborn\\distributions.py:2551: FutureWarning: `distplot` is a deprecated function and will be removed in a future version. Please adapt your code to use either `displot` (a figure-level function with similar flexibility) or `histplot` (an axes-level function for histograms).\n",
      "  warnings.warn(msg, FutureWarning)\n"
     ]
    },
    {
     "data": {
      "text/plain": [
       "<AxesSubplot:xlabel='age', ylabel='Density'>"
      ]
     },
     "execution_count": 12,
     "metadata": {},
     "output_type": "execute_result"
    },
    {
     "data": {
      "image/png": "[encoded data removed]",
      "text/plain": [
       "<Figure size 432x288 with 1 Axes>"
      ]
     },
     "metadata": {
      "needs_background": "light"
     },
     "output_type": "display_data"
    }
   ],
   "source": [
    "sns.distplot(df[\"age\"])"
   ]
  },
  {
   "cell_type": "markdown",
   "metadata": {},
   "source": [
    "#### Job Distribution"
   ]
  },
  {
   "cell_type": "code",
   "execution_count": 13,
   "metadata": {},
   "outputs": [
    {
     "data": {
      "text/plain": [
       "<AxesSubplot:ylabel='job'>"
      ]
     },
     "execution_count": 13,
     "metadata": {},
     "output_type": "execute_result"
    },
    {
     "data": {
      "image/png": "[encoded data removed]",
      "text/plain": [
       "<Figure size 432x288 with 2 Axes>"
      ]
     },
     "metadata": {
      "needs_background": "light"
     },
     "output_type": "display_data"
    }
   ],
   "source": [
    "fig, (ax, ax2) = plt.subplots(ncols=2)\n",
    "df[\"job\"].value_counts().plot.bar(ax=ax)\n",
    "df[\"job\"].value_counts().plot.pie(ax=ax2)"
   ]
  },
  {
   "cell_type": "markdown",
   "metadata": {},
   "source": [
    "#### Marital Distribution"
   ]
  },
  {
   "cell_type": "code",
   "execution_count": 14,
   "metadata": {},
   "outputs": [
    {
     "data": {
      "text/plain": [
       "<AxesSubplot:ylabel='marital'>"
      ]
     },
     "execution_count": 14,
     "metadata": {},
     "output_type": "execute_result"
    },
    {
     "data": {
      "image/png": "[encoded data removed]",
      "text/plain": [
       "<Figure size 432x288 with 2 Axes>"
      ]
     },
     "metadata": {
      "needs_background": "light"
     },
     "output_type": "display_data"
    }
   ],
   "source": [
    "fig, (ax, ax2) = plt.subplots(ncols=2)\n",
    "df[\"marital\"].value_counts().plot.bar(ax=ax)\n",
    "df[\"marital\"].value_counts().plot.pie(ax=ax2)"
   ]
  },
  {
   "cell_type": "markdown",
   "metadata": {},
   "source": [
    "#### Education Distribution"
   ]
  },
  {
   "cell_type": "code",
   "execution_count": 15,
   "metadata": {},
   "outputs": [
    {
     "data": {
      "text/plain": [
       "<AxesSubplot:ylabel='education'>"
      ]
     },
     "execution_count": 15,
     "metadata": {},
     "output_type": "execute_result"
    },
    {
     "data": {
      "image/png": "[encoded data removed]",
      "text/plain": [
       "<Figure size 432x288 with 2 Axes>"
      ]
     },
     "metadata": {
      "needs_background": "light"
     },
     "output_type": "display_data"
    }
   ],
   "source": [
    "fig, (ax, ax2) = plt.subplots(ncols=2)\n",
    "df[\"education\"].value_counts().plot.bar(ax=ax)\n",
    "df[\"education\"].value_counts().plot.pie(ax=ax2)"
   ]
  },
  {
   "cell_type": "markdown",
   "metadata": {},
   "source": [
    "#### Default Distribution\n",
    "\n",
    "**default:** has credit in default"
   ]
  },
  {
   "cell_type": "code",
   "execution_count": 16,
   "metadata": {},
   "outputs": [
    {
     "data": {
      "text/plain": [
       "<AxesSubplot:ylabel='default'>"
      ]
     },
     "execution_count": 16,
     "metadata": {},
     "output_type": "execute_result"
    },
    {
     "data": {
      "image/png": "[encoded data removed]",
      "text/plain": [
       "<Figure size 432x288 with 2 Axes>"
      ]
     },
     "metadata": {
      "needs_background": "light"
     },
     "output_type": "display_data"
    }
   ],
   "source": [
    "fig, (ax, ax2) = plt.subplots(ncols=2)\n",
    "df[\"default\"].value_counts().plot.bar(ax=ax)\n",
    "df[\"default\"].value_counts().plot.pie(ax=ax2)"
   ]
  },
  {
   "cell_type": "markdown",
   "metadata": {},
   "source": [
    "#### Balance Distribution\n",
    "\n",
    "**balance:** average yearly balance, in euros"
   ]
  },
  {
   "cell_type": "code",
   "execution_count": 17,
   "metadata": {},
   "outputs": [
    {
     "data": {
      "text/plain": [
       "<AxesSubplot:ylabel='Frequency'>"
      ]
     },
     "execution_count": 17,
     "metadata": {},
     "output_type": "execute_result"
    },
    {
     "data": {
      "image/png": "[encoded data removed]",
      "text/plain": [
       "<Figure size 432x288 with 1 Axes>"
      ]
     },
     "metadata": {
      "needs_background": "light"
     },
     "output_type": "display_data"
    }
   ],
   "source": [
    "df[\"balance\"].plot.hist(bins=20)"
   ]
  },
  {
   "cell_type": "code",
   "execution_count": 18,
   "metadata": {},
   "outputs": [
    {
     "name": "stderr",
     "output_type": "stream",
     "text": [
      "C:\\Users\\Einsteinekeine\\Anaconda3\\envs\\ds\\lib\\site-packages\\seaborn\\_decorators.py:43: FutureWarning: Pass the following variable as a keyword arg: x. From version 0.12, the only valid positional argument will be `data`, and passing other arguments without an explicit keyword will result in an error or misinterpretation.\n",
      "  FutureWarning\n"
     ]
    },
    {
     "data": {
      "text/plain": [
       "<AxesSubplot:xlabel='balance'>"
      ]
     },
     "execution_count": 18,
     "metadata": {},
     "output_type": "execute_result"
    },
    {
     "data": {
      "image/png": "[encoded data removed]",
      "text/plain": [
       "<Figure size 432x288 with 1 Axes>"
      ]
     },
     "metadata": {
      "needs_background": "light"
     },
     "output_type": "display_data"
    }
   ],
   "source": [
    "sns.boxplot(df[\"balance\"])"
   ]
  },
  {
   "cell_type": "markdown",
   "metadata": {},
   "source": [
    "* balance değerleri şüpheli görünüyor."
   ]
  },
  {
   "cell_type": "code",
   "execution_count": 19,
   "metadata": {},
   "outputs": [
    {
     "name": "stderr",
     "output_type": "stream",
     "text": [
      "C:\\Users\\Einsteinekeine\\Anaconda3\\envs\\ds\\lib\\site-packages\\seaborn\\distributions.py:2551: FutureWarning: `distplot` is a deprecated function and will be removed in a future version. Please adapt your code to use either `displot` (a figure-level function with similar flexibility) or `histplot` (an axes-level function for histograms).\n",
      "  warnings.warn(msg, FutureWarning)\n"
     ]
    },
    {
     "data": {
      "text/plain": [
       "<AxesSubplot:xlabel='balance', ylabel='Density'>"
      ]
     },
     "execution_count": 19,
     "metadata": {},
     "output_type": "execute_result"
    },
    {
     "data": {
      "image/png": "[encoded data removed]",
      "text/plain": [
       "<Figure size 432x288 with 1 Axes>"
      ]
     },
     "metadata": {
      "needs_background": "light"
     },
     "output_type": "display_data"
    }
   ],
   "source": [
    "sns.distplot(df[\"balance\"])"
   ]
  },
  {
   "cell_type": "markdown",
   "metadata": {},
   "source": [
    "#### Housing Distribution"
   ]
  },
  {
   "cell_type": "code",
   "execution_count": 20,
   "metadata": {},
   "outputs": [
    {
     "data": {
      "text/plain": [
       "<AxesSubplot:ylabel='housing'>"
      ]
     },
     "execution_count": 20,
     "metadata": {},
     "output_type": "execute_result"
    },
    {
     "data": {
      "image/png": "[encoded data removed]",
      "text/plain": [
       "<Figure size 432x288 with 1 Axes>"
      ]
     },
     "metadata": {},
     "output_type": "display_data"
    }
   ],
   "source": [
    "df[\"housing\"].value_counts().plot.pie()"
   ]
  },
  {
   "cell_type": "markdown",
   "metadata": {},
   "source": [
    "#### Loan Distribution"
   ]
  },
  {
   "cell_type": "code",
   "execution_count": 21,
   "metadata": {},
   "outputs": [
    {
     "data": {
      "text/plain": [
       "<AxesSubplot:ylabel='loan'>"
      ]
     },
     "execution_count": 21,
     "metadata": {},
     "output_type": "execute_result"
    },
    {
     "data": {
      "image/png": "[encoded data removed]",
      "text/plain": [
       "<Figure size 432x288 with 1 Axes>"
      ]
     },
     "metadata": {},
     "output_type": "display_data"
    }
   ],
   "source": [
    "df[\"loan\"].value_counts().plot.pie()"
   ]
  },
  {
   "cell_type": "markdown",
   "metadata": {},
   "source": [
    "#### Contact Distribution"
   ]
  },
  {
   "cell_type": "code",
   "execution_count": 22,
   "metadata": {},
   "outputs": [
    {
     "data": {
      "text/plain": [
       "<AxesSubplot:ylabel='contact'>"
      ]
     },
     "execution_count": 22,
     "metadata": {},
     "output_type": "execute_result"
    },
    {
     "data": {
      "image/png": "[encoded data removed]",
      "text/plain": [
       "<Figure size 432x288 with 1 Axes>"
      ]
     },
     "metadata": {},
     "output_type": "display_data"
    }
   ],
   "source": [
    "df[\"contact\"].value_counts().plot.pie()"
   ]
  },
  {
   "cell_type": "markdown",
   "metadata": {},
   "source": [
    "#### Day Distribution\n",
    "\n",
    "**day:**  last contact day of the month"
   ]
  },
  {
   "cell_type": "code",
   "execution_count": 23,
   "metadata": {},
   "outputs": [
    {
     "data": {
      "text/plain": [
       "<AxesSubplot:>"
      ]
     },
     "execution_count": 23,
     "metadata": {},
     "output_type": "execute_result"
    },
    {
     "data": {
      "image/png": "[encoded data removed]",
      "text/plain": [
       "<Figure size 432x288 with 1 Axes>"
      ]
     },
     "metadata": {
      "needs_background": "light"
     },
     "output_type": "display_data"
    }
   ],
   "source": [
    "df[\"day\"].value_counts().sort_index().plot.bar()"
   ]
  },
  {
   "cell_type": "code",
   "execution_count": 24,
   "metadata": {},
   "outputs": [
    {
     "name": "stderr",
     "output_type": "stream",
     "text": [
      "C:\\Users\\Einsteinekeine\\Anaconda3\\envs\\ds\\lib\\site-packages\\seaborn\\distributions.py:2551: FutureWarning: `distplot` is a deprecated function and will be removed in a future version. Please adapt your code to use either `displot` (a figure-level function with similar flexibility) or `histplot` (an axes-level function for histograms).\n",
      "  warnings.warn(msg, FutureWarning)\n"
     ]
    },
    {
     "data": {
      "text/plain": [
       "<AxesSubplot:xlabel='day', ylabel='Density'>"
      ]
     },
     "execution_count": 24,
     "metadata": {},
     "output_type": "execute_result"
    },
    {
     "data": {
      "image/png": "[encoded data removed]",
      "text/plain": [
       "<Figure size 432x288 with 1 Axes>"
      ]
     },
     "metadata": {
      "needs_background": "light"
     },
     "output_type": "display_data"
    }
   ],
   "source": [
    "sns.distplot(df[\"day\"])"
   ]
  },
  {
   "cell_type": "markdown",
   "metadata": {},
   "source": [
    "#### Month Distribution\n",
    "\n",
    "**month:** last contact month of year"
   ]
  },
  {
   "cell_type": "code",
   "execution_count": 25,
   "metadata": {},
   "outputs": [],
   "source": [
    "months = [\"jan\", \"feb\", \"mar\", \"apr\", \"may\", \"jun\", \"jul\", \"aug\", \"sep\", \"oct\", \"nov\", \"dec\"]"
   ]
  },
  {
   "cell_type": "code",
   "execution_count": 26,
   "metadata": {},
   "outputs": [
    {
     "data": {
      "text/plain": [
       "<AxesSubplot:>"
      ]
     },
     "execution_count": 26,
     "metadata": {},
     "output_type": "execute_result"
    },
    {
     "data": {
      "image/png": "[encoded data removed]",
      "text/plain": [
       "<Figure size 432x288 with 1 Axes>"
      ]
     },
     "metadata": {
      "needs_background": "light"
     },
     "output_type": "display_data"
    }
   ],
   "source": [
    "df[\"month\"].value_counts().reindex(months).plot.bar()"
   ]
  },
  {
   "cell_type": "markdown",
   "metadata": {},
   "source": [
    "#### Duration Distribution\n",
    "\n",
    "**duration:** last contact duration, in seconds "
   ]
  },
  {
   "cell_type": "code",
   "execution_count": 27,
   "metadata": {},
   "outputs": [
    {
     "data": {
      "text/plain": [
       "<AxesSubplot:ylabel='Frequency'>"
      ]
     },
     "execution_count": 27,
     "metadata": {},
     "output_type": "execute_result"
    },
    {
     "data": {
      "image/png": "[encoded data removed]",
      "text/plain": [
       "<Figure size 432x288 with 1 Axes>"
      ]
     },
     "metadata": {
      "needs_background": "light"
     },
     "output_type": "display_data"
    }
   ],
   "source": [
    "df[\"duration\"].value_counts().sort_index().plot.hist(bins=10)"
   ]
  },
  {
   "cell_type": "markdown",
   "metadata": {},
   "source": [
    "#### Campaign Distribution\n",
    "\n",
    "**campaign**: number of contacts performed during this campaign and for this client"
   ]
  },
  {
   "cell_type": "code",
   "execution_count": 28,
   "metadata": {},
   "outputs": [
    {
     "data": {
      "text/plain": [
       "<AxesSubplot:>"
      ]
     },
     "execution_count": 28,
     "metadata": {},
     "output_type": "execute_result"
    },
    {
     "data": {
      "image/png": "[encoded data removed]",
      "text/plain": [
       "<Figure size 432x288 with 1 Axes>"
      ]
     },
     "metadata": {
      "needs_background": "light"
     },
     "output_type": "display_data"
    }
   ],
   "source": [
    "df[\"campaign\"].value_counts().plot.bar()"
   ]
  },
  {
   "cell_type": "markdown",
   "metadata": {},
   "source": [
    "#### Subscription Distribution\n",
    "\n",
    "**y** - has the client subscribed to a term deposit"
   ]
  },
  {
   "cell_type": "code",
   "execution_count": 29,
   "metadata": {},
   "outputs": [
    {
     "data": {
      "text/plain": [
       "<AxesSubplot:ylabel='y'>"
      ]
     },
     "execution_count": 29,
     "metadata": {},
     "output_type": "execute_result"
    },
    {
     "data": {
      "image/png": "[encoded data removed]",
      "text/plain": [
       "<Figure size 432x288 with 2 Axes>"
      ]
     },
     "metadata": {
      "needs_background": "light"
     },
     "output_type": "display_data"
    }
   ],
   "source": [
    "fig, (ax, ax2) = plt.subplots(ncols=2)\n",
    "df[\"y\"].value_counts().plot.bar(ax=ax)\n",
    "df[\"y\"].value_counts().plot.pie(ax=ax2)"
   ]
  },
  {
   "cell_type": "markdown",
   "metadata": {},
   "source": [
    "## Data Preprocessing\n",
    "### Transforming Null Values"
   ]
  },
  {
   "cell_type": "code",
   "execution_count": 30,
   "metadata": {},
   "outputs": [],
   "source": [
    "df.replace(\"unknown\", np.nan, inplace=True)"
   ]
  },
  {
   "cell_type": "code",
   "execution_count": 31,
   "metadata": {},
   "outputs": [
    {
     "data": {
      "text/plain": [
       "age              0\n",
       "job            235\n",
       "marital          0\n",
       "education     1531\n",
       "default          0\n",
       "balance          0\n",
       "housing          0\n",
       "loan             0\n",
       "contact      12765\n",
       "day              0\n",
       "month            0\n",
       "duration         0\n",
       "campaign         0\n",
       "y                0\n",
       "dtype: int64"
      ]
     },
     "execution_count": 31,
     "metadata": {},
     "output_type": "execute_result"
    }
   ],
   "source": [
    "df.isna().sum()"
   ]
  },
  {
   "cell_type": "code",
   "execution_count": 32,
   "metadata": {},
   "outputs": [
    {
     "name": "stdout",
     "output_type": "stream",
     "text": [
      "job ['management' 'technician' 'entrepreneur' 'blue-collar' nan 'retired'\n",
      " 'admin' 'services' 'self-employed' 'unemployed' 'housemaid' 'student']\n",
      "marital ['married' 'single' 'divorced']\n",
      "education ['tertiary' 'secondary' nan 'primary']\n",
      "default ['no' 'yes']\n",
      "housing ['yes' 'no']\n",
      "loan ['no' 'yes']\n",
      "contact [nan 'cellular' 'telephone']\n",
      "day [ 5  6  7  8  9 12 13 14 15 16 19 20 21 23 26 27 28 29 30  2  3  4 11 17\n",
      " 18 24 25  1 10 22 31]\n",
      "month ['may' 'jun' 'jul' 'aug' 'oct' 'nov' 'dec' 'jan' 'feb' 'mar' 'apr']\n",
      "campaign [ 1  2  3  5  4  6  7  8  9 10 11 12 13 19 14 24 16 32 18 22 15 17 25 21\n",
      " 43 51 63 41 26 28 55 50 38 23 20 29 31 37 30 46 27 58 33 35 34 36 39 44]\n",
      "y ['no' 'yes']\n"
     ]
    }
   ],
   "source": [
    "print_uniques(df)"
   ]
  },
  {
   "cell_type": "code",
   "execution_count": 33,
   "metadata": {},
   "outputs": [
    {
     "data": {
      "text/html": [
       "<div>\n",
       "<style scoped>\n",
       "    .dataframe tbody tr th:only-of-type {\n",
       "        vertical-align: middle;\n",
       "    }\n",
       "\n",
       "    .dataframe tbody tr th {\n",
       "        vertical-align: top;\n",
       "    }\n",
       "\n",
       "    .dataframe thead th {\n",
       "        text-align: right;\n",
       "    }\n",
       "</style>\n",
       "<table border=\"1\" class=\"dataframe\">\n",
       "  <thead>\n",
       "    <tr style=\"text-align: right;\">\n",
       "      <th></th>\n",
       "      <th>age</th>\n",
       "      <th>job</th>\n",
       "      <th>marital</th>\n",
       "      <th>education</th>\n",
       "      <th>default</th>\n",
       "      <th>balance</th>\n",
       "      <th>housing</th>\n",
       "      <th>loan</th>\n",
       "      <th>contact</th>\n",
       "      <th>day</th>\n",
       "      <th>month</th>\n",
       "      <th>duration</th>\n",
       "      <th>campaign</th>\n",
       "      <th>y</th>\n",
       "    </tr>\n",
       "  </thead>\n",
       "  <tbody>\n",
       "    <tr>\n",
       "      <th>0</th>\n",
       "      <td>58</td>\n",
       "      <td>management</td>\n",
       "      <td>married</td>\n",
       "      <td>tertiary</td>\n",
       "      <td>no</td>\n",
       "      <td>2143</td>\n",
       "      <td>yes</td>\n",
       "      <td>no</td>\n",
       "      <td>NaN</td>\n",
       "      <td>5</td>\n",
       "      <td>may</td>\n",
       "      <td>261</td>\n",
       "      <td>1</td>\n",
       "      <td>no</td>\n",
       "    </tr>\n",
       "    <tr>\n",
       "      <th>1</th>\n",
       "      <td>44</td>\n",
       "      <td>technician</td>\n",
       "      <td>single</td>\n",
       "      <td>secondary</td>\n",
       "      <td>no</td>\n",
       "      <td>29</td>\n",
       "      <td>yes</td>\n",
       "      <td>no</td>\n",
       "      <td>NaN</td>\n",
       "      <td>5</td>\n",
       "      <td>may</td>\n",
       "      <td>151</td>\n",
       "      <td>1</td>\n",
       "      <td>no</td>\n",
       "    </tr>\n",
       "    <tr>\n",
       "      <th>2</th>\n",
       "      <td>33</td>\n",
       "      <td>entrepreneur</td>\n",
       "      <td>married</td>\n",
       "      <td>secondary</td>\n",
       "      <td>no</td>\n",
       "      <td>2</td>\n",
       "      <td>yes</td>\n",
       "      <td>yes</td>\n",
       "      <td>NaN</td>\n",
       "      <td>5</td>\n",
       "      <td>may</td>\n",
       "      <td>76</td>\n",
       "      <td>1</td>\n",
       "      <td>no</td>\n",
       "    </tr>\n",
       "    <tr>\n",
       "      <th>3</th>\n",
       "      <td>47</td>\n",
       "      <td>blue-collar</td>\n",
       "      <td>married</td>\n",
       "      <td>NaN</td>\n",
       "      <td>no</td>\n",
       "      <td>1506</td>\n",
       "      <td>yes</td>\n",
       "      <td>no</td>\n",
       "      <td>NaN</td>\n",
       "      <td>5</td>\n",
       "      <td>may</td>\n",
       "      <td>92</td>\n",
       "      <td>1</td>\n",
       "      <td>no</td>\n",
       "    </tr>\n",
       "    <tr>\n",
       "      <th>4</th>\n",
       "      <td>33</td>\n",
       "      <td>NaN</td>\n",
       "      <td>single</td>\n",
       "      <td>NaN</td>\n",
       "      <td>no</td>\n",
       "      <td>1</td>\n",
       "      <td>no</td>\n",
       "      <td>no</td>\n",
       "      <td>NaN</td>\n",
       "      <td>5</td>\n",
       "      <td>may</td>\n",
       "      <td>198</td>\n",
       "      <td>1</td>\n",
       "      <td>no</td>\n",
       "    </tr>\n",
       "  </tbody>\n",
       "</table>\n",
       "</div>"
      ],
      "text/plain": [
       "   age           job  marital  education default  balance housing loan  \\\n",
       "0   58    management  married   tertiary      no     2143     yes   no   \n",
       "1   44    technician   single  secondary      no       29     yes   no   \n",
       "2   33  entrepreneur  married  secondary      no        2     yes  yes   \n",
       "3   47   blue-collar  married        NaN      no     1506     yes   no   \n",
       "4   33           NaN   single        NaN      no        1      no   no   \n",
       "\n",
       "  contact  day month  duration  campaign   y  \n",
       "0     NaN    5   may       261         1  no  \n",
       "1     NaN    5   may       151         1  no  \n",
       "2     NaN    5   may        76         1  no  \n",
       "3     NaN    5   may        92         1  no  \n",
       "4     NaN    5   may       198         1  no  "
      ]
     },
     "execution_count": 33,
     "metadata": {},
     "output_type": "execute_result"
    }
   ],
   "source": [
    "df.head()"
   ]
  },
  {
   "cell_type": "markdown",
   "metadata": {},
   "source": [
    "### Missing Values"
   ]
  },
  {
   "cell_type": "code",
   "execution_count": 34,
   "metadata": {},
   "outputs": [],
   "source": [
    "import missingno as msno"
   ]
  },
  {
   "cell_type": "code",
   "execution_count": 35,
   "metadata": {},
   "outputs": [
    {
     "data": {
      "image/png": "[encoded data removed]",
      "text/plain": [
       "<Figure size 1728x720 with 3 Axes>"
      ]
     },
     "metadata": {
      "needs_background": "light"
     },
     "output_type": "display_data"
    }
   ],
   "source": [
    "msno.bar(df);"
   ]
  },
  {
   "cell_type": "code",
   "execution_count": 36,
   "metadata": {},
   "outputs": [
    {
     "data": {
      "image/png": "[encoded data removed]",
      "text/plain": [
       "<Figure size 1800x720 with 2 Axes>"
      ]
     },
     "metadata": {
      "needs_background": "light"
     },
     "output_type": "display_data"
    }
   ],
   "source": [
    "msno.matrix(df);"
   ]
  },
  {
   "cell_type": "code",
   "execution_count": 37,
   "metadata": {},
   "outputs": [
    {
     "data": {
      "text/plain": [
       "<AxesSubplot:>"
      ]
     },
     "execution_count": 37,
     "metadata": {},
     "output_type": "execute_result"
    },
    {
     "data": {
      "image/png": "[encoded data removed]",
      "text/plain": [
       "<Figure size 1440x864 with 2 Axes>"
      ]
     },
     "metadata": {
      "needs_background": "light"
     },
     "output_type": "display_data"
    }
   ],
   "source": [
    "msno.heatmap(df)"
   ]
  },
  {
   "cell_type": "markdown",
   "metadata": {},
   "source": [
    "### Handling Missing Values"
   ]
  },
  {
   "cell_type": "code",
   "execution_count": 38,
   "metadata": {},
   "outputs": [
    {
     "data": {
      "text/html": [
       "<div>\n",
       "<style scoped>\n",
       "    .dataframe tbody tr th:only-of-type {\n",
       "        vertical-align: middle;\n",
       "    }\n",
       "\n",
       "    .dataframe tbody tr th {\n",
       "        vertical-align: top;\n",
       "    }\n",
       "\n",
       "    .dataframe thead th {\n",
       "        text-align: right;\n",
       "    }\n",
       "</style>\n",
       "<table border=\"1\" class=\"dataframe\">\n",
       "  <thead>\n",
       "    <tr style=\"text-align: right;\">\n",
       "      <th></th>\n",
       "      <th>age</th>\n",
       "      <th>job</th>\n",
       "      <th>marital</th>\n",
       "      <th>education</th>\n",
       "      <th>default</th>\n",
       "      <th>balance</th>\n",
       "      <th>housing</th>\n",
       "      <th>loan</th>\n",
       "      <th>contact</th>\n",
       "      <th>day</th>\n",
       "      <th>month</th>\n",
       "      <th>duration</th>\n",
       "      <th>campaign</th>\n",
       "      <th>y</th>\n",
       "    </tr>\n",
       "  </thead>\n",
       "  <tbody>\n",
       "    <tr>\n",
       "      <th>0</th>\n",
       "      <td>58</td>\n",
       "      <td>management</td>\n",
       "      <td>married</td>\n",
       "      <td>tertiary</td>\n",
       "      <td>no</td>\n",
       "      <td>2143</td>\n",
       "      <td>yes</td>\n",
       "      <td>no</td>\n",
       "      <td>NaN</td>\n",
       "      <td>5</td>\n",
       "      <td>may</td>\n",
       "      <td>261</td>\n",
       "      <td>1</td>\n",
       "      <td>no</td>\n",
       "    </tr>\n",
       "    <tr>\n",
       "      <th>1</th>\n",
       "      <td>44</td>\n",
       "      <td>technician</td>\n",
       "      <td>single</td>\n",
       "      <td>secondary</td>\n",
       "      <td>no</td>\n",
       "      <td>29</td>\n",
       "      <td>yes</td>\n",
       "      <td>no</td>\n",
       "      <td>NaN</td>\n",
       "      <td>5</td>\n",
       "      <td>may</td>\n",
       "      <td>151</td>\n",
       "      <td>1</td>\n",
       "      <td>no</td>\n",
       "    </tr>\n",
       "    <tr>\n",
       "      <th>2</th>\n",
       "      <td>33</td>\n",
       "      <td>entrepreneur</td>\n",
       "      <td>married</td>\n",
       "      <td>secondary</td>\n",
       "      <td>no</td>\n",
       "      <td>2</td>\n",
       "      <td>yes</td>\n",
       "      <td>yes</td>\n",
       "      <td>NaN</td>\n",
       "      <td>5</td>\n",
       "      <td>may</td>\n",
       "      <td>76</td>\n",
       "      <td>1</td>\n",
       "      <td>no</td>\n",
       "    </tr>\n",
       "    <tr>\n",
       "      <th>3</th>\n",
       "      <td>47</td>\n",
       "      <td>blue-collar</td>\n",
       "      <td>married</td>\n",
       "      <td>NaN</td>\n",
       "      <td>no</td>\n",
       "      <td>1506</td>\n",
       "      <td>yes</td>\n",
       "      <td>no</td>\n",
       "      <td>NaN</td>\n",
       "      <td>5</td>\n",
       "      <td>may</td>\n",
       "      <td>92</td>\n",
       "      <td>1</td>\n",
       "      <td>no</td>\n",
       "    </tr>\n",
       "    <tr>\n",
       "      <th>4</th>\n",
       "      <td>33</td>\n",
       "      <td>NaN</td>\n",
       "      <td>single</td>\n",
       "      <td>NaN</td>\n",
       "      <td>no</td>\n",
       "      <td>1</td>\n",
       "      <td>no</td>\n",
       "      <td>no</td>\n",
       "      <td>NaN</td>\n",
       "      <td>5</td>\n",
       "      <td>may</td>\n",
       "      <td>198</td>\n",
       "      <td>1</td>\n",
       "      <td>no</td>\n",
       "    </tr>\n",
       "  </tbody>\n",
       "</table>\n",
       "</div>"
      ],
      "text/plain": [
       "   age           job  marital  education default  balance housing loan  \\\n",
       "0   58    management  married   tertiary      no     2143     yes   no   \n",
       "1   44    technician   single  secondary      no       29     yes   no   \n",
       "2   33  entrepreneur  married  secondary      no        2     yes  yes   \n",
       "3   47   blue-collar  married        NaN      no     1506     yes   no   \n",
       "4   33           NaN   single        NaN      no        1      no   no   \n",
       "\n",
       "  contact  day month  duration  campaign   y  \n",
       "0     NaN    5   may       261         1  no  \n",
       "1     NaN    5   may       151         1  no  \n",
       "2     NaN    5   may        76         1  no  \n",
       "3     NaN    5   may        92         1  no  \n",
       "4     NaN    5   may       198         1  no  "
      ]
     },
     "execution_count": 38,
     "metadata": {},
     "output_type": "execute_result"
    }
   ],
   "source": [
    "df.head()"
   ]
  },
  {
   "cell_type": "code",
   "execution_count": 39,
   "metadata": {},
   "outputs": [],
   "source": [
    "df = df.astype({\"job\":'category', \n",
    "                \"marital\":'category', \n",
    "                \"education\":'category', \n",
    "                \"contact\":'category',\n",
    "                \"month\":'category'}) "
   ]
  },
  {
   "cell_type": "code",
   "execution_count": 40,
   "metadata": {},
   "outputs": [
    {
     "name": "stdout",
     "output_type": "stream",
     "text": [
      "<class 'pandas.core.frame.DataFrame'>\n",
      "RangeIndex: 40000 entries, 0 to 39999\n",
      "Data columns (total 14 columns):\n",
      " #   Column     Non-Null Count  Dtype   \n",
      "---  ------     --------------  -----   \n",
      " 0   age        40000 non-null  int64   \n",
      " 1   job        39765 non-null  category\n",
      " 2   marital    40000 non-null  category\n",
      " 3   education  38469 non-null  category\n",
      " 4   default    40000 non-null  object  \n",
      " 5   balance    40000 non-null  int64   \n",
      " 6   housing    40000 non-null  object  \n",
      " 7   loan       40000 non-null  object  \n",
      " 8   contact    27235 non-null  category\n",
      " 9   day        40000 non-null  int64   \n",
      " 10  month      40000 non-null  category\n",
      " 11  duration   40000 non-null  int64   \n",
      " 12  campaign   40000 non-null  int64   \n",
      " 13  y          40000 non-null  object  \n",
      "dtypes: category(5), int64(5), object(4)\n",
      "memory usage: 2.9+ MB\n"
     ]
    }
   ],
   "source": [
    "df.info()"
   ]
  },
  {
   "cell_type": "code",
   "execution_count": 41,
   "metadata": {},
   "outputs": [
    {
     "data": {
      "text/plain": [
       "age              0\n",
       "job            235\n",
       "marital          0\n",
       "education     1531\n",
       "default          0\n",
       "balance          0\n",
       "housing          0\n",
       "loan             0\n",
       "contact      12765\n",
       "day              0\n",
       "month            0\n",
       "duration         0\n",
       "campaign         0\n",
       "y                0\n",
       "dtype: int64"
      ]
     },
     "execution_count": 41,
     "metadata": {},
     "output_type": "execute_result"
    }
   ],
   "source": [
    "df.isnull().sum()"
   ]
  },
  {
   "cell_type": "markdown",
   "metadata": {},
   "source": [
    "#### Removing A Feature\n",
    "\n",
    "* Abonelik ile cep telefonundan mı yoksa ev telefonundan mı ulaşıldığının bir anlamı olmayacağını düşündüğüm ve çok fazla eksik veri olması sebebiyle contact özelliğini veri setinden çıkartıyorum."
   ]
  },
  {
   "cell_type": "code",
   "execution_count": 42,
   "metadata": {},
   "outputs": [],
   "source": [
    "#df = df.drop(\"contact\", axis=1)"
   ]
  },
  {
   "cell_type": "markdown",
   "metadata": {},
   "source": [
    "#### Imputing Missing Values Randomly"
   ]
  },
  {
   "cell_type": "code",
   "execution_count": 43,
   "metadata": {},
   "outputs": [],
   "source": [
    "def na_randomfill(series):\n",
    "    na_mask = pd.isnull(series)   # boolean mask for null values\n",
    "    n_null = na_mask.sum()        # number of nulls in the Series\n",
    "    \n",
    "    if n_null == 0:\n",
    "        return series             # if there are no nulls, no need to resample\n",
    "    \n",
    "    # Randomly sample the non-null values from our series\n",
    "    #  only sample this Series as many times as we have nulls \n",
    "    fill_values = series[~na_mask].sample(n=n_null, replace=True, random_state=0)\n",
    "\n",
    "    # This ensures our new values will replace NaNs in the correct locations\n",
    "    fill_values.index = series.index[na_mask]\n",
    "    \n",
    "    return series.fillna(fill_values) "
   ]
  },
  {
   "cell_type": "code",
   "execution_count": 44,
   "metadata": {},
   "outputs": [],
   "source": [
    "df[\"job\"] = na_randomfill(df[\"job\"])\n",
    "df[\"education\"] = na_randomfill(df[\"education\"])\n",
    "df[\"contact\"] = na_randomfill(df[\"contact\"])"
   ]
  },
  {
   "cell_type": "code",
   "execution_count": 45,
   "metadata": {},
   "outputs": [
    {
     "data": {
      "text/plain": [
       "age          0\n",
       "job          0\n",
       "marital      0\n",
       "education    0\n",
       "default      0\n",
       "balance      0\n",
       "housing      0\n",
       "loan         0\n",
       "contact      0\n",
       "day          0\n",
       "month        0\n",
       "duration     0\n",
       "campaign     0\n",
       "y            0\n",
       "dtype: int64"
      ]
     },
     "execution_count": 45,
     "metadata": {},
     "output_type": "execute_result"
    }
   ],
   "source": [
    "df.isna().sum()"
   ]
  },
  {
   "cell_type": "markdown",
   "metadata": {},
   "source": [
    "#### Label Encoding"
   ]
  },
  {
   "cell_type": "code",
   "execution_count": 46,
   "metadata": {},
   "outputs": [],
   "source": [
    "from sklearn.preprocessing import LabelEncoder"
   ]
  },
  {
   "cell_type": "code",
   "execution_count": 47,
   "metadata": {},
   "outputs": [],
   "source": [
    "df_en = df.apply(lambda series: pd.Series(\n",
    "    LabelEncoder().fit_transform(series[series.notnull()]),\n",
    "    index=series[series.notnull()].index\n",
    "))"
   ]
  },
  {
   "cell_type": "code",
   "execution_count": 48,
   "metadata": {},
   "outputs": [
    {
     "name": "stdout",
     "output_type": "stream",
     "text": [
      "<class 'pandas.core.frame.DataFrame'>\n",
      "Int64Index: 40000 entries, 0 to 39999\n",
      "Data columns (total 14 columns):\n",
      " #   Column     Non-Null Count  Dtype\n",
      "---  ------     --------------  -----\n",
      " 0   age        40000 non-null  int64\n",
      " 1   job        40000 non-null  int32\n",
      " 2   marital    40000 non-null  int32\n",
      " 3   education  40000 non-null  int32\n",
      " 4   default    40000 non-null  int32\n",
      " 5   balance    40000 non-null  int64\n",
      " 6   housing    40000 non-null  int32\n",
      " 7   loan       40000 non-null  int32\n",
      " 8   contact    40000 non-null  int32\n",
      " 9   day        40000 non-null  int64\n",
      " 10  month      40000 non-null  int32\n",
      " 11  duration   40000 non-null  int64\n",
      " 12  campaign   40000 non-null  int64\n",
      " 13  y          40000 non-null  int32\n",
      "dtypes: int32(9), int64(5)\n",
      "memory usage: 3.2 MB\n"
     ]
    }
   ],
   "source": [
    "df_en.info()"
   ]
  },
  {
   "cell_type": "markdown",
   "metadata": {},
   "source": [
    "#### One Hot Encoding"
   ]
  },
  {
   "cell_type": "code",
   "execution_count": 49,
   "metadata": {},
   "outputs": [
    {
     "data": {
      "text/html": [
       "<div>\n",
       "<style scoped>\n",
       "    .dataframe tbody tr th:only-of-type {\n",
       "        vertical-align: middle;\n",
       "    }\n",
       "\n",
       "    .dataframe tbody tr th {\n",
       "        vertical-align: top;\n",
       "    }\n",
       "\n",
       "    .dataframe thead th {\n",
       "        text-align: right;\n",
       "    }\n",
       "</style>\n",
       "<table border=\"1\" class=\"dataframe\">\n",
       "  <thead>\n",
       "    <tr style=\"text-align: right;\">\n",
       "      <th></th>\n",
       "      <th>age</th>\n",
       "      <th>job</th>\n",
       "      <th>marital</th>\n",
       "      <th>education</th>\n",
       "      <th>default</th>\n",
       "      <th>balance</th>\n",
       "      <th>housing</th>\n",
       "      <th>loan</th>\n",
       "      <th>contact</th>\n",
       "      <th>day</th>\n",
       "      <th>month</th>\n",
       "      <th>duration</th>\n",
       "      <th>campaign</th>\n",
       "      <th>y</th>\n",
       "    </tr>\n",
       "  </thead>\n",
       "  <tbody>\n",
       "    <tr>\n",
       "      <th>0</th>\n",
       "      <td>39</td>\n",
       "      <td>4</td>\n",
       "      <td>1</td>\n",
       "      <td>2</td>\n",
       "      <td>0</td>\n",
       "      <td>3023</td>\n",
       "      <td>1</td>\n",
       "      <td>0</td>\n",
       "      <td>0</td>\n",
       "      <td>4</td>\n",
       "      <td>8</td>\n",
       "      <td>261</td>\n",
       "      <td>0</td>\n",
       "      <td>0</td>\n",
       "    </tr>\n",
       "    <tr>\n",
       "      <th>1</th>\n",
       "      <td>25</td>\n",
       "      <td>9</td>\n",
       "      <td>2</td>\n",
       "      <td>1</td>\n",
       "      <td>0</td>\n",
       "      <td>945</td>\n",
       "      <td>1</td>\n",
       "      <td>0</td>\n",
       "      <td>0</td>\n",
       "      <td>4</td>\n",
       "      <td>8</td>\n",
       "      <td>151</td>\n",
       "      <td>0</td>\n",
       "      <td>0</td>\n",
       "    </tr>\n",
       "    <tr>\n",
       "      <th>2</th>\n",
       "      <td>14</td>\n",
       "      <td>2</td>\n",
       "      <td>1</td>\n",
       "      <td>1</td>\n",
       "      <td>0</td>\n",
       "      <td>918</td>\n",
       "      <td>1</td>\n",
       "      <td>1</td>\n",
       "      <td>0</td>\n",
       "      <td>4</td>\n",
       "      <td>8</td>\n",
       "      <td>76</td>\n",
       "      <td>0</td>\n",
       "      <td>0</td>\n",
       "    </tr>\n",
       "    <tr>\n",
       "      <th>3</th>\n",
       "      <td>28</td>\n",
       "      <td>1</td>\n",
       "      <td>1</td>\n",
       "      <td>0</td>\n",
       "      <td>0</td>\n",
       "      <td>2420</td>\n",
       "      <td>1</td>\n",
       "      <td>0</td>\n",
       "      <td>0</td>\n",
       "      <td>4</td>\n",
       "      <td>8</td>\n",
       "      <td>92</td>\n",
       "      <td>0</td>\n",
       "      <td>0</td>\n",
       "    </tr>\n",
       "    <tr>\n",
       "      <th>4</th>\n",
       "      <td>14</td>\n",
       "      <td>0</td>\n",
       "      <td>2</td>\n",
       "      <td>2</td>\n",
       "      <td>0</td>\n",
       "      <td>917</td>\n",
       "      <td>0</td>\n",
       "      <td>0</td>\n",
       "      <td>0</td>\n",
       "      <td>4</td>\n",
       "      <td>8</td>\n",
       "      <td>198</td>\n",
       "      <td>0</td>\n",
       "      <td>0</td>\n",
       "    </tr>\n",
       "  </tbody>\n",
       "</table>\n",
       "</div>"
      ],
      "text/plain": [
       "   age  job  marital  education  default  balance  housing  loan  contact  \\\n",
       "0   39    4        1          2        0     3023        1     0        0   \n",
       "1   25    9        2          1        0      945        1     0        0   \n",
       "2   14    2        1          1        0      918        1     1        0   \n",
       "3   28    1        1          0        0     2420        1     0        0   \n",
       "4   14    0        2          2        0      917        0     0        0   \n",
       "\n",
       "   day  month  duration  campaign  y  \n",
       "0    4      8       261         0  0  \n",
       "1    4      8       151         0  0  \n",
       "2    4      8        76         0  0  \n",
       "3    4      8        92         0  0  \n",
       "4    4      8       198         0  0  "
      ]
     },
     "execution_count": 49,
     "metadata": {},
     "output_type": "execute_result"
    }
   ],
   "source": [
    "df_en.head()"
   ]
  },
  {
   "cell_type": "code",
   "execution_count": 50,
   "metadata": {},
   "outputs": [
    {
     "data": {
      "text/html": [
       "<div>\n",
       "<style scoped>\n",
       "    .dataframe tbody tr th:only-of-type {\n",
       "        vertical-align: middle;\n",
       "    }\n",
       "\n",
       "    .dataframe tbody tr th {\n",
       "        vertical-align: top;\n",
       "    }\n",
       "\n",
       "    .dataframe thead th {\n",
       "        text-align: right;\n",
       "    }\n",
       "</style>\n",
       "<table border=\"1\" class=\"dataframe\">\n",
       "  <thead>\n",
       "    <tr style=\"text-align: right;\">\n",
       "      <th></th>\n",
       "      <th>age</th>\n",
       "      <th>default</th>\n",
       "      <th>balance</th>\n",
       "      <th>housing</th>\n",
       "      <th>loan</th>\n",
       "      <th>contact</th>\n",
       "      <th>day</th>\n",
       "      <th>duration</th>\n",
       "      <th>campaign</th>\n",
       "      <th>y</th>\n",
       "      <th>...</th>\n",
       "      <th>month_1</th>\n",
       "      <th>month_2</th>\n",
       "      <th>month_3</th>\n",
       "      <th>month_4</th>\n",
       "      <th>month_5</th>\n",
       "      <th>month_6</th>\n",
       "      <th>month_7</th>\n",
       "      <th>month_8</th>\n",
       "      <th>month_9</th>\n",
       "      <th>month_10</th>\n",
       "    </tr>\n",
       "  </thead>\n",
       "  <tbody>\n",
       "    <tr>\n",
       "      <th>0</th>\n",
       "      <td>39</td>\n",
       "      <td>0</td>\n",
       "      <td>3023</td>\n",
       "      <td>1</td>\n",
       "      <td>0</td>\n",
       "      <td>0</td>\n",
       "      <td>4</td>\n",
       "      <td>261</td>\n",
       "      <td>0</td>\n",
       "      <td>0</td>\n",
       "      <td>...</td>\n",
       "      <td>0</td>\n",
       "      <td>0</td>\n",
       "      <td>0</td>\n",
       "      <td>0</td>\n",
       "      <td>0</td>\n",
       "      <td>0</td>\n",
       "      <td>0</td>\n",
       "      <td>1</td>\n",
       "      <td>0</td>\n",
       "      <td>0</td>\n",
       "    </tr>\n",
       "    <tr>\n",
       "      <th>1</th>\n",
       "      <td>25</td>\n",
       "      <td>0</td>\n",
       "      <td>945</td>\n",
       "      <td>1</td>\n",
       "      <td>0</td>\n",
       "      <td>0</td>\n",
       "      <td>4</td>\n",
       "      <td>151</td>\n",
       "      <td>0</td>\n",
       "      <td>0</td>\n",
       "      <td>...</td>\n",
       "      <td>0</td>\n",
       "      <td>0</td>\n",
       "      <td>0</td>\n",
       "      <td>0</td>\n",
       "      <td>0</td>\n",
       "      <td>0</td>\n",
       "      <td>0</td>\n",
       "      <td>1</td>\n",
       "      <td>0</td>\n",
       "      <td>0</td>\n",
       "    </tr>\n",
       "    <tr>\n",
       "      <th>2</th>\n",
       "      <td>14</td>\n",
       "      <td>0</td>\n",
       "      <td>918</td>\n",
       "      <td>1</td>\n",
       "      <td>1</td>\n",
       "      <td>0</td>\n",
       "      <td>4</td>\n",
       "      <td>76</td>\n",
       "      <td>0</td>\n",
       "      <td>0</td>\n",
       "      <td>...</td>\n",
       "      <td>0</td>\n",
       "      <td>0</td>\n",
       "      <td>0</td>\n",
       "      <td>0</td>\n",
       "      <td>0</td>\n",
       "      <td>0</td>\n",
       "      <td>0</td>\n",
       "      <td>1</td>\n",
       "      <td>0</td>\n",
       "      <td>0</td>\n",
       "    </tr>\n",
       "    <tr>\n",
       "      <th>3</th>\n",
       "      <td>28</td>\n",
       "      <td>0</td>\n",
       "      <td>2420</td>\n",
       "      <td>1</td>\n",
       "      <td>0</td>\n",
       "      <td>0</td>\n",
       "      <td>4</td>\n",
       "      <td>92</td>\n",
       "      <td>0</td>\n",
       "      <td>0</td>\n",
       "      <td>...</td>\n",
       "      <td>0</td>\n",
       "      <td>0</td>\n",
       "      <td>0</td>\n",
       "      <td>0</td>\n",
       "      <td>0</td>\n",
       "      <td>0</td>\n",
       "      <td>0</td>\n",
       "      <td>1</td>\n",
       "      <td>0</td>\n",
       "      <td>0</td>\n",
       "    </tr>\n",
       "    <tr>\n",
       "      <th>4</th>\n",
       "      <td>14</td>\n",
       "      <td>0</td>\n",
       "      <td>917</td>\n",
       "      <td>0</td>\n",
       "      <td>0</td>\n",
       "      <td>0</td>\n",
       "      <td>4</td>\n",
       "      <td>198</td>\n",
       "      <td>0</td>\n",
       "      <td>0</td>\n",
       "      <td>...</td>\n",
       "      <td>0</td>\n",
       "      <td>0</td>\n",
       "      <td>0</td>\n",
       "      <td>0</td>\n",
       "      <td>0</td>\n",
       "      <td>0</td>\n",
       "      <td>0</td>\n",
       "      <td>1</td>\n",
       "      <td>0</td>\n",
       "      <td>0</td>\n",
       "    </tr>\n",
       "  </tbody>\n",
       "</table>\n",
       "<p>5 rows × 38 columns</p>\n",
       "</div>"
      ],
      "text/plain": [
       "   age  default  balance  housing  loan  contact  day  duration  campaign  y  \\\n",
       "0   39        0     3023        1     0        0    4       261         0  0   \n",
       "1   25        0      945        1     0        0    4       151         0  0   \n",
       "2   14        0      918        1     1        0    4        76         0  0   \n",
       "3   28        0     2420        1     0        0    4        92         0  0   \n",
       "4   14        0      917        0     0        0    4       198         0  0   \n",
       "\n",
       "   ...  month_1  month_2  month_3  month_4  month_5  month_6  month_7  \\\n",
       "0  ...        0        0        0        0        0        0        0   \n",
       "1  ...        0        0        0        0        0        0        0   \n",
       "2  ...        0        0        0        0        0        0        0   \n",
       "3  ...        0        0        0        0        0        0        0   \n",
       "4  ...        0        0        0        0        0        0        0   \n",
       "\n",
       "   month_8  month_9  month_10  \n",
       "0        1        0         0  \n",
       "1        1        0         0  \n",
       "2        1        0         0  \n",
       "3        1        0         0  \n",
       "4        1        0         0  \n",
       "\n",
       "[5 rows x 38 columns]"
      ]
     },
     "execution_count": 50,
     "metadata": {},
     "output_type": "execute_result"
    }
   ],
   "source": [
    "dff = pd.get_dummies(df_en, columns=[\"job\", \"marital\", \"education\", \"month\"])\n",
    "dff.head()"
   ]
  },
  {
   "cell_type": "markdown",
   "metadata": {},
   "source": [
    "### Feature Importances"
   ]
  },
  {
   "cell_type": "code",
   "execution_count": 51,
   "metadata": {},
   "outputs": [
    {
     "name": "stdout",
     "output_type": "stream",
     "text": [
      "[0.11103328 0.06718468 0.02634352 0.02599595 0.00409766 0.11373724\n",
      " 0.01150396 0.00934388 0.00940438 0.111309   0.09129767 0.34889525\n",
      " 0.06985352]\n"
     ]
    },
    {
     "data": {
      "image/png": "[encoded data removed]",
      "text/plain": [
       "<Figure size 432x288 with 1 Axes>"
      ]
     },
     "metadata": {
      "needs_background": "light"
     },
     "output_type": "display_data"
    }
   ],
   "source": [
    "from sklearn.ensemble import ExtraTreesClassifier\n",
    "import matplotlib.pyplot as plt\n",
    "model = ExtraTreesClassifier()\n",
    "X = df_en.drop(\"y\", axis=1)\n",
    "y = df_en[\"y\"]\n",
    "model.fit(X, y)\n",
    "print(model.feature_importances_)\n",
    "feat_importances = pd.Series(model.feature_importances_, index=X.columns)\n",
    "feat_importances.nlargest(10).plot(kind='barh')\n",
    "plt.show()"
   ]
  },
  {
   "cell_type": "markdown",
   "metadata": {},
   "source": [
    "## Classification"
   ]
  },
  {
   "cell_type": "code",
   "execution_count": 88,
   "metadata": {},
   "outputs": [],
   "source": [
    "import statsmodels.api as sm\n",
    "import statsmodels.formula.api as smf\n",
    "\n",
    "from sklearn.preprocessing import scale \n",
    "from sklearn.preprocessing import StandardScaler  \n",
    "from sklearn.model_selection import train_test_split, GridSearchCV, cross_val_score\n",
    "from sklearn.metrics import confusion_matrix, accuracy_score, classification_report\n",
    "from sklearn.metrics import roc_auc_score,roc_curve\n",
    "from sklearn.metrics import plot_confusion_matrix\n",
    "from sklearn.neighbors import KNeighborsClassifier\n",
    "from sklearn.discriminant_analysis import LinearDiscriminantAnalysis\n",
    "from sklearn.linear_model import LogisticRegression\n",
    "from sklearn.neural_network import MLPClassifier\n",
    "from sklearn.tree import DecisionTreeClassifier\n",
    "from sklearn.svm import SVC\n",
    "from sklearn.naive_bayes import GaussianNB\n",
    "from sklearn import tree\n",
    "from sklearn.ensemble import RandomForestClassifier\n",
    "from sklearn.ensemble import GradientBoostingClassifier\n",
    "\n",
    "from xgboost import XGBClassifier\n",
    "from lightgbm import LGBMClassifier\n",
    "from catboost import CatBoostClassifier\n",
    "\n",
    "from warnings import filterwarnings\n",
    "filterwarnings('ignore')"
   ]
  },
  {
   "cell_type": "code",
   "execution_count": 53,
   "metadata": {},
   "outputs": [],
   "source": [
    "def draw_roc(model):\n",
    "    roc_auc = roc_auc_score(y, model.predict(X))\n",
    "\n",
    "    fpr, tpr, thresholds = roc_curve(y, model.predict_proba(X)[:,1])\n",
    "    plt.figure()\n",
    "    plt.plot(fpr, tpr, label='AUC (area = %0.2f)' % roc_auc)\n",
    "    plt.plot([0, 1], [0, 1],'r--')\n",
    "    plt.xlim([0.0, 1.0])\n",
    "    plt.ylim([0.0, 1.05])\n",
    "    plt.xlabel('False Positive Oranı')\n",
    "    plt.ylabel('True Positive Oranı')\n",
    "    plt.title('ROC')\n",
    "    plt.show()"
   ]
  },
  {
   "cell_type": "code",
   "execution_count": 54,
   "metadata": {},
   "outputs": [],
   "source": [
    "X = dff.drop(\"y\", axis=1)\n",
    "y = dff[\"y\"]"
   ]
  },
  {
   "cell_type": "markdown",
   "metadata": {},
   "source": [
    "### Logistic Regression"
   ]
  },
  {
   "cell_type": "code",
   "execution_count": 55,
   "metadata": {},
   "outputs": [],
   "source": [
    "X_train, X_test, y_train, y_test = train_test_split(X, y, \n",
    "                                                    test_size=0.30, \n",
    "                                                    random_state=42)"
   ]
  },
  {
   "cell_type": "code",
   "execution_count": 56,
   "metadata": {},
   "outputs": [
    {
     "data": {
      "text/plain": [
       "0.9335"
      ]
     },
     "execution_count": 56,
     "metadata": {},
     "output_type": "execute_result"
    }
   ],
   "source": [
    "loj = LogisticRegression(solver = \"liblinear\")\n",
    "loj_model = loj.fit(X_train, y_train)\n",
    "y_pred = loj_model.predict(X_test)\n",
    "accuracy_score(y_test, y_pred)"
   ]
  },
  {
   "cell_type": "code",
   "execution_count": 57,
   "metadata": {},
   "outputs": [
    {
     "data": {
      "text/plain": [
       "0.9335833333333333"
      ]
     },
     "execution_count": 57,
     "metadata": {},
     "output_type": "execute_result"
    }
   ],
   "source": [
    "cross_val_score(loj_model, X_test, y_test, cv = 10).mean()"
   ]
  },
  {
   "cell_type": "code",
   "execution_count": 58,
   "metadata": {},
   "outputs": [
    {
     "data": {
      "image/png": "[encoded data removed]",
      "text/plain": [
       "<Figure size 432x288 with 1 Axes>"
      ]
     },
     "metadata": {
      "needs_background": "light"
     },
     "output_type": "display_data"
    }
   ],
   "source": [
    "draw_roc(loj_model)"
   ]
  },
  {
   "cell_type": "code",
   "execution_count": 59,
   "metadata": {},
   "outputs": [
    {
     "data": {
      "text/plain": [
       "<sklearn.metrics._plot.confusion_matrix.ConfusionMatrixDisplay at 0x1d01b223608>"
      ]
     },
     "execution_count": 59,
     "metadata": {},
     "output_type": "execute_result"
    },
    {
     "data": {
      "image/png": "[encoded data removed]",
      "text/plain": [
       "<Figure size 432x288 with 2 Axes>"
      ]
     },
     "metadata": {
      "needs_background": "light"
     },
     "output_type": "display_data"
    }
   ],
   "source": [
    "plot_confusion_matrix(loj_model, X_test, y_test)"
   ]
  },
  {
   "cell_type": "markdown",
   "metadata": {},
   "source": [
    "### Gaussian Naive Bayes"
   ]
  },
  {
   "cell_type": "code",
   "execution_count": 60,
   "metadata": {},
   "outputs": [
    {
     "data": {
      "text/plain": [
       "0.9086666666666666"
      ]
     },
     "execution_count": 60,
     "metadata": {},
     "output_type": "execute_result"
    }
   ],
   "source": [
    "nb = GaussianNB()\n",
    "nb_model = nb.fit(X_train, y_train)\n",
    "y_pred = nb_model.predict(X_test)\n",
    "accuracy_score(y_test, y_pred)"
   ]
  },
  {
   "cell_type": "code",
   "execution_count": 61,
   "metadata": {},
   "outputs": [
    {
     "data": {
      "text/plain": [
       "0.8905833333333332"
      ]
     },
     "execution_count": 61,
     "metadata": {},
     "output_type": "execute_result"
    }
   ],
   "source": [
    "cross_val_score(nb_model, X_test, y_test, cv = 10).mean()"
   ]
  },
  {
   "cell_type": "code",
   "execution_count": 62,
   "metadata": {},
   "outputs": [
    {
     "data": {
      "image/png": "[encoded data removed]",
      "text/plain": [
       "<Figure size 432x288 with 1 Axes>"
      ]
     },
     "metadata": {
      "needs_background": "light"
     },
     "output_type": "display_data"
    }
   ],
   "source": [
    "draw_roc(nb_model)"
   ]
  },
  {
   "cell_type": "code",
   "execution_count": 63,
   "metadata": {},
   "outputs": [
    {
     "data": {
      "text/plain": [
       "<sklearn.metrics._plot.confusion_matrix.ConfusionMatrixDisplay at 0x1d01b32fe88>"
      ]
     },
     "execution_count": 63,
     "metadata": {},
     "output_type": "execute_result"
    },
    {
     "data": {
      "image/png": "[encoded data removed]",
      "text/plain": [
       "<Figure size 432x288 with 2 Axes>"
      ]
     },
     "metadata": {
      "needs_background": "light"
     },
     "output_type": "display_data"
    }
   ],
   "source": [
    "plot_confusion_matrix(nb_model, X_test, y_test)"
   ]
  },
  {
   "cell_type": "markdown",
   "metadata": {},
   "source": [
    "### K-Nearest Neighbours"
   ]
  },
  {
   "cell_type": "code",
   "execution_count": 64,
   "metadata": {},
   "outputs": [
    {
     "name": "stdout",
     "output_type": "stream",
     "text": [
      "Fitting 10 folds for each of 14 candidates, totalling 140 fits\n"
     ]
    },
    {
     "name": "stderr",
     "output_type": "stream",
     "text": [
      "[Parallel(n_jobs=5)]: Using backend LokyBackend with 5 concurrent workers.\n",
      "[Parallel(n_jobs=5)]: Done  31 tasks      | elapsed:    4.7s\n",
      "[Parallel(n_jobs=5)]: Done 140 out of 140 | elapsed:   16.8s finished\n"
     ]
    },
    {
     "name": "stdout",
     "output_type": "stream",
     "text": [
      "Wall time: 17.4 s\n"
     ]
    }
   ],
   "source": [
    "%%time\n",
    "knn = KNeighborsClassifier()\n",
    "\n",
    "knn_params = {\"n_neighbors\": np.arange(1,15)}\n",
    "\n",
    "knn_cv = GridSearchCV(knn, knn_params, \n",
    "                            cv = 10, \n",
    "                            n_jobs = 5, \n",
    "                            verbose = 2 )\n",
    "\n",
    "knn_cv.fit(X_train, y_train)"
   ]
  },
  {
   "cell_type": "code",
   "execution_count": 65,
   "metadata": {},
   "outputs": [
    {
     "name": "stdout",
     "output_type": "stream",
     "text": [
      "En iyi skor:0.9284642857142856\n",
      "En iyi parametreler: {'n_neighbors': 14}\n"
     ]
    }
   ],
   "source": [
    "print(\"En iyi skor:\" + str(knn_cv.best_score_))\n",
    "print(\"En iyi parametreler: \" + str(knn_cv.best_params_))"
   ]
  },
  {
   "cell_type": "code",
   "execution_count": 66,
   "metadata": {},
   "outputs": [
    {
     "data": {
      "text/plain": [
       "0.92975"
      ]
     },
     "execution_count": 66,
     "metadata": {},
     "output_type": "execute_result"
    }
   ],
   "source": [
    "knn = KNeighborsClassifier(14)\n",
    "\n",
    "knn_model = knn.fit(X_train, y_train)\n",
    "y_pred = knn_model.predict(X_test)\n",
    "accuracy_score(y_test, y_pred)"
   ]
  },
  {
   "cell_type": "code",
   "execution_count": 73,
   "metadata": {},
   "outputs": [
    {
     "data": {
      "text/plain": [
       "0.9308333333333332"
      ]
     },
     "execution_count": 73,
     "metadata": {},
     "output_type": "execute_result"
    }
   ],
   "source": [
    "cross_val_score(knn_model, X_test, y_test, cv = 10).mean()"
   ]
  },
  {
   "cell_type": "code",
   "execution_count": 68,
   "metadata": {},
   "outputs": [
    {
     "data": {
      "image/png": "[encoded data removed]",
      "text/plain": [
       "<Figure size 432x288 with 1 Axes>"
      ]
     },
     "metadata": {
      "needs_background": "light"
     },
     "output_type": "display_data"
    }
   ],
   "source": [
    "draw_roc(knn_model)"
   ]
  },
  {
   "cell_type": "code",
   "execution_count": 69,
   "metadata": {},
   "outputs": [
    {
     "data": {
      "text/plain": [
       "<sklearn.metrics._plot.confusion_matrix.ConfusionMatrixDisplay at 0x1d01cec6d48>"
      ]
     },
     "execution_count": 69,
     "metadata": {},
     "output_type": "execute_result"
    },
    {
     "data": {
      "image/png": "[encoded data removed]",
      "text/plain": [
       "<Figure size 432x288 with 2 Axes>"
      ]
     },
     "metadata": {
      "needs_background": "light"
     },
     "output_type": "display_data"
    }
   ],
   "source": [
    "plot_confusion_matrix(knn_model, X_test, y_test)"
   ]
  },
  {
   "cell_type": "markdown",
   "metadata": {},
   "source": [
    "### Support Vector Classification"
   ]
  },
  {
   "cell_type": "markdown",
   "metadata": {},
   "source": [
    "```python\n",
    "%%time\n",
    "svc_model = SVC(kernel = \"linear\")\n",
    "svc_model.fit(X_train, y_train)\n",
    "y_pred = svc_model.predict(X_test)\n",
    "accuracy_score(y_test, y_pred)\n",
    "cross_val_score(svc_model, X_test, y_test, cv = 10).mean()\n",
    "draw_roc(svc_model)\n",
    "plot_confusion_matrix(svc_model, X_test, y_test)\n",
    "```"
   ]
  },
  {
   "cell_type": "markdown",
   "metadata": {},
   "source": [
    "### RBF Vector Classification"
   ]
  },
  {
   "cell_type": "code",
   "execution_count": 70,
   "metadata": {},
   "outputs": [
    {
     "name": "stdout",
     "output_type": "stream",
     "text": [
      "Wall time: 9 s\n"
     ]
    }
   ],
   "source": [
    "%%time\n",
    "rbf_model = SVC(kernel = \"rbf\")\n",
    "rbf_model.fit(X_train, y_train)\n",
    "y_pred = rbf_model.predict(X_test)\n",
    "accuracy_score(y_test, y_pred)"
   ]
  },
  {
   "cell_type": "code",
   "execution_count": 71,
   "metadata": {},
   "outputs": [
    {
     "data": {
      "text/plain": [
       "0.9296666666666669"
      ]
     },
     "execution_count": 71,
     "metadata": {},
     "output_type": "execute_result"
    }
   ],
   "source": [
    "cross_val_score(rbf_model, X_test, y_test, cv = 10).mean()"
   ]
  },
  {
   "cell_type": "code",
   "execution_count": 76,
   "metadata": {},
   "outputs": [
    {
     "data": {
      "text/plain": [
       "<sklearn.metrics._plot.confusion_matrix.ConfusionMatrixDisplay at 0x1d01d18afc8>"
      ]
     },
     "execution_count": 76,
     "metadata": {},
     "output_type": "execute_result"
    },
    {
     "data": {
      "image/png": "[encoded data removed]",
      "text/plain": [
       "<Figure size 432x288 with 2 Axes>"
      ]
     },
     "metadata": {
      "needs_background": "light"
     },
     "output_type": "display_data"
    }
   ],
   "source": [
    "plot_confusion_matrix(rbf_model, X_test, y_test)"
   ]
  },
  {
   "cell_type": "markdown",
   "metadata": {},
   "source": [
    "### Neural Networks"
   ]
  },
  {
   "cell_type": "code",
   "execution_count": 77,
   "metadata": {},
   "outputs": [],
   "source": [
    "scaler = StandardScaler()"
   ]
  },
  {
   "cell_type": "code",
   "execution_count": 78,
   "metadata": {},
   "outputs": [],
   "source": [
    "scaler.fit(X_train)\n",
    "X_train_scaled = scaler.transform(X_train)\n",
    "X_test_scaled = scaler.transform(X_test)"
   ]
  },
  {
   "cell_type": "code",
   "execution_count": 84,
   "metadata": {},
   "outputs": [
    {
     "name": "stdout",
     "output_type": "stream",
     "text": [
      "Wall time: 34.9 s\n"
     ]
    }
   ],
   "source": [
    "%%time\n",
    "mlpc_model = MLPClassifier()\n",
    "mlpc_model.fit(X_train_scaled, y_train)\n",
    "y_pred = mlpc_model.predict(X_test_scaled)\n",
    "accuracy_score(y_test, y_pred)"
   ]
  },
  {
   "cell_type": "code",
   "execution_count": 85,
   "metadata": {},
   "outputs": [
    {
     "data": {
      "text/plain": [
       "0.8826666666666666"
      ]
     },
     "execution_count": 85,
     "metadata": {},
     "output_type": "execute_result"
    }
   ],
   "source": [
    "cross_val_score(mlpc_model, X_test, y_test, cv = 10).mean()"
   ]
  },
  {
   "cell_type": "code",
   "execution_count": 87,
   "metadata": {},
   "outputs": [
    {
     "data": {
      "text/plain": [
       "<sklearn.metrics._plot.confusion_matrix.ConfusionMatrixDisplay at 0x1d0264613c8>"
      ]
     },
     "execution_count": 87,
     "metadata": {},
     "output_type": "execute_result"
    },
    {
     "data": {
      "image/png": "[encoded data removed]",
      "text/plain": [
       "<Figure size 432x288 with 2 Axes>"
      ]
     },
     "metadata": {
      "needs_background": "light"
     },
     "output_type": "display_data"
    }
   ],
   "source": [
    "plot_confusion_matrix(mlpc_model, X_test, y_test)"
   ]
  },
  {
   "cell_type": "markdown",
   "metadata": {},
   "source": [
    "### CART"
   ]
  },
  {
   "cell_type": "code",
   "execution_count": 92,
   "metadata": {},
   "outputs": [
    {
     "name": "stdout",
     "output_type": "stream",
     "text": [
      "Fitting 10 folds for each of 432 candidates, totalling 4320 fits\n"
     ]
    },
    {
     "name": "stderr",
     "output_type": "stream",
     "text": [
      "[Parallel(n_jobs=5)]: Using backend LokyBackend with 5 concurrent workers.\n",
      "[Parallel(n_jobs=5)]: Done  74 tasks      | elapsed:    0.7s\n",
      "[Parallel(n_jobs=5)]: Done 558 tasks      | elapsed:    4.6s\n",
      "[Parallel(n_jobs=5)]: Done 1370 tasks      | elapsed:   13.9s\n",
      "[Parallel(n_jobs=5)]: Done 2502 tasks      | elapsed:   32.8s\n",
      "[Parallel(n_jobs=5)]: Done 3962 tasks      | elapsed:  1.1min\n",
      "[Parallel(n_jobs=5)]: Done 4311 out of 4320 | elapsed:  1.3min remaining:    0.1s\n",
      "[Parallel(n_jobs=5)]: Done 4320 out of 4320 | elapsed:  1.3min finished\n"
     ]
    },
    {
     "name": "stdout",
     "output_type": "stream",
     "text": [
      "Wall time: 1min 16s\n"
     ]
    }
   ],
   "source": [
    "%%time\n",
    "cart_grid = {\"max_depth\": range(1,10),\n",
    "            \"min_samples_split\" : list(range(2,50)) }\n",
    "\n",
    "cart = tree.DecisionTreeClassifier()\n",
    "cart_cv = GridSearchCV(cart, cart_grid, cv = 10, n_jobs = 5, verbose = 2)\n",
    "cart_cv.fit(X_train, y_train)"
   ]
  },
  {
   "cell_type": "code",
   "execution_count": 93,
   "metadata": {},
   "outputs": [
    {
     "name": "stdout",
     "output_type": "stream",
     "text": [
      "En iyi parametreler: {'max_depth': 4, 'min_samples_split': 2}\n"
     ]
    }
   ],
   "source": [
    "print(\"En iyi parametreler: \" + str(cart_model.best_params_))"
   ]
  },
  {
   "cell_type": "code",
   "execution_count": 96,
   "metadata": {},
   "outputs": [],
   "source": [
    "cart_model = tree.DecisionTreeClassifier(max_depth = 4, min_samples_split = 2)\n",
    "cart.fit(X_train, y_train)"
   ]
  },
  {
   "cell_type": "code",
   "execution_count": 97,
   "metadata": {},
   "outputs": [
    {
     "data": {
      "text/plain": [
       "0.9311666666666666"
      ]
     },
     "execution_count": 97,
     "metadata": {},
     "output_type": "execute_result"
    }
   ],
   "source": [
    "cross_val_score(cart_model, X_test, y_test, cv = 10).mean()"
   ]
  },
  {
   "cell_type": "code",
   "execution_count": 99,
   "metadata": {},
   "outputs": [
    {
     "data": {
      "image/png": "[encoded data removed]",
      "text/plain": [
       "<Figure size 432x288 with 1 Axes>"
      ]
     },
     "metadata": {
      "needs_background": "light"
     },
     "output_type": "display_data"
    }
   ],
   "source": [
    "draw_roc(cart_model)"
   ]
  },
  {
   "cell_type": "code",
   "execution_count": 98,
   "metadata": {},
   "outputs": [
    {
     "data": {
      "text/plain": [
       "<sklearn.metrics._plot.confusion_matrix.ConfusionMatrixDisplay at 0x1d01ceb8e08>"
      ]
     },
     "execution_count": 98,
     "metadata": {},
     "output_type": "execute_result"
    },
    {
     "data": {
      "image/png": "[encoded data removed]",
      "text/plain": [
       "<Figure size 432x288 with 2 Axes>"
      ]
     },
     "metadata": {
      "needs_background": "light"
     },
     "output_type": "display_data"
    }
   ],
   "source": [
    "plot_confusion_matrix(cart_model, X_test, y_test)"
   ]
  },
  {
   "cell_type": "markdown",
   "metadata": {},
   "source": [
    "### Random Forest"
   ]
  },
  {
   "cell_type": "code",
   "execution_count": 101,
   "metadata": {},
   "outputs": [
    {
     "name": "stdout",
     "output_type": "stream",
     "text": [
      "Fitting 10 folds for each of 81 candidates, totalling 810 fits\n"
     ]
    },
    {
     "name": "stderr",
     "output_type": "stream",
     "text": [
      "[Parallel(n_jobs=5)]: Using backend LokyBackend with 5 concurrent workers.\n",
      "[Parallel(n_jobs=5)]: Done  31 tasks      | elapsed:    2.8s\n",
      "[Parallel(n_jobs=5)]: Done 152 tasks      | elapsed:   11.0s\n",
      "[Parallel(n_jobs=5)]: Done 355 tasks      | elapsed:   28.3s\n",
      "[Parallel(n_jobs=5)]: Done 638 tasks      | elapsed:  1.1min\n",
      "[Parallel(n_jobs=5)]: Done 810 out of 810 | elapsed:  1.7min finished\n"
     ]
    },
    {
     "name": "stdout",
     "output_type": "stream",
     "text": [
      "Wall time: 1min 41s\n"
     ]
    }
   ],
   "source": [
    "%%time\n",
    "rf_params = {\"max_depth\": [2,5,8],\n",
    "            \"max_features\": [2,5,8],\n",
    "            \"n_estimators\": [10,50,100],\n",
    "            \"min_samples_split\": [2,5,10]}\n",
    "\n",
    "rf_model = RandomForestClassifier()\n",
    "\n",
    "rf_cv = GridSearchCV(rf_model, \n",
    "                       rf_params, \n",
    "                       cv = 10, \n",
    "                       n_jobs = 5, \n",
    "                       verbose = 2) \n",
    "rf_cv.fit(X_train, y_train)"
   ]
  },
  {
   "cell_type": "code",
   "execution_count": 102,
   "metadata": {},
   "outputs": [
    {
     "name": "stdout",
     "output_type": "stream",
     "text": [
      "En iyi parametreler: {'max_depth': 8, 'max_features': 8, 'min_samples_split': 2, 'n_estimators': 100}\n"
     ]
    }
   ],
   "source": [
    "print(\"En iyi parametreler: \" + str(rf_model.best_params_))"
   ]
  },
  {
   "cell_type": "code",
   "execution_count": 105,
   "metadata": {},
   "outputs": [
    {
     "data": {
      "text/plain": [
       "0.9315833333333333"
      ]
     },
     "execution_count": 105,
     "metadata": {},
     "output_type": "execute_result"
    }
   ],
   "source": [
    "rf_model = RandomForestClassifier(max_depth = 8, \n",
    "                                  max_features = 8, \n",
    "                                  min_samples_split = 2,\n",
    "                                  n_estimators = 100)\n",
    "\n",
    "rf_model.fit(X_train, y_train)\n",
    "y_pred = rf_model.predict(X_test)\n",
    "accuracy_score(y_test, y_pred)"
   ]
  },
  {
   "cell_type": "code",
   "execution_count": 113,
   "metadata": {},
   "outputs": [
    {
     "data": {
      "text/plain": [
       "0.9296666666666665"
      ]
     },
     "execution_count": 113,
     "metadata": {},
     "output_type": "execute_result"
    }
   ],
   "source": [
    "cross_val_score(rf_model, X_test, y_test, cv = 10).mean()"
   ]
  },
  {
   "cell_type": "code",
   "execution_count": 106,
   "metadata": {},
   "outputs": [
    {
     "data": {
      "image/png": "[encoded data removed]",
      "text/plain": [
       "<Figure size 432x288 with 1 Axes>"
      ]
     },
     "metadata": {
      "needs_background": "light"
     },
     "output_type": "display_data"
    }
   ],
   "source": [
    "draw_roc(rf_model)"
   ]
  },
  {
   "cell_type": "code",
   "execution_count": 107,
   "metadata": {},
   "outputs": [
    {
     "data": {
      "text/plain": [
       "<sklearn.metrics._plot.confusion_matrix.ConfusionMatrixDisplay at 0x1d0265e98c8>"
      ]
     },
     "execution_count": 107,
     "metadata": {},
     "output_type": "execute_result"
    },
    {
     "data": {
      "image/png": "[encoded data removed]",
      "text/plain": [
       "<Figure size 432x288 with 2 Axes>"
      ]
     },
     "metadata": {
      "needs_background": "light"
     },
     "output_type": "display_data"
    }
   ],
   "source": [
    "plot_confusion_matrix(rf_model, X_test, y_test)"
   ]
  },
  {
   "cell_type": "markdown",
   "metadata": {},
   "source": [
    "### Gradient Boosting Machines"
   ]
  },
  {
   "cell_type": "code",
   "execution_count": 111,
   "metadata": {},
   "outputs": [
    {
     "name": "stdout",
     "output_type": "stream",
     "text": [
      "Wall time: 3.97 s\n"
     ]
    }
   ],
   "source": [
    "%%time\n",
    "gbm_model = GradientBoostingClassifier(learning_rate = 0.01, \n",
    "                                 max_depth = 3,\n",
    "                                 min_samples_split = 5,\n",
    "                                 n_estimators = 100)\n",
    "gbm_model.fit(X_train,y_train)\n",
    "y_pred = gbm_model.predict(X_test)"
   ]
  },
  {
   "cell_type": "code",
   "execution_count": 112,
   "metadata": {},
   "outputs": [
    {
     "data": {
      "text/plain": [
       "0.9273333333333333"
      ]
     },
     "execution_count": 112,
     "metadata": {},
     "output_type": "execute_result"
    }
   ],
   "source": [
    "accuracy_score(y_test, y_pred)"
   ]
  },
  {
   "cell_type": "code",
   "execution_count": 114,
   "metadata": {},
   "outputs": [
    {
     "data": {
      "text/plain": [
       "0.9276666666666668"
      ]
     },
     "execution_count": 114,
     "metadata": {},
     "output_type": "execute_result"
    }
   ],
   "source": [
    "cross_val_score(gbm_model, X_test, y_test, cv = 10).mean()"
   ]
  },
  {
   "cell_type": "code",
   "execution_count": 115,
   "metadata": {},
   "outputs": [
    {
     "data": {
      "image/png": "[encoded data removed]",
      "text/plain": [
       "<Figure size 432x288 with 1 Axes>"
      ]
     },
     "metadata": {
      "needs_background": "light"
     },
     "output_type": "display_data"
    }
   ],
   "source": [
    "draw_roc(gbm_model)"
   ]
  },
  {
   "cell_type": "code",
   "execution_count": 116,
   "metadata": {},
   "outputs": [
    {
     "data": {
      "text/plain": [
       "<sklearn.metrics._plot.confusion_matrix.ConfusionMatrixDisplay at 0x1d026998948>"
      ]
     },
     "execution_count": 116,
     "metadata": {},
     "output_type": "execute_result"
    },
    {
     "data": {
      "image/png": "[encoded data removed]",
      "text/plain": [
       "<Figure size 432x288 with 2 Axes>"
      ]
     },
     "metadata": {
      "needs_background": "light"
     },
     "output_type": "display_data"
    }
   ],
   "source": [
    "plot_confusion_matrix(gbm_model, X_test, y_test)"
   ]
  },
  {
   "cell_type": "markdown",
   "metadata": {},
   "source": [
    "### XGBoost"
   ]
  },
  {
   "cell_type": "code",
   "execution_count": 117,
   "metadata": {},
   "outputs": [
    {
     "name": "stdout",
     "output_type": "stream",
     "text": [
      "Wall time: 3.96 s\n"
     ]
    }
   ],
   "source": [
    "%%time\n",
    "xgb_model = XGBClassifier(learning_rate = 0.01, \n",
    "                    max_depth = 6,\n",
    "                    min_samples_split = 2,\n",
    "                    n_estimators = 100,\n",
    "                    subsample = 0.8)\n",
    "xgb_model.fit(X_train, y_train)\n",
    "y_pred = xgb_model.predict(X_test)"
   ]
  },
  {
   "cell_type": "code",
   "execution_count": 118,
   "metadata": {},
   "outputs": [
    {
     "data": {
      "text/plain": [
       "0.9363333333333334"
      ]
     },
     "execution_count": 118,
     "metadata": {},
     "output_type": "execute_result"
    }
   ],
   "source": [
    "accuracy_score(y_test, y_pred)"
   ]
  },
  {
   "cell_type": "code",
   "execution_count": 119,
   "metadata": {},
   "outputs": [
    {
     "data": {
      "text/plain": [
       "0.9310833333333333"
      ]
     },
     "execution_count": 119,
     "metadata": {},
     "output_type": "execute_result"
    }
   ],
   "source": [
    "cross_val_score(xgb_model, X_test, y_test, cv = 10).mean()"
   ]
  },
  {
   "cell_type": "code",
   "execution_count": 120,
   "metadata": {},
   "outputs": [
    {
     "data": {
      "image/png": "[encoded data removed]",
      "text/plain": [
       "<Figure size 432x288 with 1 Axes>"
      ]
     },
     "metadata": {
      "needs_background": "light"
     },
     "output_type": "display_data"
    }
   ],
   "source": [
    "draw_roc(xgb_model)"
   ]
  },
  {
   "cell_type": "code",
   "execution_count": 121,
   "metadata": {},
   "outputs": [
    {
     "data": {
      "text/plain": [
       "<sklearn.metrics._plot.confusion_matrix.ConfusionMatrixDisplay at 0x1d026aed048>"
      ]
     },
     "execution_count": 121,
     "metadata": {},
     "output_type": "execute_result"
    },
    {
     "data": {
      "image/png": "[encoded data removed]",
      "text/plain": [
       "<Figure size 432x288 with 2 Axes>"
      ]
     },
     "metadata": {
      "needs_background": "light"
     },
     "output_type": "display_data"
    }
   ],
   "source": [
    "plot_confusion_matrix(xgb_model, X_test, y_test)"
   ]
  },
  {
   "cell_type": "markdown",
   "metadata": {},
   "source": [
    "### CatBoost"
   ]
  },
  {
   "cell_type": "code",
   "execution_count": 123,
   "metadata": {
    "collapsed": true,
    "jupyter": {
     "outputs_hidden": true
    }
   },
   "outputs": [
    {
     "name": "stdout",
     "output_type": "stream",
     "text": [
      "0:\tlearn: 0.6259363\ttotal: 87.3ms\tremaining: 17.4s\n",
      "1:\tlearn: 0.5710223\ttotal: 103ms\tremaining: 10.2s\n",
      "2:\tlearn: 0.5166702\ttotal: 118ms\tremaining: 7.76s\n",
      "3:\tlearn: 0.4686646\ttotal: 133ms\tremaining: 6.52s\n",
      "4:\tlearn: 0.4310164\ttotal: 151ms\tremaining: 5.91s\n",
      "5:\tlearn: 0.3962217\ttotal: 166ms\tremaining: 5.35s\n",
      "6:\tlearn: 0.3673114\ttotal: 182ms\tremaining: 5.02s\n",
      "7:\tlearn: 0.3405308\ttotal: 199ms\tremaining: 4.79s\n",
      "8:\tlearn: 0.3193436\ttotal: 215ms\tremaining: 4.55s\n",
      "9:\tlearn: 0.3034076\ttotal: 229ms\tremaining: 4.34s\n",
      "10:\tlearn: 0.2872498\ttotal: 243ms\tremaining: 4.17s\n",
      "11:\tlearn: 0.2725875\ttotal: 275ms\tremaining: 4.31s\n",
      "12:\tlearn: 0.2600058\ttotal: 290ms\tremaining: 4.17s\n",
      "13:\tlearn: 0.2483217\ttotal: 311ms\tremaining: 4.13s\n",
      "14:\tlearn: 0.2363517\ttotal: 325ms\tremaining: 4.01s\n",
      "15:\tlearn: 0.2301359\ttotal: 339ms\tremaining: 3.9s\n",
      "16:\tlearn: 0.2227080\ttotal: 355ms\tremaining: 3.82s\n",
      "17:\tlearn: 0.2159894\ttotal: 370ms\tremaining: 3.74s\n",
      "18:\tlearn: 0.2098750\ttotal: 384ms\tremaining: 3.66s\n",
      "19:\tlearn: 0.2057855\ttotal: 400ms\tremaining: 3.6s\n",
      "20:\tlearn: 0.2002321\ttotal: 415ms\tremaining: 3.53s\n",
      "21:\tlearn: 0.1968977\ttotal: 429ms\tremaining: 3.47s\n",
      "22:\tlearn: 0.1949494\ttotal: 451ms\tremaining: 3.47s\n",
      "23:\tlearn: 0.1919194\ttotal: 465ms\tremaining: 3.41s\n",
      "24:\tlearn: 0.1887562\ttotal: 483ms\tremaining: 3.38s\n",
      "25:\tlearn: 0.1859532\ttotal: 498ms\tremaining: 3.33s\n",
      "26:\tlearn: 0.1836561\ttotal: 516ms\tremaining: 3.3s\n",
      "27:\tlearn: 0.1816005\ttotal: 531ms\tremaining: 3.26s\n",
      "28:\tlearn: 0.1799254\ttotal: 553ms\tremaining: 3.26s\n",
      "29:\tlearn: 0.1776122\ttotal: 570ms\tremaining: 3.23s\n",
      "30:\tlearn: 0.1753336\ttotal: 584ms\tremaining: 3.18s\n",
      "31:\tlearn: 0.1736966\ttotal: 599ms\tremaining: 3.14s\n",
      "32:\tlearn: 0.1728433\ttotal: 614ms\tremaining: 3.11s\n",
      "33:\tlearn: 0.1711928\ttotal: 627ms\tremaining: 3.06s\n",
      "34:\tlearn: 0.1701581\ttotal: 642ms\tremaining: 3.03s\n",
      "35:\tlearn: 0.1688733\ttotal: 657ms\tremaining: 2.99s\n",
      "36:\tlearn: 0.1677270\ttotal: 672ms\tremaining: 2.96s\n",
      "37:\tlearn: 0.1670328\ttotal: 689ms\tremaining: 2.94s\n",
      "38:\tlearn: 0.1661221\ttotal: 704ms\tremaining: 2.9s\n",
      "39:\tlearn: 0.1652551\ttotal: 719ms\tremaining: 2.88s\n",
      "40:\tlearn: 0.1646132\ttotal: 736ms\tremaining: 2.85s\n",
      "41:\tlearn: 0.1640007\ttotal: 750ms\tremaining: 2.82s\n",
      "42:\tlearn: 0.1631159\ttotal: 763ms\tremaining: 2.78s\n",
      "43:\tlearn: 0.1626091\ttotal: 779ms\tremaining: 2.76s\n",
      "44:\tlearn: 0.1622643\ttotal: 792ms\tremaining: 2.73s\n",
      "45:\tlearn: 0.1615827\ttotal: 808ms\tremaining: 2.7s\n",
      "46:\tlearn: 0.1607409\ttotal: 823ms\tremaining: 2.68s\n",
      "47:\tlearn: 0.1603459\ttotal: 841ms\tremaining: 2.66s\n",
      "48:\tlearn: 0.1601313\ttotal: 856ms\tremaining: 2.64s\n",
      "49:\tlearn: 0.1594319\ttotal: 872ms\tremaining: 2.62s\n",
      "50:\tlearn: 0.1586529\ttotal: 886ms\tremaining: 2.59s\n",
      "51:\tlearn: 0.1578049\ttotal: 902ms\tremaining: 2.57s\n",
      "52:\tlearn: 0.1571608\ttotal: 919ms\tremaining: 2.55s\n",
      "53:\tlearn: 0.1567206\ttotal: 933ms\tremaining: 2.52s\n",
      "54:\tlearn: 0.1564027\ttotal: 950ms\tremaining: 2.5s\n",
      "55:\tlearn: 0.1558623\ttotal: 963ms\tremaining: 2.48s\n",
      "56:\tlearn: 0.1551698\ttotal: 981ms\tremaining: 2.46s\n",
      "57:\tlearn: 0.1548895\ttotal: 996ms\tremaining: 2.44s\n",
      "58:\tlearn: 0.1547214\ttotal: 1.01s\tremaining: 2.42s\n",
      "59:\tlearn: 0.1541637\ttotal: 1.03s\tremaining: 2.4s\n",
      "60:\tlearn: 0.1539464\ttotal: 1.04s\tremaining: 2.38s\n",
      "61:\tlearn: 0.1537766\ttotal: 1.06s\tremaining: 2.35s\n",
      "62:\tlearn: 0.1535118\ttotal: 1.07s\tremaining: 2.33s\n",
      "63:\tlearn: 0.1532524\ttotal: 1.09s\tremaining: 2.31s\n",
      "64:\tlearn: 0.1530074\ttotal: 1.1s\tremaining: 2.29s\n",
      "65:\tlearn: 0.1527826\ttotal: 1.12s\tremaining: 2.27s\n",
      "66:\tlearn: 0.1524791\ttotal: 1.14s\tremaining: 2.25s\n",
      "67:\tlearn: 0.1521331\ttotal: 1.15s\tremaining: 2.23s\n",
      "68:\tlearn: 0.1519622\ttotal: 1.16s\tremaining: 2.21s\n",
      "69:\tlearn: 0.1517526\ttotal: 1.18s\tremaining: 2.19s\n",
      "70:\tlearn: 0.1515499\ttotal: 1.19s\tremaining: 2.17s\n",
      "71:\tlearn: 0.1512110\ttotal: 1.21s\tremaining: 2.15s\n",
      "72:\tlearn: 0.1511040\ttotal: 1.23s\tremaining: 2.13s\n",
      "73:\tlearn: 0.1507461\ttotal: 1.24s\tremaining: 2.11s\n",
      "74:\tlearn: 0.1503909\ttotal: 1.25s\tremaining: 2.09s\n",
      "75:\tlearn: 0.1500862\ttotal: 1.27s\tremaining: 2.07s\n",
      "76:\tlearn: 0.1499029\ttotal: 1.28s\tremaining: 2.05s\n",
      "77:\tlearn: 0.1495805\ttotal: 1.3s\tremaining: 2.03s\n",
      "78:\tlearn: 0.1494133\ttotal: 1.31s\tremaining: 2.01s\n",
      "79:\tlearn: 0.1490902\ttotal: 1.32s\tremaining: 1.99s\n",
      "80:\tlearn: 0.1488720\ttotal: 1.34s\tremaining: 1.97s\n",
      "81:\tlearn: 0.1485927\ttotal: 1.35s\tremaining: 1.95s\n",
      "82:\tlearn: 0.1482848\ttotal: 1.37s\tremaining: 1.93s\n",
      "83:\tlearn: 0.1480007\ttotal: 1.38s\tremaining: 1.91s\n",
      "84:\tlearn: 0.1477674\ttotal: 1.4s\tremaining: 1.9s\n",
      "85:\tlearn: 0.1476070\ttotal: 1.42s\tremaining: 1.88s\n",
      "86:\tlearn: 0.1473008\ttotal: 1.43s\tremaining: 1.86s\n",
      "87:\tlearn: 0.1470683\ttotal: 1.45s\tremaining: 1.84s\n",
      "88:\tlearn: 0.1468997\ttotal: 1.46s\tremaining: 1.82s\n",
      "89:\tlearn: 0.1467960\ttotal: 1.48s\tremaining: 1.81s\n",
      "90:\tlearn: 0.1466600\ttotal: 1.49s\tremaining: 1.79s\n",
      "91:\tlearn: 0.1464591\ttotal: 1.51s\tremaining: 1.78s\n",
      "92:\tlearn: 0.1463363\ttotal: 1.53s\tremaining: 1.76s\n",
      "93:\tlearn: 0.1462184\ttotal: 1.55s\tremaining: 1.74s\n",
      "94:\tlearn: 0.1460641\ttotal: 1.56s\tremaining: 1.72s\n",
      "95:\tlearn: 0.1458529\ttotal: 1.58s\tremaining: 1.71s\n",
      "96:\tlearn: 0.1457379\ttotal: 1.59s\tremaining: 1.69s\n",
      "97:\tlearn: 0.1456197\ttotal: 1.6s\tremaining: 1.67s\n",
      "98:\tlearn: 0.1455093\ttotal: 1.62s\tremaining: 1.65s\n",
      "99:\tlearn: 0.1452127\ttotal: 1.63s\tremaining: 1.63s\n",
      "100:\tlearn: 0.1451452\ttotal: 1.65s\tremaining: 1.62s\n",
      "101:\tlearn: 0.1450951\ttotal: 1.67s\tremaining: 1.6s\n",
      "102:\tlearn: 0.1447869\ttotal: 1.68s\tremaining: 1.58s\n",
      "103:\tlearn: 0.1446949\ttotal: 1.69s\tremaining: 1.56s\n",
      "104:\tlearn: 0.1445596\ttotal: 1.7s\tremaining: 1.54s\n",
      "105:\tlearn: 0.1444500\ttotal: 1.72s\tremaining: 1.53s\n",
      "106:\tlearn: 0.1442897\ttotal: 1.74s\tremaining: 1.51s\n",
      "107:\tlearn: 0.1442274\ttotal: 1.75s\tremaining: 1.49s\n",
      "108:\tlearn: 0.1438767\ttotal: 1.76s\tremaining: 1.47s\n",
      "109:\tlearn: 0.1436736\ttotal: 1.78s\tremaining: 1.45s\n",
      "110:\tlearn: 0.1435309\ttotal: 1.79s\tremaining: 1.44s\n",
      "111:\tlearn: 0.1434490\ttotal: 1.81s\tremaining: 1.42s\n",
      "112:\tlearn: 0.1433659\ttotal: 1.82s\tremaining: 1.4s\n",
      "113:\tlearn: 0.1431257\ttotal: 1.83s\tremaining: 1.38s\n",
      "114:\tlearn: 0.1430054\ttotal: 1.85s\tremaining: 1.36s\n",
      "115:\tlearn: 0.1428004\ttotal: 1.86s\tremaining: 1.35s\n",
      "116:\tlearn: 0.1426864\ttotal: 1.87s\tremaining: 1.33s\n",
      "117:\tlearn: 0.1425181\ttotal: 1.89s\tremaining: 1.31s\n",
      "118:\tlearn: 0.1423895\ttotal: 1.9s\tremaining: 1.29s\n",
      "119:\tlearn: 0.1422115\ttotal: 1.92s\tremaining: 1.28s\n",
      "120:\tlearn: 0.1421638\ttotal: 1.93s\tremaining: 1.26s\n",
      "121:\tlearn: 0.1421012\ttotal: 1.95s\tremaining: 1.24s\n",
      "122:\tlearn: 0.1419163\ttotal: 1.96s\tremaining: 1.23s\n",
      "123:\tlearn: 0.1417446\ttotal: 1.98s\tremaining: 1.21s\n",
      "124:\tlearn: 0.1416501\ttotal: 1.99s\tremaining: 1.19s\n",
      "125:\tlearn: 0.1415118\ttotal: 2s\tremaining: 1.18s\n",
      "126:\tlearn: 0.1413534\ttotal: 2.02s\tremaining: 1.16s\n",
      "127:\tlearn: 0.1412482\ttotal: 2.03s\tremaining: 1.14s\n",
      "128:\tlearn: 0.1411451\ttotal: 2.05s\tremaining: 1.13s\n",
      "129:\tlearn: 0.1409941\ttotal: 2.06s\tremaining: 1.11s\n",
      "130:\tlearn: 0.1409075\ttotal: 2.08s\tremaining: 1.09s\n",
      "131:\tlearn: 0.1407993\ttotal: 2.1s\tremaining: 1.08s\n",
      "132:\tlearn: 0.1406453\ttotal: 2.11s\tremaining: 1.06s\n",
      "133:\tlearn: 0.1405237\ttotal: 2.13s\tremaining: 1.05s\n",
      "134:\tlearn: 0.1404591\ttotal: 2.14s\tremaining: 1.03s\n",
      "135:\tlearn: 0.1403746\ttotal: 2.15s\tremaining: 1.01s\n",
      "136:\tlearn: 0.1402651\ttotal: 2.16s\tremaining: 995ms\n",
      "137:\tlearn: 0.1400557\ttotal: 2.18s\tremaining: 978ms\n",
      "138:\tlearn: 0.1399262\ttotal: 2.2s\tremaining: 965ms\n",
      "139:\tlearn: 0.1398597\ttotal: 2.21s\tremaining: 948ms\n",
      "140:\tlearn: 0.1397541\ttotal: 2.23s\tremaining: 932ms\n",
      "141:\tlearn: 0.1396665\ttotal: 2.24s\tremaining: 914ms\n",
      "142:\tlearn: 0.1395494\ttotal: 2.25s\tremaining: 897ms\n",
      "143:\tlearn: 0.1394157\ttotal: 2.27s\tremaining: 881ms\n",
      "144:\tlearn: 0.1393670\ttotal: 2.28s\tremaining: 864ms\n",
      "145:\tlearn: 0.1392887\ttotal: 2.29s\tremaining: 847ms\n",
      "146:\tlearn: 0.1392303\ttotal: 2.3s\tremaining: 830ms\n",
      "147:\tlearn: 0.1391561\ttotal: 2.31s\tremaining: 813ms\n",
      "148:\tlearn: 0.1390826\ttotal: 2.33s\tremaining: 797ms\n",
      "149:\tlearn: 0.1389996\ttotal: 2.34s\tremaining: 780ms\n",
      "150:\tlearn: 0.1389480\ttotal: 2.35s\tremaining: 764ms\n",
      "151:\tlearn: 0.1388933\ttotal: 2.37s\tremaining: 749ms\n",
      "152:\tlearn: 0.1388381\ttotal: 2.38s\tremaining: 732ms\n",
      "153:\tlearn: 0.1387119\ttotal: 2.4s\tremaining: 717ms\n",
      "154:\tlearn: 0.1386630\ttotal: 2.41s\tremaining: 701ms\n",
      "155:\tlearn: 0.1385143\ttotal: 2.43s\tremaining: 685ms\n",
      "156:\tlearn: 0.1384072\ttotal: 2.44s\tremaining: 668ms\n",
      "157:\tlearn: 0.1383626\ttotal: 2.45s\tremaining: 652ms\n",
      "158:\tlearn: 0.1383236\ttotal: 2.47s\tremaining: 637ms\n",
      "159:\tlearn: 0.1382245\ttotal: 2.48s\tremaining: 621ms\n",
      "160:\tlearn: 0.1381167\ttotal: 2.5s\tremaining: 605ms\n",
      "161:\tlearn: 0.1380184\ttotal: 2.51s\tremaining: 589ms\n",
      "162:\tlearn: 0.1379255\ttotal: 2.53s\tremaining: 574ms\n",
      "163:\tlearn: 0.1378653\ttotal: 2.54s\tremaining: 558ms\n",
      "164:\tlearn: 0.1377780\ttotal: 2.56s\tremaining: 542ms\n",
      "165:\tlearn: 0.1376342\ttotal: 2.57s\tremaining: 527ms\n",
      "166:\tlearn: 0.1375702\ttotal: 2.59s\tremaining: 512ms\n",
      "167:\tlearn: 0.1375241\ttotal: 2.61s\tremaining: 496ms\n",
      "168:\tlearn: 0.1373649\ttotal: 2.62s\tremaining: 481ms\n",
      "169:\tlearn: 0.1372062\ttotal: 2.64s\tremaining: 465ms\n",
      "170:\tlearn: 0.1370802\ttotal: 2.66s\tremaining: 451ms\n",
      "171:\tlearn: 0.1370410\ttotal: 2.67s\tremaining: 435ms\n",
      "172:\tlearn: 0.1369846\ttotal: 2.69s\tremaining: 419ms\n",
      "173:\tlearn: 0.1368915\ttotal: 2.7s\tremaining: 403ms\n",
      "174:\tlearn: 0.1367307\ttotal: 2.71s\tremaining: 388ms\n",
      "175:\tlearn: 0.1366305\ttotal: 2.73s\tremaining: 372ms\n",
      "176:\tlearn: 0.1364951\ttotal: 2.74s\tremaining: 356ms\n",
      "177:\tlearn: 0.1363850\ttotal: 2.76s\tremaining: 341ms\n",
      "178:\tlearn: 0.1362404\ttotal: 2.77s\tremaining: 325ms\n",
      "179:\tlearn: 0.1360828\ttotal: 2.78s\tremaining: 309ms\n",
      "180:\tlearn: 0.1360292\ttotal: 2.8s\tremaining: 294ms\n",
      "181:\tlearn: 0.1359379\ttotal: 2.81s\tremaining: 278ms\n",
      "182:\tlearn: 0.1358031\ttotal: 2.83s\tremaining: 263ms\n",
      "183:\tlearn: 0.1357725\ttotal: 2.84s\tremaining: 247ms\n",
      "184:\tlearn: 0.1356578\ttotal: 2.85s\tremaining: 231ms\n",
      "185:\tlearn: 0.1355556\ttotal: 2.87s\tremaining: 216ms\n",
      "186:\tlearn: 0.1355268\ttotal: 2.88s\tremaining: 200ms\n",
      "187:\tlearn: 0.1354195\ttotal: 2.9s\tremaining: 185ms\n",
      "188:\tlearn: 0.1352399\ttotal: 2.91s\tremaining: 169ms\n",
      "189:\tlearn: 0.1351595\ttotal: 2.92s\tremaining: 154ms\n",
      "190:\tlearn: 0.1350735\ttotal: 2.94s\tremaining: 138ms\n",
      "191:\tlearn: 0.1349694\ttotal: 2.95s\tremaining: 123ms\n",
      "192:\tlearn: 0.1349213\ttotal: 2.96s\tremaining: 107ms\n",
      "193:\tlearn: 0.1348507\ttotal: 2.98s\tremaining: 92.1ms\n",
      "194:\tlearn: 0.1347408\ttotal: 2.99s\tremaining: 76.7ms\n",
      "195:\tlearn: 0.1346544\ttotal: 3s\tremaining: 61.3ms\n",
      "196:\tlearn: 0.1346259\ttotal: 3.02s\tremaining: 46ms\n",
      "197:\tlearn: 0.1345319\ttotal: 3.03s\tremaining: 30.7ms\n",
      "198:\tlearn: 0.1344670\ttotal: 3.05s\tremaining: 15.3ms\n",
      "199:\tlearn: 0.1343658\ttotal: 3.06s\tremaining: 0us\n",
      "Wall time: 3.29 s\n"
     ]
    }
   ],
   "source": [
    "%%time\n",
    "catb_model = CatBoostClassifier(iterations = 200, \n",
    "                              learning_rate = 0.05, \n",
    "                              depth = 5)\n",
    "\n",
    "catb_model.fit(X_train, y_train)\n",
    "y_pred = catb_model.predict(X_test)"
   ]
  },
  {
   "cell_type": "code",
   "execution_count": 124,
   "metadata": {},
   "outputs": [
    {
     "data": {
      "text/plain": [
       "0.9385"
      ]
     },
     "execution_count": 124,
     "metadata": {},
     "output_type": "execute_result"
    }
   ],
   "source": [
    "accuracy_score(y_test, y_pred)"
   ]
  },
  {
   "cell_type": "code",
   "execution_count": 125,
   "metadata": {
    "collapsed": true,
    "jupyter": {
     "outputs_hidden": true
    }
   },
   "outputs": [
    {
     "name": "stdout",
     "output_type": "stream",
     "text": [
      "0:\tlearn: 0.6201839\ttotal: 24.7ms\tremaining: 4.91s\n",
      "1:\tlearn: 0.5653575\ttotal: 34.9ms\tremaining: 3.46s\n",
      "2:\tlearn: 0.5095846\ttotal: 48.6ms\tremaining: 3.19s\n",
      "3:\tlearn: 0.4625920\ttotal: 60.6ms\tremaining: 2.97s\n",
      "4:\tlearn: 0.4250028\ttotal: 72.9ms\tremaining: 2.84s\n",
      "5:\tlearn: 0.3906115\ttotal: 87.2ms\tremaining: 2.82s\n",
      "6:\tlearn: 0.3635992\ttotal: 98.6ms\tremaining: 2.72s\n",
      "7:\tlearn: 0.3429521\ttotal: 112ms\tremaining: 2.69s\n",
      "8:\tlearn: 0.3194867\ttotal: 128ms\tremaining: 2.72s\n",
      "9:\tlearn: 0.3005622\ttotal: 140ms\tremaining: 2.65s\n",
      "10:\tlearn: 0.2852234\ttotal: 153ms\tremaining: 2.63s\n",
      "11:\tlearn: 0.2695377\ttotal: 163ms\tremaining: 2.55s\n",
      "12:\tlearn: 0.2565444\ttotal: 176ms\tremaining: 2.53s\n",
      "13:\tlearn: 0.2454095\ttotal: 191ms\tremaining: 2.54s\n",
      "14:\tlearn: 0.2380237\ttotal: 203ms\tremaining: 2.51s\n",
      "15:\tlearn: 0.2318080\ttotal: 215ms\tremaining: 2.48s\n",
      "16:\tlearn: 0.2248807\ttotal: 231ms\tremaining: 2.49s\n",
      "17:\tlearn: 0.2178695\ttotal: 244ms\tremaining: 2.47s\n",
      "18:\tlearn: 0.2113223\ttotal: 259ms\tremaining: 2.46s\n",
      "19:\tlearn: 0.2059710\ttotal: 270ms\tremaining: 2.43s\n",
      "20:\tlearn: 0.2014862\ttotal: 283ms\tremaining: 2.41s\n",
      "21:\tlearn: 0.1986686\ttotal: 296ms\tremaining: 2.4s\n",
      "22:\tlearn: 0.1961953\ttotal: 307ms\tremaining: 2.36s\n",
      "23:\tlearn: 0.1930090\ttotal: 318ms\tremaining: 2.33s\n",
      "24:\tlearn: 0.1894283\ttotal: 333ms\tremaining: 2.33s\n",
      "25:\tlearn: 0.1860945\ttotal: 344ms\tremaining: 2.3s\n",
      "26:\tlearn: 0.1831402\ttotal: 359ms\tremaining: 2.3s\n",
      "27:\tlearn: 0.1803695\ttotal: 369ms\tremaining: 2.27s\n",
      "28:\tlearn: 0.1782780\ttotal: 380ms\tremaining: 2.24s\n",
      "29:\tlearn: 0.1771029\ttotal: 389ms\tremaining: 2.21s\n",
      "30:\tlearn: 0.1755783\ttotal: 407ms\tremaining: 2.22s\n",
      "31:\tlearn: 0.1736294\ttotal: 418ms\tremaining: 2.19s\n",
      "32:\tlearn: 0.1726926\ttotal: 427ms\tremaining: 2.16s\n",
      "33:\tlearn: 0.1712456\ttotal: 438ms\tremaining: 2.14s\n",
      "34:\tlearn: 0.1699643\ttotal: 449ms\tremaining: 2.11s\n",
      "35:\tlearn: 0.1683942\ttotal: 461ms\tremaining: 2.1s\n",
      "36:\tlearn: 0.1670431\ttotal: 475ms\tremaining: 2.09s\n",
      "37:\tlearn: 0.1662943\ttotal: 486ms\tremaining: 2.07s\n",
      "38:\tlearn: 0.1656451\ttotal: 499ms\tremaining: 2.06s\n",
      "39:\tlearn: 0.1647869\ttotal: 510ms\tremaining: 2.04s\n",
      "40:\tlearn: 0.1638128\ttotal: 521ms\tremaining: 2.02s\n",
      "41:\tlearn: 0.1632826\ttotal: 534ms\tremaining: 2.01s\n",
      "42:\tlearn: 0.1621098\ttotal: 544ms\tremaining: 1.99s\n",
      "43:\tlearn: 0.1615396\ttotal: 554ms\tremaining: 1.96s\n",
      "44:\tlearn: 0.1609605\ttotal: 565ms\tremaining: 1.94s\n",
      "45:\tlearn: 0.1604184\ttotal: 576ms\tremaining: 1.93s\n",
      "46:\tlearn: 0.1594105\ttotal: 588ms\tremaining: 1.91s\n",
      "47:\tlearn: 0.1588613\ttotal: 600ms\tremaining: 1.9s\n",
      "48:\tlearn: 0.1578774\ttotal: 612ms\tremaining: 1.89s\n",
      "49:\tlearn: 0.1573780\ttotal: 624ms\tremaining: 1.87s\n",
      "50:\tlearn: 0.1569364\ttotal: 636ms\tremaining: 1.86s\n",
      "51:\tlearn: 0.1564644\ttotal: 647ms\tremaining: 1.84s\n",
      "52:\tlearn: 0.1559642\ttotal: 658ms\tremaining: 1.82s\n",
      "53:\tlearn: 0.1555277\ttotal: 672ms\tremaining: 1.81s\n",
      "54:\tlearn: 0.1548650\ttotal: 685ms\tremaining: 1.8s\n",
      "55:\tlearn: 0.1546386\ttotal: 698ms\tremaining: 1.79s\n",
      "56:\tlearn: 0.1541261\ttotal: 708ms\tremaining: 1.78s\n",
      "57:\tlearn: 0.1535231\ttotal: 720ms\tremaining: 1.76s\n",
      "58:\tlearn: 0.1530995\ttotal: 732ms\tremaining: 1.75s\n",
      "59:\tlearn: 0.1524090\ttotal: 745ms\tremaining: 1.74s\n",
      "60:\tlearn: 0.1521977\ttotal: 758ms\tremaining: 1.73s\n",
      "61:\tlearn: 0.1518974\ttotal: 769ms\tremaining: 1.71s\n",
      "62:\tlearn: 0.1516271\ttotal: 782ms\tremaining: 1.7s\n",
      "63:\tlearn: 0.1512923\ttotal: 794ms\tremaining: 1.69s\n",
      "64:\tlearn: 0.1509725\ttotal: 806ms\tremaining: 1.68s\n",
      "65:\tlearn: 0.1504807\ttotal: 817ms\tremaining: 1.66s\n",
      "66:\tlearn: 0.1499947\ttotal: 831ms\tremaining: 1.65s\n",
      "67:\tlearn: 0.1497146\ttotal: 843ms\tremaining: 1.64s\n",
      "68:\tlearn: 0.1493214\ttotal: 854ms\tremaining: 1.62s\n",
      "69:\tlearn: 0.1486257\ttotal: 869ms\tremaining: 1.61s\n",
      "70:\tlearn: 0.1481965\ttotal: 879ms\tremaining: 1.6s\n",
      "71:\tlearn: 0.1478294\ttotal: 894ms\tremaining: 1.59s\n",
      "72:\tlearn: 0.1474583\ttotal: 905ms\tremaining: 1.57s\n",
      "73:\tlearn: 0.1468701\ttotal: 917ms\tremaining: 1.56s\n",
      "74:\tlearn: 0.1466461\ttotal: 928ms\tremaining: 1.55s\n",
      "75:\tlearn: 0.1464817\ttotal: 940ms\tremaining: 1.53s\n",
      "76:\tlearn: 0.1459436\ttotal: 952ms\tremaining: 1.52s\n",
      "77:\tlearn: 0.1455268\ttotal: 966ms\tremaining: 1.51s\n",
      "78:\tlearn: 0.1452130\ttotal: 977ms\tremaining: 1.5s\n",
      "79:\tlearn: 0.1451660\ttotal: 990ms\tremaining: 1.49s\n",
      "80:\tlearn: 0.1449528\ttotal: 1s\tremaining: 1.47s\n",
      "81:\tlearn: 0.1447079\ttotal: 1.01s\tremaining: 1.45s\n",
      "82:\tlearn: 0.1444335\ttotal: 1.02s\tremaining: 1.44s\n",
      "83:\tlearn: 0.1441175\ttotal: 1.04s\tremaining: 1.43s\n",
      "84:\tlearn: 0.1439145\ttotal: 1.05s\tremaining: 1.42s\n",
      "85:\tlearn: 0.1436532\ttotal: 1.06s\tremaining: 1.41s\n",
      "86:\tlearn: 0.1433142\ttotal: 1.07s\tremaining: 1.39s\n",
      "87:\tlearn: 0.1430239\ttotal: 1.08s\tremaining: 1.38s\n",
      "88:\tlearn: 0.1428327\ttotal: 1.1s\tremaining: 1.38s\n",
      "89:\tlearn: 0.1426679\ttotal: 1.11s\tremaining: 1.36s\n",
      "90:\tlearn: 0.1423729\ttotal: 1.13s\tremaining: 1.35s\n",
      "91:\tlearn: 0.1421151\ttotal: 1.14s\tremaining: 1.33s\n",
      "92:\tlearn: 0.1419383\ttotal: 1.15s\tremaining: 1.32s\n",
      "93:\tlearn: 0.1417453\ttotal: 1.16s\tremaining: 1.31s\n",
      "94:\tlearn: 0.1414516\ttotal: 1.17s\tremaining: 1.3s\n",
      "95:\tlearn: 0.1412269\ttotal: 1.18s\tremaining: 1.28s\n",
      "96:\tlearn: 0.1409020\ttotal: 1.2s\tremaining: 1.27s\n",
      "97:\tlearn: 0.1405882\ttotal: 1.21s\tremaining: 1.25s\n",
      "98:\tlearn: 0.1403272\ttotal: 1.22s\tremaining: 1.24s\n",
      "99:\tlearn: 0.1400789\ttotal: 1.23s\tremaining: 1.23s\n",
      "100:\tlearn: 0.1398720\ttotal: 1.24s\tremaining: 1.22s\n",
      "101:\tlearn: 0.1397037\ttotal: 1.25s\tremaining: 1.2s\n",
      "102:\tlearn: 0.1395154\ttotal: 1.26s\tremaining: 1.19s\n",
      "103:\tlearn: 0.1393525\ttotal: 1.27s\tremaining: 1.17s\n",
      "104:\tlearn: 0.1390507\ttotal: 1.28s\tremaining: 1.16s\n",
      "105:\tlearn: 0.1389270\ttotal: 1.29s\tremaining: 1.15s\n",
      "106:\tlearn: 0.1388011\ttotal: 1.31s\tremaining: 1.14s\n",
      "107:\tlearn: 0.1386058\ttotal: 1.32s\tremaining: 1.12s\n",
      "108:\tlearn: 0.1383293\ttotal: 1.33s\tremaining: 1.11s\n",
      "109:\tlearn: 0.1382387\ttotal: 1.34s\tremaining: 1.1s\n",
      "110:\tlearn: 0.1380723\ttotal: 1.35s\tremaining: 1.08s\n",
      "111:\tlearn: 0.1377607\ttotal: 1.37s\tremaining: 1.07s\n",
      "112:\tlearn: 0.1376453\ttotal: 1.38s\tremaining: 1.06s\n",
      "113:\tlearn: 0.1374711\ttotal: 1.39s\tremaining: 1.05s\n",
      "114:\tlearn: 0.1373539\ttotal: 1.4s\tremaining: 1.03s\n",
      "115:\tlearn: 0.1372219\ttotal: 1.41s\tremaining: 1.02s\n",
      "116:\tlearn: 0.1370924\ttotal: 1.42s\tremaining: 1.01s\n",
      "117:\tlearn: 0.1369321\ttotal: 1.44s\tremaining: 999ms\n",
      "118:\tlearn: 0.1366062\ttotal: 1.45s\tremaining: 987ms\n",
      "119:\tlearn: 0.1363383\ttotal: 1.46s\tremaining: 974ms\n",
      "120:\tlearn: 0.1362727\ttotal: 1.47s\tremaining: 961ms\n",
      "121:\tlearn: 0.1360997\ttotal: 1.48s\tremaining: 948ms\n",
      "122:\tlearn: 0.1359412\ttotal: 1.5s\tremaining: 937ms\n",
      "123:\tlearn: 0.1357802\ttotal: 1.51s\tremaining: 926ms\n",
      "124:\tlearn: 0.1356495\ttotal: 1.52s\tremaining: 914ms\n",
      "125:\tlearn: 0.1354823\ttotal: 1.54s\tremaining: 902ms\n",
      "126:\tlearn: 0.1352598\ttotal: 1.55s\tremaining: 889ms\n",
      "127:\tlearn: 0.1350681\ttotal: 1.56s\tremaining: 876ms\n",
      "128:\tlearn: 0.1349457\ttotal: 1.57s\tremaining: 864ms\n",
      "129:\tlearn: 0.1348653\ttotal: 1.58s\tremaining: 851ms\n",
      "130:\tlearn: 0.1346810\ttotal: 1.59s\tremaining: 839ms\n",
      "131:\tlearn: 0.1345878\ttotal: 1.61s\tremaining: 828ms\n",
      "132:\tlearn: 0.1344612\ttotal: 1.62s\tremaining: 815ms\n",
      "133:\tlearn: 0.1343917\ttotal: 1.63s\tremaining: 803ms\n",
      "134:\tlearn: 0.1342046\ttotal: 1.64s\tremaining: 790ms\n",
      "135:\tlearn: 0.1340924\ttotal: 1.65s\tremaining: 777ms\n",
      "136:\tlearn: 0.1338406\ttotal: 1.66s\tremaining: 765ms\n",
      "137:\tlearn: 0.1336873\ttotal: 1.68s\tremaining: 753ms\n",
      "138:\tlearn: 0.1335488\ttotal: 1.69s\tremaining: 741ms\n",
      "139:\tlearn: 0.1333946\ttotal: 1.71s\tremaining: 732ms\n",
      "140:\tlearn: 0.1332021\ttotal: 1.72s\tremaining: 719ms\n",
      "141:\tlearn: 0.1330601\ttotal: 1.73s\tremaining: 707ms\n",
      "142:\tlearn: 0.1329924\ttotal: 1.74s\tremaining: 694ms\n",
      "143:\tlearn: 0.1327505\ttotal: 1.75s\tremaining: 681ms\n",
      "144:\tlearn: 0.1326494\ttotal: 1.76s\tremaining: 669ms\n",
      "145:\tlearn: 0.1324836\ttotal: 1.78s\tremaining: 659ms\n",
      "146:\tlearn: 0.1324566\ttotal: 1.79s\tremaining: 646ms\n",
      "147:\tlearn: 0.1323573\ttotal: 1.8s\tremaining: 634ms\n",
      "148:\tlearn: 0.1322818\ttotal: 1.82s\tremaining: 622ms\n",
      "149:\tlearn: 0.1321475\ttotal: 1.83s\tremaining: 610ms\n",
      "150:\tlearn: 0.1320181\ttotal: 1.84s\tremaining: 598ms\n",
      "151:\tlearn: 0.1319611\ttotal: 1.85s\tremaining: 585ms\n",
      "152:\tlearn: 0.1318585\ttotal: 1.87s\tremaining: 574ms\n",
      "153:\tlearn: 0.1317800\ttotal: 1.88s\tremaining: 562ms\n",
      "154:\tlearn: 0.1316530\ttotal: 1.89s\tremaining: 550ms\n",
      "155:\tlearn: 0.1316143\ttotal: 1.91s\tremaining: 538ms\n",
      "156:\tlearn: 0.1314781\ttotal: 1.92s\tremaining: 526ms\n",
      "157:\tlearn: 0.1313283\ttotal: 1.93s\tremaining: 514ms\n",
      "158:\tlearn: 0.1312298\ttotal: 1.95s\tremaining: 502ms\n",
      "159:\tlearn: 0.1310808\ttotal: 1.96s\tremaining: 490ms\n",
      "160:\tlearn: 0.1309900\ttotal: 1.97s\tremaining: 478ms\n",
      "161:\tlearn: 0.1308608\ttotal: 1.99s\tremaining: 466ms\n",
      "162:\tlearn: 0.1307403\ttotal: 2s\tremaining: 454ms\n",
      "163:\tlearn: 0.1305795\ttotal: 2.02s\tremaining: 442ms\n",
      "164:\tlearn: 0.1304526\ttotal: 2.03s\tremaining: 430ms\n",
      "165:\tlearn: 0.1302730\ttotal: 2.04s\tremaining: 417ms\n",
      "166:\tlearn: 0.1302102\ttotal: 2.05s\tremaining: 406ms\n",
      "167:\tlearn: 0.1300888\ttotal: 2.06s\tremaining: 394ms\n",
      "168:\tlearn: 0.1298742\ttotal: 2.08s\tremaining: 381ms\n",
      "169:\tlearn: 0.1298613\ttotal: 2.09s\tremaining: 369ms\n",
      "170:\tlearn: 0.1297169\ttotal: 2.1s\tremaining: 356ms\n",
      "171:\tlearn: 0.1296984\ttotal: 2.11s\tremaining: 344ms\n",
      "172:\tlearn: 0.1296183\ttotal: 2.13s\tremaining: 332ms\n",
      "173:\tlearn: 0.1295644\ttotal: 2.13s\tremaining: 319ms\n",
      "174:\tlearn: 0.1294742\ttotal: 2.15s\tremaining: 307ms\n",
      "175:\tlearn: 0.1292433\ttotal: 2.16s\tremaining: 294ms\n",
      "176:\tlearn: 0.1290858\ttotal: 2.17s\tremaining: 282ms\n",
      "177:\tlearn: 0.1290767\ttotal: 2.18s\tremaining: 269ms\n",
      "178:\tlearn: 0.1289617\ttotal: 2.19s\tremaining: 257ms\n",
      "179:\tlearn: 0.1289490\ttotal: 2.2s\tremaining: 245ms\n",
      "180:\tlearn: 0.1288727\ttotal: 2.22s\tremaining: 233ms\n",
      "181:\tlearn: 0.1287044\ttotal: 2.23s\tremaining: 221ms\n",
      "182:\tlearn: 0.1285451\ttotal: 2.24s\tremaining: 208ms\n",
      "183:\tlearn: 0.1284487\ttotal: 2.26s\tremaining: 196ms\n",
      "184:\tlearn: 0.1283208\ttotal: 2.27s\tremaining: 184ms\n",
      "185:\tlearn: 0.1282585\ttotal: 2.28s\tremaining: 172ms\n",
      "186:\tlearn: 0.1282031\ttotal: 2.29s\tremaining: 159ms\n",
      "187:\tlearn: 0.1281132\ttotal: 2.3s\tremaining: 147ms\n",
      "188:\tlearn: 0.1280314\ttotal: 2.31s\tremaining: 135ms\n",
      "189:\tlearn: 0.1280202\ttotal: 2.33s\tremaining: 122ms\n",
      "190:\tlearn: 0.1279524\ttotal: 2.34s\tremaining: 110ms\n",
      "191:\tlearn: 0.1278730\ttotal: 2.35s\tremaining: 98ms\n",
      "192:\tlearn: 0.1276990\ttotal: 2.36s\tremaining: 85.8ms\n",
      "193:\tlearn: 0.1275282\ttotal: 2.38s\tremaining: 73.5ms\n",
      "194:\tlearn: 0.1274451\ttotal: 2.39s\tremaining: 61.3ms\n",
      "195:\tlearn: 0.1272725\ttotal: 2.4s\tremaining: 49ms\n",
      "196:\tlearn: 0.1272680\ttotal: 2.41s\tremaining: 36.8ms\n",
      "197:\tlearn: 0.1270517\ttotal: 2.42s\tremaining: 24.5ms\n",
      "198:\tlearn: 0.1269688\ttotal: 2.44s\tremaining: 12.3ms\n",
      "199:\tlearn: 0.1267125\ttotal: 2.45s\tremaining: 0us\n",
      "0:\tlearn: 0.6204973\ttotal: 19.3ms\tremaining: 3.85s\n",
      "1:\tlearn: 0.5652320\ttotal: 36.1ms\tremaining: 3.58s\n",
      "2:\tlearn: 0.5139688\ttotal: 50.6ms\tremaining: 3.32s\n",
      "3:\tlearn: 0.4666948\ttotal: 65ms\tremaining: 3.18s\n",
      "4:\tlearn: 0.4285807\ttotal: 79.9ms\tremaining: 3.12s\n",
      "5:\tlearn: 0.3940566\ttotal: 95.2ms\tremaining: 3.08s\n",
      "6:\tlearn: 0.3667363\ttotal: 114ms\tremaining: 3.15s\n",
      "7:\tlearn: 0.3449037\ttotal: 127ms\tremaining: 3.05s\n",
      "8:\tlearn: 0.3211803\ttotal: 144ms\tremaining: 3.05s\n",
      "9:\tlearn: 0.3020202\ttotal: 157ms\tremaining: 2.99s\n",
      "10:\tlearn: 0.2863745\ttotal: 169ms\tremaining: 2.91s\n",
      "11:\tlearn: 0.2704386\ttotal: 187ms\tremaining: 2.93s\n",
      "12:\tlearn: 0.2574335\ttotal: 199ms\tremaining: 2.86s\n",
      "13:\tlearn: 0.2461664\ttotal: 212ms\tremaining: 2.81s\n",
      "14:\tlearn: 0.2386465\ttotal: 225ms\tremaining: 2.77s\n",
      "15:\tlearn: 0.2323212\ttotal: 238ms\tremaining: 2.74s\n",
      "16:\tlearn: 0.2235276\ttotal: 257ms\tremaining: 2.76s\n",
      "17:\tlearn: 0.2161392\ttotal: 270ms\tremaining: 2.73s\n",
      "18:\tlearn: 0.2093890\ttotal: 284ms\tremaining: 2.71s\n",
      "19:\tlearn: 0.2057497\ttotal: 296ms\tremaining: 2.66s\n",
      "20:\tlearn: 0.2012361\ttotal: 306ms\tremaining: 2.61s\n",
      "21:\tlearn: 0.1983030\ttotal: 323ms\tremaining: 2.62s\n",
      "22:\tlearn: 0.1955619\ttotal: 337ms\tremaining: 2.59s\n",
      "23:\tlearn: 0.1918913\ttotal: 353ms\tremaining: 2.59s\n",
      "24:\tlearn: 0.1883611\ttotal: 366ms\tremaining: 2.56s\n",
      "25:\tlearn: 0.1856693\ttotal: 380ms\tremaining: 2.54s\n",
      "26:\tlearn: 0.1835834\ttotal: 394ms\tremaining: 2.52s\n",
      "27:\tlearn: 0.1810682\ttotal: 409ms\tremaining: 2.51s\n",
      "28:\tlearn: 0.1793041\ttotal: 424ms\tremaining: 2.5s\n",
      "29:\tlearn: 0.1773495\ttotal: 436ms\tremaining: 2.47s\n",
      "30:\tlearn: 0.1757945\ttotal: 451ms\tremaining: 2.46s\n",
      "31:\tlearn: 0.1742562\ttotal: 464ms\tremaining: 2.44s\n",
      "32:\tlearn: 0.1733090\ttotal: 476ms\tremaining: 2.41s\n",
      "33:\tlearn: 0.1717828\ttotal: 489ms\tremaining: 2.38s\n",
      "34:\tlearn: 0.1702439\ttotal: 500ms\tremaining: 2.36s\n",
      "35:\tlearn: 0.1688446\ttotal: 515ms\tremaining: 2.35s\n",
      "36:\tlearn: 0.1674807\ttotal: 526ms\tremaining: 2.32s\n",
      "37:\tlearn: 0.1662708\ttotal: 540ms\tremaining: 2.3s\n",
      "38:\tlearn: 0.1657713\ttotal: 557ms\tremaining: 2.3s\n",
      "39:\tlearn: 0.1647655\ttotal: 569ms\tremaining: 2.27s\n",
      "40:\tlearn: 0.1637953\ttotal: 584ms\tremaining: 2.27s\n",
      "41:\tlearn: 0.1628306\ttotal: 599ms\tremaining: 2.25s\n",
      "42:\tlearn: 0.1619684\ttotal: 615ms\tremaining: 2.25s\n",
      "43:\tlearn: 0.1612116\ttotal: 627ms\tremaining: 2.22s\n",
      "44:\tlearn: 0.1605564\ttotal: 637ms\tremaining: 2.19s\n",
      "45:\tlearn: 0.1595692\ttotal: 650ms\tremaining: 2.17s\n",
      "46:\tlearn: 0.1585949\ttotal: 661ms\tremaining: 2.15s\n",
      "47:\tlearn: 0.1579363\ttotal: 672ms\tremaining: 2.13s\n",
      "48:\tlearn: 0.1569726\ttotal: 686ms\tremaining: 2.11s\n",
      "49:\tlearn: 0.1561598\ttotal: 698ms\tremaining: 2.09s\n",
      "50:\tlearn: 0.1556310\ttotal: 709ms\tremaining: 2.07s\n",
      "51:\tlearn: 0.1551910\ttotal: 724ms\tremaining: 2.06s\n",
      "52:\tlearn: 0.1547566\ttotal: 737ms\tremaining: 2.04s\n",
      "53:\tlearn: 0.1544980\ttotal: 747ms\tremaining: 2.02s\n",
      "54:\tlearn: 0.1537902\ttotal: 758ms\tremaining: 2s\n",
      "55:\tlearn: 0.1535888\ttotal: 769ms\tremaining: 1.98s\n",
      "56:\tlearn: 0.1530609\ttotal: 780ms\tremaining: 1.96s\n",
      "57:\tlearn: 0.1526736\ttotal: 794ms\tremaining: 1.94s\n",
      "58:\tlearn: 0.1522141\ttotal: 803ms\tremaining: 1.92s\n",
      "59:\tlearn: 0.1514611\ttotal: 816ms\tremaining: 1.9s\n",
      "60:\tlearn: 0.1510685\ttotal: 826ms\tremaining: 1.88s\n",
      "61:\tlearn: 0.1506987\ttotal: 837ms\tremaining: 1.86s\n",
      "62:\tlearn: 0.1504523\ttotal: 849ms\tremaining: 1.85s\n",
      "63:\tlearn: 0.1499730\ttotal: 860ms\tremaining: 1.83s\n",
      "64:\tlearn: 0.1494348\ttotal: 872ms\tremaining: 1.81s\n",
      "65:\tlearn: 0.1490109\ttotal: 882ms\tremaining: 1.79s\n",
      "66:\tlearn: 0.1487274\ttotal: 893ms\tremaining: 1.77s\n",
      "67:\tlearn: 0.1484376\ttotal: 903ms\tremaining: 1.75s\n",
      "68:\tlearn: 0.1479721\ttotal: 916ms\tremaining: 1.74s\n",
      "69:\tlearn: 0.1474037\ttotal: 928ms\tremaining: 1.72s\n",
      "70:\tlearn: 0.1469564\ttotal: 937ms\tremaining: 1.7s\n",
      "71:\tlearn: 0.1465459\ttotal: 948ms\tremaining: 1.68s\n",
      "72:\tlearn: 0.1462709\ttotal: 958ms\tremaining: 1.67s\n",
      "73:\tlearn: 0.1460542\ttotal: 971ms\tremaining: 1.65s\n",
      "74:\tlearn: 0.1458252\ttotal: 983ms\tremaining: 1.64s\n",
      "75:\tlearn: 0.1455064\ttotal: 994ms\tremaining: 1.62s\n",
      "76:\tlearn: 0.1450275\ttotal: 1s\tremaining: 1.6s\n",
      "77:\tlearn: 0.1446975\ttotal: 1.01s\tremaining: 1.58s\n",
      "78:\tlearn: 0.1443559\ttotal: 1.02s\tremaining: 1.57s\n",
      "79:\tlearn: 0.1440031\ttotal: 1.04s\tremaining: 1.55s\n",
      "80:\tlearn: 0.1438956\ttotal: 1.05s\tremaining: 1.54s\n",
      "81:\tlearn: 0.1437336\ttotal: 1.06s\tremaining: 1.52s\n",
      "82:\tlearn: 0.1435312\ttotal: 1.07s\tremaining: 1.51s\n",
      "83:\tlearn: 0.1431744\ttotal: 1.08s\tremaining: 1.5s\n",
      "84:\tlearn: 0.1429661\ttotal: 1.1s\tremaining: 1.48s\n",
      "85:\tlearn: 0.1426948\ttotal: 1.11s\tremaining: 1.47s\n",
      "86:\tlearn: 0.1425218\ttotal: 1.12s\tremaining: 1.46s\n",
      "87:\tlearn: 0.1423370\ttotal: 1.13s\tremaining: 1.44s\n",
      "88:\tlearn: 0.1421999\ttotal: 1.14s\tremaining: 1.43s\n",
      "89:\tlearn: 0.1419160\ttotal: 1.15s\tremaining: 1.41s\n",
      "90:\tlearn: 0.1416574\ttotal: 1.16s\tremaining: 1.39s\n",
      "91:\tlearn: 0.1413949\ttotal: 1.17s\tremaining: 1.38s\n",
      "92:\tlearn: 0.1412082\ttotal: 1.18s\tremaining: 1.36s\n",
      "93:\tlearn: 0.1410965\ttotal: 1.19s\tremaining: 1.35s\n",
      "94:\tlearn: 0.1407729\ttotal: 1.2s\tremaining: 1.33s\n",
      "95:\tlearn: 0.1406063\ttotal: 1.22s\tremaining: 1.32s\n",
      "96:\tlearn: 0.1404445\ttotal: 1.23s\tremaining: 1.3s\n",
      "97:\tlearn: 0.1401705\ttotal: 1.24s\tremaining: 1.29s\n",
      "98:\tlearn: 0.1398967\ttotal: 1.25s\tremaining: 1.27s\n",
      "99:\tlearn: 0.1396564\ttotal: 1.26s\tremaining: 1.26s\n",
      "100:\tlearn: 0.1395104\ttotal: 1.27s\tremaining: 1.25s\n",
      "101:\tlearn: 0.1393566\ttotal: 1.28s\tremaining: 1.23s\n",
      "102:\tlearn: 0.1392215\ttotal: 1.29s\tremaining: 1.22s\n",
      "103:\tlearn: 0.1389830\ttotal: 1.3s\tremaining: 1.2s\n",
      "104:\tlearn: 0.1388515\ttotal: 1.31s\tremaining: 1.19s\n",
      "105:\tlearn: 0.1387249\ttotal: 1.32s\tremaining: 1.17s\n",
      "106:\tlearn: 0.1385714\ttotal: 1.33s\tremaining: 1.16s\n",
      "107:\tlearn: 0.1382769\ttotal: 1.34s\tremaining: 1.14s\n",
      "108:\tlearn: 0.1380309\ttotal: 1.35s\tremaining: 1.13s\n",
      "109:\tlearn: 0.1379060\ttotal: 1.36s\tremaining: 1.11s\n",
      "110:\tlearn: 0.1376873\ttotal: 1.37s\tremaining: 1.1s\n",
      "111:\tlearn: 0.1374932\ttotal: 1.38s\tremaining: 1.08s\n",
      "112:\tlearn: 0.1372981\ttotal: 1.39s\tremaining: 1.07s\n",
      "113:\tlearn: 0.1372010\ttotal: 1.4s\tremaining: 1.06s\n",
      "114:\tlearn: 0.1369944\ttotal: 1.41s\tremaining: 1.04s\n",
      "115:\tlearn: 0.1368165\ttotal: 1.42s\tremaining: 1.03s\n",
      "116:\tlearn: 0.1367179\ttotal: 1.44s\tremaining: 1.02s\n",
      "117:\tlearn: 0.1365624\ttotal: 1.45s\tremaining: 1s\n",
      "118:\tlearn: 0.1362232\ttotal: 1.46s\tremaining: 991ms\n",
      "119:\tlearn: 0.1359982\ttotal: 1.47s\tremaining: 981ms\n",
      "120:\tlearn: 0.1359282\ttotal: 1.48s\tremaining: 966ms\n",
      "121:\tlearn: 0.1358349\ttotal: 1.49s\tremaining: 952ms\n",
      "122:\tlearn: 0.1355797\ttotal: 1.5s\tremaining: 939ms\n",
      "123:\tlearn: 0.1354204\ttotal: 1.51s\tremaining: 924ms\n",
      "124:\tlearn: 0.1353242\ttotal: 1.52s\tremaining: 910ms\n",
      "125:\tlearn: 0.1351416\ttotal: 1.52s\tremaining: 896ms\n",
      "126:\tlearn: 0.1349438\ttotal: 1.54s\tremaining: 883ms\n",
      "127:\tlearn: 0.1347845\ttotal: 1.55s\tremaining: 870ms\n",
      "128:\tlearn: 0.1346284\ttotal: 1.56s\tremaining: 858ms\n",
      "129:\tlearn: 0.1344591\ttotal: 1.57s\tremaining: 846ms\n",
      "130:\tlearn: 0.1343217\ttotal: 1.58s\tremaining: 833ms\n",
      "131:\tlearn: 0.1342263\ttotal: 1.59s\tremaining: 820ms\n",
      "132:\tlearn: 0.1340626\ttotal: 1.6s\tremaining: 807ms\n",
      "133:\tlearn: 0.1339895\ttotal: 1.61s\tremaining: 794ms\n",
      "134:\tlearn: 0.1338761\ttotal: 1.62s\tremaining: 781ms\n",
      "135:\tlearn: 0.1337503\ttotal: 1.63s\tremaining: 768ms\n",
      "136:\tlearn: 0.1335763\ttotal: 1.64s\tremaining: 754ms\n",
      "137:\tlearn: 0.1335274\ttotal: 1.65s\tremaining: 741ms\n",
      "138:\tlearn: 0.1333690\ttotal: 1.66s\tremaining: 728ms\n",
      "139:\tlearn: 0.1333354\ttotal: 1.67s\tremaining: 715ms\n",
      "140:\tlearn: 0.1330768\ttotal: 1.68s\tremaining: 702ms\n",
      "141:\tlearn: 0.1329250\ttotal: 1.69s\tremaining: 690ms\n",
      "142:\tlearn: 0.1327708\ttotal: 1.71s\tremaining: 680ms\n",
      "143:\tlearn: 0.1325731\ttotal: 1.72s\tremaining: 667ms\n",
      "144:\tlearn: 0.1324624\ttotal: 1.72s\tremaining: 654ms\n",
      "145:\tlearn: 0.1323377\ttotal: 1.73s\tremaining: 641ms\n",
      "146:\tlearn: 0.1323121\ttotal: 1.75s\tremaining: 630ms\n",
      "147:\tlearn: 0.1322157\ttotal: 1.76s\tremaining: 617ms\n",
      "148:\tlearn: 0.1320783\ttotal: 1.77s\tremaining: 605ms\n",
      "149:\tlearn: 0.1319874\ttotal: 1.78s\tremaining: 593ms\n",
      "150:\tlearn: 0.1318321\ttotal: 1.79s\tremaining: 580ms\n",
      "151:\tlearn: 0.1317644\ttotal: 1.8s\tremaining: 568ms\n",
      "152:\tlearn: 0.1316224\ttotal: 1.81s\tremaining: 555ms\n",
      "153:\tlearn: 0.1315588\ttotal: 1.81s\tremaining: 542ms\n",
      "154:\tlearn: 0.1313665\ttotal: 1.82s\tremaining: 530ms\n",
      "155:\tlearn: 0.1313071\ttotal: 1.83s\tremaining: 518ms\n",
      "156:\tlearn: 0.1311232\ttotal: 1.85s\tremaining: 506ms\n",
      "157:\tlearn: 0.1309475\ttotal: 1.85s\tremaining: 493ms\n",
      "158:\tlearn: 0.1308893\ttotal: 1.86s\tremaining: 481ms\n",
      "159:\tlearn: 0.1307724\ttotal: 1.88s\tremaining: 469ms\n",
      "160:\tlearn: 0.1306653\ttotal: 1.88s\tremaining: 456ms\n",
      "161:\tlearn: 0.1305386\ttotal: 1.89s\tremaining: 444ms\n",
      "162:\tlearn: 0.1303878\ttotal: 1.9s\tremaining: 432ms\n",
      "163:\tlearn: 0.1302786\ttotal: 1.91s\tremaining: 420ms\n",
      "164:\tlearn: 0.1301802\ttotal: 1.92s\tremaining: 408ms\n",
      "165:\tlearn: 0.1300612\ttotal: 1.93s\tremaining: 396ms\n",
      "166:\tlearn: 0.1299558\ttotal: 1.94s\tremaining: 383ms\n",
      "167:\tlearn: 0.1298359\ttotal: 1.95s\tremaining: 372ms\n",
      "168:\tlearn: 0.1295943\ttotal: 1.96s\tremaining: 360ms\n",
      "169:\tlearn: 0.1295751\ttotal: 1.97s\tremaining: 348ms\n",
      "170:\tlearn: 0.1294170\ttotal: 1.98s\tremaining: 336ms\n",
      "171:\tlearn: 0.1293984\ttotal: 1.99s\tremaining: 324ms\n",
      "172:\tlearn: 0.1293044\ttotal: 2s\tremaining: 311ms\n",
      "173:\tlearn: 0.1292017\ttotal: 2.01s\tremaining: 300ms\n",
      "174:\tlearn: 0.1290676\ttotal: 2.02s\tremaining: 289ms\n",
      "175:\tlearn: 0.1288980\ttotal: 2.03s\tremaining: 277ms\n",
      "176:\tlearn: 0.1286411\ttotal: 2.04s\tremaining: 265ms\n",
      "177:\tlearn: 0.1286309\ttotal: 2.05s\tremaining: 253ms\n",
      "178:\tlearn: 0.1284711\ttotal: 2.06s\tremaining: 241ms\n",
      "179:\tlearn: 0.1284327\ttotal: 2.06s\tremaining: 229ms\n",
      "180:\tlearn: 0.1283484\ttotal: 2.07s\tremaining: 218ms\n",
      "181:\tlearn: 0.1281403\ttotal: 2.08s\tremaining: 206ms\n",
      "182:\tlearn: 0.1280025\ttotal: 2.09s\tremaining: 194ms\n",
      "183:\tlearn: 0.1278828\ttotal: 2.1s\tremaining: 183ms\n",
      "184:\tlearn: 0.1277332\ttotal: 2.12s\tremaining: 172ms\n",
      "185:\tlearn: 0.1276881\ttotal: 2.13s\tremaining: 160ms\n",
      "186:\tlearn: 0.1276310\ttotal: 2.13s\tremaining: 148ms\n",
      "187:\tlearn: 0.1275706\ttotal: 2.15s\tremaining: 137ms\n",
      "188:\tlearn: 0.1274919\ttotal: 2.15s\tremaining: 125ms\n",
      "189:\tlearn: 0.1274328\ttotal: 2.16s\tremaining: 114ms\n",
      "190:\tlearn: 0.1273395\ttotal: 2.17s\tremaining: 102ms\n",
      "191:\tlearn: 0.1272979\ttotal: 2.18s\tremaining: 91ms\n",
      "192:\tlearn: 0.1271553\ttotal: 2.19s\tremaining: 79.6ms\n",
      "193:\tlearn: 0.1269420\ttotal: 2.2s\tremaining: 68.1ms\n",
      "194:\tlearn: 0.1268901\ttotal: 2.21s\tremaining: 56.7ms\n",
      "195:\tlearn: 0.1267542\ttotal: 2.22s\tremaining: 45.3ms\n",
      "196:\tlearn: 0.1267496\ttotal: 2.23s\tremaining: 34ms\n",
      "197:\tlearn: 0.1265470\ttotal: 2.24s\tremaining: 22.6ms\n",
      "198:\tlearn: 0.1264054\ttotal: 2.25s\tremaining: 11.3ms\n",
      "199:\tlearn: 0.1263275\ttotal: 2.26s\tremaining: 0us\n",
      "0:\tlearn: 0.6209953\ttotal: 9.98ms\tremaining: 1.99s\n",
      "1:\tlearn: 0.5664038\ttotal: 20ms\tremaining: 1.98s\n",
      "2:\tlearn: 0.5108753\ttotal: 30ms\tremaining: 1.97s\n",
      "3:\tlearn: 0.4670646\ttotal: 41.8ms\tremaining: 2.05s\n",
      "4:\tlearn: 0.4251446\ttotal: 53.1ms\tremaining: 2.07s\n",
      "5:\tlearn: 0.3943781\ttotal: 63.3ms\tremaining: 2.04s\n",
      "6:\tlearn: 0.3646299\ttotal: 72.2ms\tremaining: 1.99s\n",
      "7:\tlearn: 0.3387043\ttotal: 83.2ms\tremaining: 2s\n",
      "8:\tlearn: 0.3162024\ttotal: 94.1ms\tremaining: 2s\n",
      "9:\tlearn: 0.2976797\ttotal: 104ms\tremaining: 1.99s\n",
      "10:\tlearn: 0.2839634\ttotal: 116ms\tremaining: 1.99s\n",
      "11:\tlearn: 0.2736103\ttotal: 124ms\tremaining: 1.94s\n",
      "12:\tlearn: 0.2638839\ttotal: 134ms\tremaining: 1.93s\n",
      "13:\tlearn: 0.2520738\ttotal: 143ms\tremaining: 1.9s\n",
      "14:\tlearn: 0.2421689\ttotal: 153ms\tremaining: 1.88s\n",
      "15:\tlearn: 0.2326066\ttotal: 163ms\tremaining: 1.87s\n",
      "16:\tlearn: 0.2247657\ttotal: 171ms\tremaining: 1.84s\n",
      "17:\tlearn: 0.2197862\ttotal: 179ms\tremaining: 1.81s\n",
      "18:\tlearn: 0.2133308\ttotal: 187ms\tremaining: 1.78s\n",
      "19:\tlearn: 0.2096653\ttotal: 197ms\tremaining: 1.77s\n",
      "20:\tlearn: 0.2051743\ttotal: 207ms\tremaining: 1.76s\n",
      "21:\tlearn: 0.2022471\ttotal: 216ms\tremaining: 1.75s\n",
      "22:\tlearn: 0.1996263\ttotal: 229ms\tremaining: 1.76s\n",
      "23:\tlearn: 0.1958104\ttotal: 239ms\tremaining: 1.75s\n",
      "24:\tlearn: 0.1928092\ttotal: 248ms\tremaining: 1.74s\n",
      "25:\tlearn: 0.1912314\ttotal: 259ms\tremaining: 1.73s\n",
      "26:\tlearn: 0.1876296\ttotal: 268ms\tremaining: 1.72s\n",
      "27:\tlearn: 0.1848558\ttotal: 276ms\tremaining: 1.7s\n",
      "28:\tlearn: 0.1827017\ttotal: 287ms\tremaining: 1.69s\n",
      "29:\tlearn: 0.1806074\ttotal: 300ms\tremaining: 1.7s\n",
      "30:\tlearn: 0.1798034\ttotal: 309ms\tremaining: 1.69s\n",
      "31:\tlearn: 0.1779344\ttotal: 317ms\tremaining: 1.67s\n",
      "32:\tlearn: 0.1766648\ttotal: 328ms\tremaining: 1.66s\n",
      "33:\tlearn: 0.1752876\ttotal: 338ms\tremaining: 1.65s\n",
      "34:\tlearn: 0.1735166\ttotal: 349ms\tremaining: 1.64s\n",
      "35:\tlearn: 0.1721129\ttotal: 360ms\tremaining: 1.64s\n",
      "36:\tlearn: 0.1707405\ttotal: 369ms\tremaining: 1.63s\n",
      "37:\tlearn: 0.1692729\ttotal: 378ms\tremaining: 1.61s\n",
      "38:\tlearn: 0.1682881\ttotal: 388ms\tremaining: 1.6s\n",
      "39:\tlearn: 0.1674754\ttotal: 399ms\tremaining: 1.59s\n",
      "40:\tlearn: 0.1669372\ttotal: 408ms\tremaining: 1.58s\n",
      "41:\tlearn: 0.1656552\ttotal: 418ms\tremaining: 1.57s\n",
      "42:\tlearn: 0.1650721\ttotal: 427ms\tremaining: 1.56s\n",
      "43:\tlearn: 0.1645707\ttotal: 436ms\tremaining: 1.54s\n",
      "44:\tlearn: 0.1639371\ttotal: 445ms\tremaining: 1.53s\n",
      "45:\tlearn: 0.1634509\ttotal: 455ms\tremaining: 1.52s\n",
      "46:\tlearn: 0.1625896\ttotal: 465ms\tremaining: 1.51s\n",
      "47:\tlearn: 0.1616467\ttotal: 477ms\tremaining: 1.51s\n",
      "48:\tlearn: 0.1608561\ttotal: 488ms\tremaining: 1.5s\n",
      "49:\tlearn: 0.1603271\ttotal: 498ms\tremaining: 1.49s\n",
      "50:\tlearn: 0.1598224\ttotal: 509ms\tremaining: 1.49s\n",
      "51:\tlearn: 0.1592116\ttotal: 519ms\tremaining: 1.48s\n",
      "52:\tlearn: 0.1587664\ttotal: 529ms\tremaining: 1.47s\n",
      "53:\tlearn: 0.1582828\ttotal: 539ms\tremaining: 1.46s\n",
      "54:\tlearn: 0.1576244\ttotal: 548ms\tremaining: 1.45s\n",
      "55:\tlearn: 0.1572467\ttotal: 557ms\tremaining: 1.43s\n",
      "56:\tlearn: 0.1565209\ttotal: 567ms\tremaining: 1.42s\n",
      "57:\tlearn: 0.1561843\ttotal: 578ms\tremaining: 1.42s\n",
      "58:\tlearn: 0.1557899\ttotal: 588ms\tremaining: 1.41s\n",
      "59:\tlearn: 0.1551755\ttotal: 598ms\tremaining: 1.4s\n",
      "60:\tlearn: 0.1549767\ttotal: 607ms\tremaining: 1.38s\n",
      "61:\tlearn: 0.1547899\ttotal: 617ms\tremaining: 1.37s\n",
      "62:\tlearn: 0.1545703\ttotal: 626ms\tremaining: 1.36s\n",
      "63:\tlearn: 0.1541499\ttotal: 635ms\tremaining: 1.35s\n",
      "64:\tlearn: 0.1537863\ttotal: 645ms\tremaining: 1.34s\n",
      "65:\tlearn: 0.1532886\ttotal: 655ms\tremaining: 1.33s\n",
      "66:\tlearn: 0.1527620\ttotal: 663ms\tremaining: 1.32s\n",
      "67:\tlearn: 0.1525815\ttotal: 672ms\tremaining: 1.3s\n",
      "68:\tlearn: 0.1521793\ttotal: 683ms\tremaining: 1.3s\n",
      "69:\tlearn: 0.1517798\ttotal: 691ms\tremaining: 1.28s\n",
      "70:\tlearn: 0.1513593\ttotal: 700ms\tremaining: 1.27s\n",
      "71:\tlearn: 0.1511488\ttotal: 708ms\tremaining: 1.26s\n",
      "72:\tlearn: 0.1508654\ttotal: 716ms\tremaining: 1.25s\n",
      "73:\tlearn: 0.1504401\ttotal: 726ms\tremaining: 1.24s\n",
      "74:\tlearn: 0.1502482\ttotal: 736ms\tremaining: 1.23s\n",
      "75:\tlearn: 0.1499002\ttotal: 746ms\tremaining: 1.22s\n",
      "76:\tlearn: 0.1494402\ttotal: 755ms\tremaining: 1.21s\n",
      "77:\tlearn: 0.1490848\ttotal: 765ms\tremaining: 1.2s\n",
      "78:\tlearn: 0.1487624\ttotal: 774ms\tremaining: 1.19s\n",
      "79:\tlearn: 0.1486215\ttotal: 786ms\tremaining: 1.18s\n",
      "80:\tlearn: 0.1482457\ttotal: 795ms\tremaining: 1.17s\n",
      "81:\tlearn: 0.1481153\ttotal: 804ms\tremaining: 1.16s\n",
      "82:\tlearn: 0.1478370\ttotal: 812ms\tremaining: 1.15s\n",
      "83:\tlearn: 0.1475049\ttotal: 820ms\tremaining: 1.13s\n",
      "84:\tlearn: 0.1472142\ttotal: 830ms\tremaining: 1.12s\n",
      "85:\tlearn: 0.1469892\ttotal: 839ms\tremaining: 1.11s\n",
      "86:\tlearn: 0.1466983\ttotal: 850ms\tremaining: 1.1s\n",
      "87:\tlearn: 0.1464304\ttotal: 859ms\tremaining: 1.09s\n",
      "88:\tlearn: 0.1462800\ttotal: 867ms\tremaining: 1.08s\n",
      "89:\tlearn: 0.1460058\ttotal: 876ms\tremaining: 1.07s\n",
      "90:\tlearn: 0.1457845\ttotal: 885ms\tremaining: 1.06s\n",
      "91:\tlearn: 0.1454771\ttotal: 895ms\tremaining: 1.05s\n",
      "92:\tlearn: 0.1452909\ttotal: 904ms\tremaining: 1.04s\n",
      "93:\tlearn: 0.1451481\ttotal: 914ms\tremaining: 1.03s\n",
      "94:\tlearn: 0.1448383\ttotal: 923ms\tremaining: 1.02s\n",
      "95:\tlearn: 0.1446374\ttotal: 932ms\tremaining: 1.01s\n",
      "96:\tlearn: 0.1444730\ttotal: 943ms\tremaining: 1s\n",
      "97:\tlearn: 0.1442048\ttotal: 952ms\tremaining: 991ms\n",
      "98:\tlearn: 0.1439374\ttotal: 962ms\tremaining: 981ms\n",
      "99:\tlearn: 0.1436154\ttotal: 972ms\tremaining: 972ms\n",
      "100:\tlearn: 0.1434351\ttotal: 983ms\tremaining: 963ms\n",
      "101:\tlearn: 0.1432718\ttotal: 992ms\tremaining: 953ms\n",
      "102:\tlearn: 0.1431070\ttotal: 1s\tremaining: 942ms\n",
      "103:\tlearn: 0.1429556\ttotal: 1.01s\tremaining: 934ms\n",
      "104:\tlearn: 0.1427942\ttotal: 1.02s\tremaining: 923ms\n",
      "105:\tlearn: 0.1426623\ttotal: 1.03s\tremaining: 913ms\n",
      "106:\tlearn: 0.1425639\ttotal: 1.04s\tremaining: 904ms\n",
      "107:\tlearn: 0.1423156\ttotal: 1.05s\tremaining: 894ms\n",
      "108:\tlearn: 0.1420946\ttotal: 1.06s\tremaining: 883ms\n",
      "109:\tlearn: 0.1419477\ttotal: 1.07s\tremaining: 872ms\n",
      "110:\tlearn: 0.1417937\ttotal: 1.08s\tremaining: 863ms\n",
      "111:\tlearn: 0.1417205\ttotal: 1.08s\tremaining: 852ms\n",
      "112:\tlearn: 0.1415523\ttotal: 1.09s\tremaining: 841ms\n",
      "113:\tlearn: 0.1414313\ttotal: 1.1s\tremaining: 830ms\n",
      "114:\tlearn: 0.1413002\ttotal: 1.11s\tremaining: 821ms\n",
      "115:\tlearn: 0.1410935\ttotal: 1.12s\tremaining: 810ms\n",
      "116:\tlearn: 0.1410057\ttotal: 1.13s\tremaining: 799ms\n",
      "117:\tlearn: 0.1407228\ttotal: 1.14s\tremaining: 790ms\n",
      "118:\tlearn: 0.1403467\ttotal: 1.15s\tremaining: 781ms\n",
      "119:\tlearn: 0.1401368\ttotal: 1.16s\tremaining: 771ms\n",
      "120:\tlearn: 0.1400493\ttotal: 1.16s\tremaining: 760ms\n",
      "121:\tlearn: 0.1399245\ttotal: 1.17s\tremaining: 751ms\n",
      "122:\tlearn: 0.1398140\ttotal: 1.18s\tremaining: 742ms\n",
      "123:\tlearn: 0.1397387\ttotal: 1.19s\tremaining: 732ms\n",
      "124:\tlearn: 0.1396565\ttotal: 1.2s\tremaining: 721ms\n",
      "125:\tlearn: 0.1394805\ttotal: 1.21s\tremaining: 712ms\n",
      "126:\tlearn: 0.1393488\ttotal: 1.22s\tremaining: 703ms\n",
      "127:\tlearn: 0.1391553\ttotal: 1.23s\tremaining: 693ms\n",
      "128:\tlearn: 0.1389775\ttotal: 1.24s\tremaining: 684ms\n",
      "129:\tlearn: 0.1389486\ttotal: 1.25s\tremaining: 674ms\n",
      "130:\tlearn: 0.1387420\ttotal: 1.26s\tremaining: 664ms\n",
      "131:\tlearn: 0.1386163\ttotal: 1.27s\tremaining: 655ms\n",
      "132:\tlearn: 0.1384594\ttotal: 1.28s\tremaining: 644ms\n",
      "133:\tlearn: 0.1383367\ttotal: 1.29s\tremaining: 635ms\n",
      "134:\tlearn: 0.1381227\ttotal: 1.29s\tremaining: 624ms\n",
      "135:\tlearn: 0.1380191\ttotal: 1.31s\tremaining: 615ms\n",
      "136:\tlearn: 0.1378520\ttotal: 1.32s\tremaining: 606ms\n",
      "137:\tlearn: 0.1377505\ttotal: 1.32s\tremaining: 596ms\n",
      "138:\tlearn: 0.1375816\ttotal: 1.33s\tremaining: 586ms\n",
      "139:\tlearn: 0.1374118\ttotal: 1.34s\tremaining: 576ms\n",
      "140:\tlearn: 0.1371817\ttotal: 1.35s\tremaining: 566ms\n",
      "141:\tlearn: 0.1369942\ttotal: 1.36s\tremaining: 556ms\n",
      "142:\tlearn: 0.1369444\ttotal: 1.37s\tremaining: 545ms\n",
      "143:\tlearn: 0.1367327\ttotal: 1.38s\tremaining: 536ms\n",
      "144:\tlearn: 0.1366380\ttotal: 1.39s\tremaining: 526ms\n",
      "145:\tlearn: 0.1364891\ttotal: 1.4s\tremaining: 516ms\n",
      "146:\tlearn: 0.1363081\ttotal: 1.41s\tremaining: 507ms\n",
      "147:\tlearn: 0.1361870\ttotal: 1.41s\tremaining: 497ms\n",
      "148:\tlearn: 0.1360936\ttotal: 1.42s\tremaining: 487ms\n",
      "149:\tlearn: 0.1359601\ttotal: 1.43s\tremaining: 477ms\n",
      "150:\tlearn: 0.1357135\ttotal: 1.44s\tremaining: 467ms\n",
      "151:\tlearn: 0.1356247\ttotal: 1.45s\tremaining: 458ms\n",
      "152:\tlearn: 0.1353801\ttotal: 1.46s\tremaining: 448ms\n",
      "153:\tlearn: 0.1353044\ttotal: 1.47s\tremaining: 438ms\n",
      "154:\tlearn: 0.1351664\ttotal: 1.48s\tremaining: 428ms\n",
      "155:\tlearn: 0.1349977\ttotal: 1.48s\tremaining: 419ms\n",
      "156:\tlearn: 0.1348355\ttotal: 1.49s\tremaining: 409ms\n",
      "157:\tlearn: 0.1346515\ttotal: 1.5s\tremaining: 400ms\n",
      "158:\tlearn: 0.1344989\ttotal: 1.51s\tremaining: 390ms\n",
      "159:\tlearn: 0.1343182\ttotal: 1.52s\tremaining: 380ms\n",
      "160:\tlearn: 0.1342378\ttotal: 1.53s\tremaining: 370ms\n",
      "161:\tlearn: 0.1341079\ttotal: 1.54s\tremaining: 361ms\n",
      "162:\tlearn: 0.1340526\ttotal: 1.54s\tremaining: 351ms\n",
      "163:\tlearn: 0.1338810\ttotal: 1.55s\tremaining: 341ms\n",
      "164:\tlearn: 0.1337248\ttotal: 1.56s\tremaining: 332ms\n",
      "165:\tlearn: 0.1336246\ttotal: 1.57s\tremaining: 322ms\n",
      "166:\tlearn: 0.1335219\ttotal: 1.58s\tremaining: 312ms\n",
      "167:\tlearn: 0.1335116\ttotal: 1.59s\tremaining: 302ms\n",
      "168:\tlearn: 0.1332785\ttotal: 1.6s\tremaining: 293ms\n",
      "169:\tlearn: 0.1331608\ttotal: 1.6s\tremaining: 283ms\n",
      "170:\tlearn: 0.1330191\ttotal: 1.61s\tremaining: 273ms\n",
      "171:\tlearn: 0.1329227\ttotal: 1.62s\tremaining: 264ms\n",
      "172:\tlearn: 0.1327105\ttotal: 1.63s\tremaining: 254ms\n",
      "173:\tlearn: 0.1325945\ttotal: 1.64s\tremaining: 245ms\n",
      "174:\tlearn: 0.1325306\ttotal: 1.65s\tremaining: 235ms\n",
      "175:\tlearn: 0.1324697\ttotal: 1.65s\tremaining: 226ms\n",
      "176:\tlearn: 0.1323087\ttotal: 1.66s\tremaining: 216ms\n",
      "177:\tlearn: 0.1321453\ttotal: 1.67s\tremaining: 207ms\n",
      "178:\tlearn: 0.1319823\ttotal: 1.68s\tremaining: 197ms\n",
      "179:\tlearn: 0.1318718\ttotal: 1.69s\tremaining: 188ms\n",
      "180:\tlearn: 0.1317650\ttotal: 1.7s\tremaining: 178ms\n",
      "181:\tlearn: 0.1315035\ttotal: 1.71s\tremaining: 169ms\n",
      "182:\tlearn: 0.1313986\ttotal: 1.71s\tremaining: 159ms\n",
      "183:\tlearn: 0.1313129\ttotal: 1.72s\tremaining: 150ms\n",
      "184:\tlearn: 0.1312379\ttotal: 1.73s\tremaining: 140ms\n",
      "185:\tlearn: 0.1311479\ttotal: 1.74s\tremaining: 131ms\n",
      "186:\tlearn: 0.1310514\ttotal: 1.75s\tremaining: 122ms\n",
      "187:\tlearn: 0.1309306\ttotal: 1.76s\tremaining: 112ms\n",
      "188:\tlearn: 0.1309242\ttotal: 1.76s\tremaining: 103ms\n",
      "189:\tlearn: 0.1307975\ttotal: 1.77s\tremaining: 93.2ms\n",
      "190:\tlearn: 0.1306620\ttotal: 1.78s\tremaining: 83.8ms\n",
      "191:\tlearn: 0.1304616\ttotal: 1.79s\tremaining: 74.5ms\n",
      "192:\tlearn: 0.1302362\ttotal: 1.79s\tremaining: 65.1ms\n",
      "193:\tlearn: 0.1301566\ttotal: 1.8s\tremaining: 55.8ms\n",
      "194:\tlearn: 0.1299834\ttotal: 1.81s\tremaining: 46.4ms\n",
      "195:\tlearn: 0.1298858\ttotal: 1.82s\tremaining: 37.1ms\n",
      "196:\tlearn: 0.1298249\ttotal: 1.83s\tremaining: 27.8ms\n",
      "197:\tlearn: 0.1296386\ttotal: 1.84s\tremaining: 18.5ms\n",
      "198:\tlearn: 0.1295556\ttotal: 1.84s\tremaining: 9.27ms\n",
      "199:\tlearn: 0.1294326\ttotal: 1.85s\tremaining: 0us\n",
      "0:\tlearn: 0.6200533\ttotal: 7.4ms\tremaining: 1.47s\n",
      "1:\tlearn: 0.5655090\ttotal: 16.9ms\tremaining: 1.67s\n",
      "2:\tlearn: 0.5093448\ttotal: 23.6ms\tremaining: 1.55s\n",
      "3:\tlearn: 0.4657766\ttotal: 33.9ms\tremaining: 1.66s\n",
      "4:\tlearn: 0.4237635\ttotal: 41.1ms\tremaining: 1.6s\n",
      "5:\tlearn: 0.3929066\ttotal: 47.8ms\tremaining: 1.55s\n",
      "6:\tlearn: 0.3632847\ttotal: 56.2ms\tremaining: 1.55s\n",
      "7:\tlearn: 0.3413652\ttotal: 67.1ms\tremaining: 1.61s\n",
      "8:\tlearn: 0.3184122\ttotal: 75ms\tremaining: 1.59s\n",
      "9:\tlearn: 0.2993943\ttotal: 83.5ms\tremaining: 1.59s\n",
      "10:\tlearn: 0.2842701\ttotal: 91.9ms\tremaining: 1.58s\n",
      "11:\tlearn: 0.2683533\ttotal: 101ms\tremaining: 1.57s\n",
      "12:\tlearn: 0.2583679\ttotal: 109ms\tremaining: 1.56s\n",
      "13:\tlearn: 0.2462271\ttotal: 118ms\tremaining: 1.57s\n",
      "14:\tlearn: 0.2375512\ttotal: 126ms\tremaining: 1.56s\n",
      "15:\tlearn: 0.2279164\ttotal: 135ms\tremaining: 1.55s\n",
      "16:\tlearn: 0.2219383\ttotal: 143ms\tremaining: 1.53s\n",
      "17:\tlearn: 0.2173120\ttotal: 151ms\tremaining: 1.53s\n",
      "18:\tlearn: 0.2134089\ttotal: 160ms\tremaining: 1.52s\n",
      "19:\tlearn: 0.2105382\ttotal: 168ms\tremaining: 1.51s\n",
      "20:\tlearn: 0.2053856\ttotal: 176ms\tremaining: 1.5s\n",
      "21:\tlearn: 0.2005206\ttotal: 184ms\tremaining: 1.49s\n",
      "22:\tlearn: 0.1963532\ttotal: 193ms\tremaining: 1.49s\n",
      "23:\tlearn: 0.1922420\ttotal: 201ms\tremaining: 1.47s\n",
      "24:\tlearn: 0.1898336\ttotal: 209ms\tremaining: 1.46s\n",
      "25:\tlearn: 0.1872986\ttotal: 216ms\tremaining: 1.45s\n",
      "26:\tlearn: 0.1847134\ttotal: 224ms\tremaining: 1.44s\n",
      "27:\tlearn: 0.1821942\ttotal: 231ms\tremaining: 1.42s\n",
      "28:\tlearn: 0.1797341\ttotal: 239ms\tremaining: 1.41s\n",
      "29:\tlearn: 0.1781148\ttotal: 248ms\tremaining: 1.4s\n",
      "30:\tlearn: 0.1764319\ttotal: 256ms\tremaining: 1.4s\n",
      "31:\tlearn: 0.1746429\ttotal: 264ms\tremaining: 1.39s\n",
      "32:\tlearn: 0.1735378\ttotal: 271ms\tremaining: 1.37s\n",
      "33:\tlearn: 0.1725788\ttotal: 279ms\tremaining: 1.36s\n",
      "34:\tlearn: 0.1713508\ttotal: 287ms\tremaining: 1.35s\n",
      "35:\tlearn: 0.1698091\ttotal: 297ms\tremaining: 1.35s\n",
      "36:\tlearn: 0.1692794\ttotal: 305ms\tremaining: 1.34s\n",
      "37:\tlearn: 0.1681752\ttotal: 313ms\tremaining: 1.33s\n",
      "38:\tlearn: 0.1671395\ttotal: 321ms\tremaining: 1.32s\n",
      "39:\tlearn: 0.1663834\ttotal: 329ms\tremaining: 1.32s\n",
      "40:\tlearn: 0.1651972\ttotal: 337ms\tremaining: 1.31s\n",
      "41:\tlearn: 0.1641245\ttotal: 345ms\tremaining: 1.3s\n",
      "42:\tlearn: 0.1636161\ttotal: 352ms\tremaining: 1.28s\n",
      "43:\tlearn: 0.1628868\ttotal: 365ms\tremaining: 1.29s\n",
      "44:\tlearn: 0.1622670\ttotal: 373ms\tremaining: 1.28s\n",
      "45:\tlearn: 0.1616507\ttotal: 381ms\tremaining: 1.27s\n",
      "46:\tlearn: 0.1605326\ttotal: 388ms\tremaining: 1.26s\n",
      "47:\tlearn: 0.1598753\ttotal: 401ms\tremaining: 1.27s\n",
      "48:\tlearn: 0.1592374\ttotal: 410ms\tremaining: 1.26s\n",
      "49:\tlearn: 0.1587386\ttotal: 418ms\tremaining: 1.25s\n",
      "50:\tlearn: 0.1582464\ttotal: 426ms\tremaining: 1.24s\n",
      "51:\tlearn: 0.1576018\ttotal: 434ms\tremaining: 1.24s\n",
      "52:\tlearn: 0.1571760\ttotal: 443ms\tremaining: 1.23s\n",
      "53:\tlearn: 0.1565780\ttotal: 452ms\tremaining: 1.22s\n",
      "54:\tlearn: 0.1559702\ttotal: 460ms\tremaining: 1.21s\n",
      "55:\tlearn: 0.1551189\ttotal: 469ms\tremaining: 1.21s\n",
      "56:\tlearn: 0.1545231\ttotal: 477ms\tremaining: 1.2s\n",
      "57:\tlearn: 0.1541993\ttotal: 486ms\tremaining: 1.19s\n",
      "58:\tlearn: 0.1536348\ttotal: 494ms\tremaining: 1.18s\n",
      "59:\tlearn: 0.1530254\ttotal: 502ms\tremaining: 1.17s\n",
      "60:\tlearn: 0.1527788\ttotal: 510ms\tremaining: 1.16s\n",
      "61:\tlearn: 0.1525490\ttotal: 518ms\tremaining: 1.15s\n",
      "62:\tlearn: 0.1522415\ttotal: 529ms\tremaining: 1.15s\n",
      "63:\tlearn: 0.1517273\ttotal: 537ms\tremaining: 1.14s\n",
      "64:\tlearn: 0.1512347\ttotal: 545ms\tremaining: 1.13s\n",
      "65:\tlearn: 0.1506032\ttotal: 553ms\tremaining: 1.12s\n",
      "66:\tlearn: 0.1504141\ttotal: 561ms\tremaining: 1.11s\n",
      "67:\tlearn: 0.1500660\ttotal: 568ms\tremaining: 1.1s\n",
      "68:\tlearn: 0.1497394\ttotal: 575ms\tremaining: 1.09s\n",
      "69:\tlearn: 0.1494916\ttotal: 583ms\tremaining: 1.08s\n",
      "70:\tlearn: 0.1490214\ttotal: 592ms\tremaining: 1.07s\n",
      "71:\tlearn: 0.1487806\ttotal: 599ms\tremaining: 1.06s\n",
      "72:\tlearn: 0.1484106\ttotal: 607ms\tremaining: 1.05s\n",
      "73:\tlearn: 0.1480809\ttotal: 614ms\tremaining: 1.04s\n",
      "74:\tlearn: 0.1475408\ttotal: 621ms\tremaining: 1.03s\n",
      "75:\tlearn: 0.1473590\ttotal: 630ms\tremaining: 1.03s\n",
      "76:\tlearn: 0.1470507\ttotal: 637ms\tremaining: 1.02s\n",
      "77:\tlearn: 0.1468471\ttotal: 645ms\tremaining: 1.01s\n",
      "78:\tlearn: 0.1464274\ttotal: 652ms\tremaining: 999ms\n",
      "79:\tlearn: 0.1462556\ttotal: 659ms\tremaining: 988ms\n",
      "80:\tlearn: 0.1461133\ttotal: 666ms\tremaining: 978ms\n",
      "81:\tlearn: 0.1458634\ttotal: 672ms\tremaining: 968ms\n",
      "82:\tlearn: 0.1456476\ttotal: 680ms\tremaining: 958ms\n",
      "83:\tlearn: 0.1454996\ttotal: 687ms\tremaining: 948ms\n",
      "84:\tlearn: 0.1453239\ttotal: 694ms\tremaining: 940ms\n",
      "85:\tlearn: 0.1450343\ttotal: 701ms\tremaining: 930ms\n",
      "86:\tlearn: 0.1447864\ttotal: 709ms\tremaining: 921ms\n",
      "87:\tlearn: 0.1446421\ttotal: 716ms\tremaining: 911ms\n",
      "88:\tlearn: 0.1443461\ttotal: 727ms\tremaining: 906ms\n",
      "89:\tlearn: 0.1441563\ttotal: 733ms\tremaining: 896ms\n",
      "90:\tlearn: 0.1438253\ttotal: 740ms\tremaining: 886ms\n",
      "91:\tlearn: 0.1434276\ttotal: 747ms\tremaining: 876ms\n",
      "92:\tlearn: 0.1433037\ttotal: 754ms\tremaining: 868ms\n",
      "93:\tlearn: 0.1431604\ttotal: 761ms\tremaining: 858ms\n",
      "94:\tlearn: 0.1430192\ttotal: 769ms\tremaining: 849ms\n",
      "95:\tlearn: 0.1429216\ttotal: 776ms\tremaining: 840ms\n",
      "96:\tlearn: 0.1427827\ttotal: 783ms\tremaining: 831ms\n",
      "97:\tlearn: 0.1425084\ttotal: 790ms\tremaining: 822ms\n",
      "98:\tlearn: 0.1422030\ttotal: 796ms\tremaining: 812ms\n",
      "99:\tlearn: 0.1421127\ttotal: 802ms\tremaining: 802ms\n",
      "100:\tlearn: 0.1418771\ttotal: 809ms\tremaining: 793ms\n",
      "101:\tlearn: 0.1416937\ttotal: 816ms\tremaining: 784ms\n",
      "102:\tlearn: 0.1414788\ttotal: 823ms\tremaining: 775ms\n",
      "103:\tlearn: 0.1412070\ttotal: 831ms\tremaining: 767ms\n",
      "104:\tlearn: 0.1408751\ttotal: 838ms\tremaining: 758ms\n",
      "105:\tlearn: 0.1406045\ttotal: 845ms\tremaining: 749ms\n",
      "106:\tlearn: 0.1403522\ttotal: 852ms\tremaining: 740ms\n",
      "107:\tlearn: 0.1401890\ttotal: 859ms\tremaining: 732ms\n",
      "108:\tlearn: 0.1399725\ttotal: 865ms\tremaining: 723ms\n",
      "109:\tlearn: 0.1397527\ttotal: 872ms\tremaining: 713ms\n",
      "110:\tlearn: 0.1395132\ttotal: 879ms\tremaining: 705ms\n",
      "111:\tlearn: 0.1393471\ttotal: 888ms\tremaining: 698ms\n",
      "112:\tlearn: 0.1391689\ttotal: 895ms\tremaining: 689ms\n",
      "113:\tlearn: 0.1388798\ttotal: 902ms\tremaining: 680ms\n",
      "114:\tlearn: 0.1387115\ttotal: 909ms\tremaining: 672ms\n",
      "115:\tlearn: 0.1385393\ttotal: 916ms\tremaining: 664ms\n",
      "116:\tlearn: 0.1383940\ttotal: 923ms\tremaining: 654ms\n",
      "117:\tlearn: 0.1382564\ttotal: 929ms\tremaining: 646ms\n",
      "118:\tlearn: 0.1381159\ttotal: 936ms\tremaining: 637ms\n",
      "119:\tlearn: 0.1378528\ttotal: 944ms\tremaining: 629ms\n",
      "120:\tlearn: 0.1377564\ttotal: 952ms\tremaining: 622ms\n",
      "121:\tlearn: 0.1375555\ttotal: 960ms\tremaining: 614ms\n",
      "122:\tlearn: 0.1373352\ttotal: 967ms\tremaining: 606ms\n",
      "123:\tlearn: 0.1372389\ttotal: 975ms\tremaining: 597ms\n",
      "124:\tlearn: 0.1372227\ttotal: 981ms\tremaining: 588ms\n",
      "125:\tlearn: 0.1370043\ttotal: 988ms\tremaining: 580ms\n",
      "126:\tlearn: 0.1368755\ttotal: 995ms\tremaining: 572ms\n",
      "127:\tlearn: 0.1367326\ttotal: 1s\tremaining: 563ms\n",
      "128:\tlearn: 0.1366387\ttotal: 1.01s\tremaining: 555ms\n",
      "129:\tlearn: 0.1364485\ttotal: 1.02s\tremaining: 548ms\n",
      "130:\tlearn: 0.1362256\ttotal: 1.02s\tremaining: 539ms\n",
      "131:\tlearn: 0.1360546\ttotal: 1.03s\tremaining: 531ms\n",
      "132:\tlearn: 0.1358984\ttotal: 1.04s\tremaining: 523ms\n",
      "133:\tlearn: 0.1356626\ttotal: 1.04s\tremaining: 515ms\n",
      "134:\tlearn: 0.1355928\ttotal: 1.05s\tremaining: 506ms\n",
      "135:\tlearn: 0.1354384\ttotal: 1.06s\tremaining: 498ms\n",
      "136:\tlearn: 0.1353344\ttotal: 1.06s\tremaining: 490ms\n",
      "137:\tlearn: 0.1351624\ttotal: 1.07s\tremaining: 482ms\n",
      "138:\tlearn: 0.1350293\ttotal: 1.08s\tremaining: 474ms\n",
      "139:\tlearn: 0.1347847\ttotal: 1.09s\tremaining: 466ms\n",
      "140:\tlearn: 0.1346318\ttotal: 1.09s\tremaining: 457ms\n",
      "141:\tlearn: 0.1344308\ttotal: 1.1s\tremaining: 450ms\n",
      "142:\tlearn: 0.1343892\ttotal: 1.11s\tremaining: 441ms\n",
      "143:\tlearn: 0.1342800\ttotal: 1.11s\tremaining: 433ms\n",
      "144:\tlearn: 0.1340701\ttotal: 1.12s\tremaining: 425ms\n",
      "145:\tlearn: 0.1339529\ttotal: 1.13s\tremaining: 417ms\n",
      "146:\tlearn: 0.1338736\ttotal: 1.14s\tremaining: 409ms\n",
      "147:\tlearn: 0.1337300\ttotal: 1.14s\tremaining: 402ms\n",
      "148:\tlearn: 0.1336787\ttotal: 1.15s\tremaining: 394ms\n",
      "149:\tlearn: 0.1334945\ttotal: 1.16s\tremaining: 386ms\n",
      "150:\tlearn: 0.1333803\ttotal: 1.17s\tremaining: 378ms\n",
      "151:\tlearn: 0.1333058\ttotal: 1.17s\tremaining: 370ms\n",
      "152:\tlearn: 0.1332040\ttotal: 1.18s\tremaining: 363ms\n",
      "153:\tlearn: 0.1330220\ttotal: 1.19s\tremaining: 355ms\n",
      "154:\tlearn: 0.1329814\ttotal: 1.2s\tremaining: 347ms\n",
      "155:\tlearn: 0.1328782\ttotal: 1.2s\tremaining: 340ms\n",
      "156:\tlearn: 0.1327615\ttotal: 1.21s\tremaining: 332ms\n",
      "157:\tlearn: 0.1325567\ttotal: 1.22s\tremaining: 324ms\n",
      "158:\tlearn: 0.1323975\ttotal: 1.23s\tremaining: 316ms\n",
      "159:\tlearn: 0.1322362\ttotal: 1.23s\tremaining: 309ms\n",
      "160:\tlearn: 0.1321574\ttotal: 1.24s\tremaining: 301ms\n",
      "161:\tlearn: 0.1320800\ttotal: 1.25s\tremaining: 293ms\n",
      "162:\tlearn: 0.1319466\ttotal: 1.25s\tremaining: 285ms\n",
      "163:\tlearn: 0.1318292\ttotal: 1.26s\tremaining: 277ms\n",
      "164:\tlearn: 0.1316418\ttotal: 1.27s\tremaining: 269ms\n",
      "165:\tlearn: 0.1315541\ttotal: 1.28s\tremaining: 262ms\n",
      "166:\tlearn: 0.1314567\ttotal: 1.28s\tremaining: 254ms\n",
      "167:\tlearn: 0.1314100\ttotal: 1.29s\tremaining: 246ms\n",
      "168:\tlearn: 0.1313301\ttotal: 1.3s\tremaining: 238ms\n",
      "169:\tlearn: 0.1310412\ttotal: 1.3s\tremaining: 230ms\n",
      "170:\tlearn: 0.1309487\ttotal: 1.31s\tremaining: 222ms\n",
      "171:\tlearn: 0.1308328\ttotal: 1.32s\tremaining: 215ms\n",
      "172:\tlearn: 0.1306797\ttotal: 1.32s\tremaining: 207ms\n",
      "173:\tlearn: 0.1306404\ttotal: 1.33s\tremaining: 199ms\n",
      "174:\tlearn: 0.1304553\ttotal: 1.34s\tremaining: 191ms\n",
      "175:\tlearn: 0.1303262\ttotal: 1.34s\tremaining: 184ms\n",
      "176:\tlearn: 0.1301267\ttotal: 1.35s\tremaining: 176ms\n",
      "177:\tlearn: 0.1300926\ttotal: 1.36s\tremaining: 168ms\n",
      "178:\tlearn: 0.1299610\ttotal: 1.36s\tremaining: 160ms\n",
      "179:\tlearn: 0.1298018\ttotal: 1.38s\tremaining: 153ms\n",
      "180:\tlearn: 0.1296212\ttotal: 1.38s\tremaining: 145ms\n",
      "181:\tlearn: 0.1295767\ttotal: 1.39s\tremaining: 137ms\n",
      "182:\tlearn: 0.1294338\ttotal: 1.4s\tremaining: 130ms\n",
      "183:\tlearn: 0.1293120\ttotal: 1.4s\tremaining: 122ms\n",
      "184:\tlearn: 0.1291998\ttotal: 1.41s\tremaining: 114ms\n",
      "185:\tlearn: 0.1290562\ttotal: 1.42s\tremaining: 107ms\n",
      "186:\tlearn: 0.1289234\ttotal: 1.42s\tremaining: 99ms\n",
      "187:\tlearn: 0.1287557\ttotal: 1.43s\tremaining: 91.3ms\n",
      "188:\tlearn: 0.1286501\ttotal: 1.44s\tremaining: 83.6ms\n",
      "189:\tlearn: 0.1284777\ttotal: 1.44s\tremaining: 76ms\n",
      "190:\tlearn: 0.1283361\ttotal: 1.45s\tremaining: 68.3ms\n",
      "191:\tlearn: 0.1282871\ttotal: 1.46s\tremaining: 60.7ms\n",
      "192:\tlearn: 0.1282447\ttotal: 1.46s\tremaining: 53.1ms\n",
      "193:\tlearn: 0.1280963\ttotal: 1.47s\tremaining: 45.5ms\n",
      "194:\tlearn: 0.1279159\ttotal: 1.48s\tremaining: 37.9ms\n",
      "195:\tlearn: 0.1278435\ttotal: 1.48s\tremaining: 30.3ms\n",
      "196:\tlearn: 0.1277659\ttotal: 1.49s\tremaining: 22.7ms\n",
      "197:\tlearn: 0.1276335\ttotal: 1.5s\tremaining: 15.1ms\n",
      "198:\tlearn: 0.1274923\ttotal: 1.5s\tremaining: 7.56ms\n",
      "199:\tlearn: 0.1274477\ttotal: 1.51s\tremaining: 0us\n",
      "0:\tlearn: 0.6193639\ttotal: 7.47ms\tremaining: 1.49s\n",
      "1:\tlearn: 0.5645720\ttotal: 14.2ms\tremaining: 1.41s\n",
      "2:\tlearn: 0.5087293\ttotal: 20.8ms\tremaining: 1.37s\n",
      "3:\tlearn: 0.4654805\ttotal: 28.8ms\tremaining: 1.41s\n",
      "4:\tlearn: 0.4239898\ttotal: 36.2ms\tremaining: 1.41s\n",
      "5:\tlearn: 0.3931260\ttotal: 44.4ms\tremaining: 1.43s\n",
      "6:\tlearn: 0.3635683\ttotal: 51.9ms\tremaining: 1.43s\n",
      "7:\tlearn: 0.3415475\ttotal: 58.7ms\tremaining: 1.41s\n",
      "8:\tlearn: 0.3183588\ttotal: 68.1ms\tremaining: 1.44s\n",
      "9:\tlearn: 0.2991474\ttotal: 75.1ms\tremaining: 1.43s\n",
      "10:\tlearn: 0.2841072\ttotal: 83.3ms\tremaining: 1.43s\n",
      "11:\tlearn: 0.2678852\ttotal: 91.7ms\tremaining: 1.44s\n",
      "12:\tlearn: 0.2578972\ttotal: 100ms\tremaining: 1.45s\n",
      "13:\tlearn: 0.2459470\ttotal: 108ms\tremaining: 1.43s\n",
      "14:\tlearn: 0.2354006\ttotal: 117ms\tremaining: 1.44s\n",
      "15:\tlearn: 0.2286106\ttotal: 124ms\tremaining: 1.42s\n",
      "16:\tlearn: 0.2212036\ttotal: 132ms\tremaining: 1.42s\n",
      "17:\tlearn: 0.2169398\ttotal: 139ms\tremaining: 1.4s\n",
      "18:\tlearn: 0.2131576\ttotal: 146ms\tremaining: 1.39s\n",
      "19:\tlearn: 0.2074905\ttotal: 153ms\tremaining: 1.38s\n",
      "20:\tlearn: 0.2041544\ttotal: 160ms\tremaining: 1.36s\n",
      "21:\tlearn: 0.1996600\ttotal: 166ms\tremaining: 1.34s\n",
      "22:\tlearn: 0.1965087\ttotal: 173ms\tremaining: 1.33s\n",
      "23:\tlearn: 0.1924404\ttotal: 180ms\tremaining: 1.32s\n",
      "24:\tlearn: 0.1893657\ttotal: 186ms\tremaining: 1.3s\n",
      "25:\tlearn: 0.1868515\ttotal: 194ms\tremaining: 1.29s\n",
      "26:\tlearn: 0.1847650\ttotal: 201ms\tremaining: 1.28s\n",
      "27:\tlearn: 0.1818219\ttotal: 208ms\tremaining: 1.28s\n",
      "28:\tlearn: 0.1798153\ttotal: 216ms\tremaining: 1.27s\n",
      "29:\tlearn: 0.1782372\ttotal: 223ms\tremaining: 1.26s\n",
      "30:\tlearn: 0.1768935\ttotal: 230ms\tremaining: 1.25s\n",
      "31:\tlearn: 0.1750566\ttotal: 237ms\tremaining: 1.25s\n",
      "32:\tlearn: 0.1739354\ttotal: 245ms\tremaining: 1.24s\n",
      "33:\tlearn: 0.1725361\ttotal: 252ms\tremaining: 1.23s\n",
      "34:\tlearn: 0.1707493\ttotal: 261ms\tremaining: 1.23s\n",
      "35:\tlearn: 0.1696394\ttotal: 268ms\tremaining: 1.22s\n",
      "36:\tlearn: 0.1686100\ttotal: 275ms\tremaining: 1.21s\n",
      "37:\tlearn: 0.1676740\ttotal: 283ms\tremaining: 1.2s\n",
      "38:\tlearn: 0.1663046\ttotal: 289ms\tremaining: 1.19s\n",
      "39:\tlearn: 0.1655336\ttotal: 296ms\tremaining: 1.19s\n",
      "40:\tlearn: 0.1647151\ttotal: 303ms\tremaining: 1.18s\n",
      "41:\tlearn: 0.1638200\ttotal: 310ms\tremaining: 1.17s\n",
      "42:\tlearn: 0.1630119\ttotal: 317ms\tremaining: 1.16s\n",
      "43:\tlearn: 0.1626698\ttotal: 325ms\tremaining: 1.15s\n",
      "44:\tlearn: 0.1621057\ttotal: 332ms\tremaining: 1.14s\n",
      "45:\tlearn: 0.1613947\ttotal: 340ms\tremaining: 1.14s\n",
      "46:\tlearn: 0.1603658\ttotal: 347ms\tremaining: 1.13s\n",
      "47:\tlearn: 0.1600425\ttotal: 354ms\tremaining: 1.12s\n",
      "48:\tlearn: 0.1596455\ttotal: 360ms\tremaining: 1.11s\n",
      "49:\tlearn: 0.1591259\ttotal: 367ms\tremaining: 1.1s\n",
      "50:\tlearn: 0.1583229\ttotal: 374ms\tremaining: 1.09s\n",
      "51:\tlearn: 0.1574942\ttotal: 381ms\tremaining: 1.08s\n",
      "52:\tlearn: 0.1570331\ttotal: 388ms\tremaining: 1.08s\n",
      "53:\tlearn: 0.1566380\ttotal: 395ms\tremaining: 1.07s\n",
      "54:\tlearn: 0.1561940\ttotal: 402ms\tremaining: 1.06s\n",
      "55:\tlearn: 0.1557701\ttotal: 409ms\tremaining: 1.05s\n",
      "56:\tlearn: 0.1555114\ttotal: 416ms\tremaining: 1.04s\n",
      "57:\tlearn: 0.1551993\ttotal: 423ms\tremaining: 1.04s\n",
      "58:\tlearn: 0.1547578\ttotal: 430ms\tremaining: 1.03s\n",
      "59:\tlearn: 0.1544107\ttotal: 438ms\tremaining: 1.02s\n",
      "60:\tlearn: 0.1542017\ttotal: 445ms\tremaining: 1.01s\n",
      "61:\tlearn: 0.1537962\ttotal: 453ms\tremaining: 1.01s\n",
      "62:\tlearn: 0.1534430\ttotal: 459ms\tremaining: 999ms\n",
      "63:\tlearn: 0.1529020\ttotal: 466ms\tremaining: 990ms\n",
      "64:\tlearn: 0.1523073\ttotal: 473ms\tremaining: 982ms\n",
      "65:\tlearn: 0.1518093\ttotal: 480ms\tremaining: 975ms\n",
      "66:\tlearn: 0.1512658\ttotal: 489ms\tremaining: 970ms\n",
      "67:\tlearn: 0.1508096\ttotal: 496ms\tremaining: 963ms\n",
      "68:\tlearn: 0.1503615\ttotal: 503ms\tremaining: 954ms\n",
      "69:\tlearn: 0.1501479\ttotal: 511ms\tremaining: 949ms\n",
      "70:\tlearn: 0.1497246\ttotal: 520ms\tremaining: 945ms\n",
      "71:\tlearn: 0.1495240\ttotal: 528ms\tremaining: 938ms\n",
      "72:\tlearn: 0.1492900\ttotal: 535ms\tremaining: 931ms\n",
      "73:\tlearn: 0.1487516\ttotal: 542ms\tremaining: 923ms\n",
      "74:\tlearn: 0.1484052\ttotal: 550ms\tremaining: 917ms\n",
      "75:\tlearn: 0.1481263\ttotal: 558ms\tremaining: 910ms\n",
      "76:\tlearn: 0.1479511\ttotal: 564ms\tremaining: 902ms\n",
      "77:\tlearn: 0.1478012\ttotal: 571ms\tremaining: 893ms\n",
      "78:\tlearn: 0.1474279\ttotal: 577ms\tremaining: 884ms\n",
      "79:\tlearn: 0.1472640\ttotal: 585ms\tremaining: 878ms\n",
      "80:\tlearn: 0.1471043\ttotal: 592ms\tremaining: 870ms\n",
      "81:\tlearn: 0.1467739\ttotal: 600ms\tremaining: 864ms\n",
      "82:\tlearn: 0.1465829\ttotal: 608ms\tremaining: 857ms\n",
      "83:\tlearn: 0.1464062\ttotal: 615ms\tremaining: 850ms\n",
      "84:\tlearn: 0.1460667\ttotal: 623ms\tremaining: 842ms\n",
      "85:\tlearn: 0.1457839\ttotal: 630ms\tremaining: 835ms\n",
      "86:\tlearn: 0.1455329\ttotal: 637ms\tremaining: 827ms\n",
      "87:\tlearn: 0.1453870\ttotal: 645ms\tremaining: 821ms\n",
      "88:\tlearn: 0.1450601\ttotal: 653ms\tremaining: 814ms\n",
      "89:\tlearn: 0.1448901\ttotal: 661ms\tremaining: 808ms\n",
      "90:\tlearn: 0.1445230\ttotal: 669ms\tremaining: 801ms\n",
      "91:\tlearn: 0.1443361\ttotal: 678ms\tremaining: 795ms\n",
      "92:\tlearn: 0.1441362\ttotal: 685ms\tremaining: 788ms\n",
      "93:\tlearn: 0.1439788\ttotal: 693ms\tremaining: 781ms\n",
      "94:\tlearn: 0.1438513\ttotal: 700ms\tremaining: 774ms\n",
      "95:\tlearn: 0.1437074\ttotal: 708ms\tremaining: 767ms\n",
      "96:\tlearn: 0.1435061\ttotal: 716ms\tremaining: 760ms\n",
      "97:\tlearn: 0.1431051\ttotal: 723ms\tremaining: 752ms\n",
      "98:\tlearn: 0.1429341\ttotal: 730ms\tremaining: 745ms\n",
      "99:\tlearn: 0.1426952\ttotal: 737ms\tremaining: 737ms\n",
      "100:\tlearn: 0.1424082\ttotal: 746ms\tremaining: 731ms\n",
      "101:\tlearn: 0.1422063\ttotal: 753ms\tremaining: 724ms\n",
      "102:\tlearn: 0.1420203\ttotal: 760ms\tremaining: 716ms\n",
      "103:\tlearn: 0.1417264\ttotal: 768ms\tremaining: 709ms\n",
      "104:\tlearn: 0.1414054\ttotal: 777ms\tremaining: 703ms\n",
      "105:\tlearn: 0.1411009\ttotal: 784ms\tremaining: 695ms\n",
      "106:\tlearn: 0.1409523\ttotal: 791ms\tremaining: 687ms\n",
      "107:\tlearn: 0.1407960\ttotal: 798ms\tremaining: 680ms\n",
      "108:\tlearn: 0.1405616\ttotal: 806ms\tremaining: 673ms\n",
      "109:\tlearn: 0.1403351\ttotal: 813ms\tremaining: 665ms\n",
      "110:\tlearn: 0.1402100\ttotal: 821ms\tremaining: 658ms\n",
      "111:\tlearn: 0.1400351\ttotal: 829ms\tremaining: 651ms\n",
      "112:\tlearn: 0.1399200\ttotal: 837ms\tremaining: 645ms\n",
      "113:\tlearn: 0.1396483\ttotal: 846ms\tremaining: 638ms\n",
      "114:\tlearn: 0.1394808\ttotal: 854ms\tremaining: 631ms\n",
      "115:\tlearn: 0.1392868\ttotal: 861ms\tremaining: 623ms\n",
      "116:\tlearn: 0.1390464\ttotal: 867ms\tremaining: 615ms\n",
      "117:\tlearn: 0.1389238\ttotal: 878ms\tremaining: 610ms\n",
      "118:\tlearn: 0.1387983\ttotal: 886ms\tremaining: 603ms\n",
      "119:\tlearn: 0.1386342\ttotal: 893ms\tremaining: 596ms\n",
      "120:\tlearn: 0.1386117\ttotal: 901ms\tremaining: 588ms\n",
      "121:\tlearn: 0.1384487\ttotal: 909ms\tremaining: 581ms\n",
      "122:\tlearn: 0.1382537\ttotal: 916ms\tremaining: 573ms\n",
      "123:\tlearn: 0.1381442\ttotal: 923ms\tremaining: 566ms\n",
      "124:\tlearn: 0.1380428\ttotal: 930ms\tremaining: 558ms\n",
      "125:\tlearn: 0.1379170\ttotal: 936ms\tremaining: 550ms\n",
      "126:\tlearn: 0.1377847\ttotal: 944ms\tremaining: 543ms\n",
      "127:\tlearn: 0.1377323\ttotal: 952ms\tremaining: 535ms\n",
      "128:\tlearn: 0.1375933\ttotal: 959ms\tremaining: 528ms\n",
      "129:\tlearn: 0.1374060\ttotal: 967ms\tremaining: 521ms\n",
      "130:\tlearn: 0.1372794\ttotal: 975ms\tremaining: 513ms\n",
      "131:\tlearn: 0.1370369\ttotal: 982ms\tremaining: 506ms\n",
      "132:\tlearn: 0.1368521\ttotal: 988ms\tremaining: 498ms\n",
      "133:\tlearn: 0.1367028\ttotal: 996ms\tremaining: 490ms\n",
      "134:\tlearn: 0.1365948\ttotal: 1s\tremaining: 483ms\n",
      "135:\tlearn: 0.1363618\ttotal: 1.01s\tremaining: 476ms\n",
      "136:\tlearn: 0.1363255\ttotal: 1.02s\tremaining: 468ms\n",
      "137:\tlearn: 0.1362792\ttotal: 1.02s\tremaining: 460ms\n",
      "138:\tlearn: 0.1361495\ttotal: 1.03s\tremaining: 452ms\n",
      "139:\tlearn: 0.1360176\ttotal: 1.03s\tremaining: 444ms\n",
      "140:\tlearn: 0.1359208\ttotal: 1.04s\tremaining: 437ms\n",
      "141:\tlearn: 0.1358143\ttotal: 1.05s\tremaining: 429ms\n",
      "142:\tlearn: 0.1357030\ttotal: 1.06s\tremaining: 421ms\n",
      "143:\tlearn: 0.1354017\ttotal: 1.06s\tremaining: 414ms\n",
      "144:\tlearn: 0.1352862\ttotal: 1.07s\tremaining: 407ms\n",
      "145:\tlearn: 0.1352041\ttotal: 1.08s\tremaining: 399ms\n",
      "146:\tlearn: 0.1351409\ttotal: 1.09s\tremaining: 392ms\n",
      "147:\tlearn: 0.1350781\ttotal: 1.09s\tremaining: 384ms\n",
      "148:\tlearn: 0.1349593\ttotal: 1.1s\tremaining: 377ms\n",
      "149:\tlearn: 0.1349264\ttotal: 1.11s\tremaining: 370ms\n",
      "150:\tlearn: 0.1347269\ttotal: 1.12s\tremaining: 362ms\n",
      "151:\tlearn: 0.1346749\ttotal: 1.12s\tremaining: 355ms\n",
      "152:\tlearn: 0.1345833\ttotal: 1.13s\tremaining: 347ms\n",
      "153:\tlearn: 0.1344142\ttotal: 1.14s\tremaining: 340ms\n",
      "154:\tlearn: 0.1343182\ttotal: 1.15s\tremaining: 333ms\n",
      "155:\tlearn: 0.1341967\ttotal: 1.15s\tremaining: 325ms\n",
      "156:\tlearn: 0.1341196\ttotal: 1.16s\tremaining: 318ms\n",
      "157:\tlearn: 0.1340094\ttotal: 1.17s\tremaining: 311ms\n",
      "158:\tlearn: 0.1339033\ttotal: 1.18s\tremaining: 303ms\n",
      "159:\tlearn: 0.1338421\ttotal: 1.18s\tremaining: 296ms\n",
      "160:\tlearn: 0.1336084\ttotal: 1.19s\tremaining: 289ms\n",
      "161:\tlearn: 0.1334076\ttotal: 1.2s\tremaining: 281ms\n",
      "162:\tlearn: 0.1332563\ttotal: 1.21s\tremaining: 274ms\n",
      "163:\tlearn: 0.1331385\ttotal: 1.21s\tremaining: 266ms\n",
      "164:\tlearn: 0.1330958\ttotal: 1.22s\tremaining: 259ms\n",
      "165:\tlearn: 0.1329698\ttotal: 1.23s\tremaining: 251ms\n",
      "166:\tlearn: 0.1328315\ttotal: 1.23s\tremaining: 244ms\n",
      "167:\tlearn: 0.1326680\ttotal: 1.24s\tremaining: 237ms\n",
      "168:\tlearn: 0.1325660\ttotal: 1.25s\tremaining: 229ms\n",
      "169:\tlearn: 0.1324433\ttotal: 1.26s\tremaining: 222ms\n",
      "170:\tlearn: 0.1323615\ttotal: 1.27s\tremaining: 215ms\n",
      "171:\tlearn: 0.1322738\ttotal: 1.27s\tremaining: 207ms\n",
      "172:\tlearn: 0.1321673\ttotal: 1.28s\tremaining: 200ms\n",
      "173:\tlearn: 0.1320204\ttotal: 1.29s\tremaining: 192ms\n",
      "174:\tlearn: 0.1319763\ttotal: 1.29s\tremaining: 185ms\n",
      "175:\tlearn: 0.1318216\ttotal: 1.31s\tremaining: 178ms\n",
      "176:\tlearn: 0.1316209\ttotal: 1.31s\tremaining: 171ms\n",
      "177:\tlearn: 0.1316109\ttotal: 1.32s\tremaining: 163ms\n",
      "178:\tlearn: 0.1315513\ttotal: 1.32s\tremaining: 155ms\n",
      "179:\tlearn: 0.1313869\ttotal: 1.33s\tremaining: 148ms\n",
      "180:\tlearn: 0.1312522\ttotal: 1.34s\tremaining: 141ms\n",
      "181:\tlearn: 0.1311346\ttotal: 1.35s\tremaining: 133ms\n",
      "182:\tlearn: 0.1309559\ttotal: 1.35s\tremaining: 126ms\n",
      "183:\tlearn: 0.1308213\ttotal: 1.36s\tremaining: 118ms\n",
      "184:\tlearn: 0.1307831\ttotal: 1.37s\tremaining: 111ms\n",
      "185:\tlearn: 0.1305475\ttotal: 1.38s\tremaining: 104ms\n",
      "186:\tlearn: 0.1303879\ttotal: 1.38s\tremaining: 96.2ms\n",
      "187:\tlearn: 0.1303337\ttotal: 1.39s\tremaining: 88.8ms\n",
      "188:\tlearn: 0.1302422\ttotal: 1.4s\tremaining: 81.6ms\n",
      "189:\tlearn: 0.1300817\ttotal: 1.41s\tremaining: 74.1ms\n",
      "190:\tlearn: 0.1299257\ttotal: 1.42s\tremaining: 66.7ms\n",
      "191:\tlearn: 0.1298607\ttotal: 1.42s\tremaining: 59.3ms\n",
      "192:\tlearn: 0.1296843\ttotal: 1.43s\tremaining: 51.9ms\n",
      "193:\tlearn: 0.1295131\ttotal: 1.44s\tremaining: 44.5ms\n",
      "194:\tlearn: 0.1293180\ttotal: 1.45s\tremaining: 37.1ms\n",
      "195:\tlearn: 0.1292298\ttotal: 1.45s\tremaining: 29.6ms\n",
      "196:\tlearn: 0.1291462\ttotal: 1.46s\tremaining: 22.2ms\n",
      "197:\tlearn: 0.1288664\ttotal: 1.47s\tremaining: 14.8ms\n",
      "198:\tlearn: 0.1288201\ttotal: 1.47s\tremaining: 7.4ms\n",
      "199:\tlearn: 0.1287060\ttotal: 1.48s\tremaining: 0us\n",
      "0:\tlearn: 0.6207134\ttotal: 9.31ms\tremaining: 1.85s\n",
      "1:\tlearn: 0.5662047\ttotal: 16.9ms\tremaining: 1.67s\n",
      "2:\tlearn: 0.5106892\ttotal: 25.3ms\tremaining: 1.66s\n",
      "3:\tlearn: 0.4632831\ttotal: 37.2ms\tremaining: 1.82s\n",
      "4:\tlearn: 0.4259936\ttotal: 43.8ms\tremaining: 1.71s\n",
      "5:\tlearn: 0.3919882\ttotal: 51.4ms\tremaining: 1.66s\n",
      "6:\tlearn: 0.3652216\ttotal: 59.1ms\tremaining: 1.63s\n",
      "7:\tlearn: 0.3448582\ttotal: 67.4ms\tremaining: 1.62s\n",
      "8:\tlearn: 0.3222875\ttotal: 73.5ms\tremaining: 1.56s\n",
      "9:\tlearn: 0.3032569\ttotal: 81.3ms\tremaining: 1.54s\n",
      "10:\tlearn: 0.2879327\ttotal: 87.9ms\tremaining: 1.51s\n",
      "11:\tlearn: 0.2721076\ttotal: 95.1ms\tremaining: 1.49s\n",
      "12:\tlearn: 0.2592811\ttotal: 103ms\tremaining: 1.48s\n",
      "13:\tlearn: 0.2489457\ttotal: 111ms\tremaining: 1.48s\n",
      "14:\tlearn: 0.2387177\ttotal: 118ms\tremaining: 1.46s\n",
      "15:\tlearn: 0.2325256\ttotal: 125ms\tremaining: 1.44s\n",
      "16:\tlearn: 0.2240444\ttotal: 131ms\tremaining: 1.41s\n",
      "17:\tlearn: 0.2174618\ttotal: 138ms\tremaining: 1.39s\n",
      "18:\tlearn: 0.2127891\ttotal: 146ms\tremaining: 1.39s\n",
      "19:\tlearn: 0.2090434\ttotal: 153ms\tremaining: 1.38s\n",
      "20:\tlearn: 0.2044469\ttotal: 160ms\tremaining: 1.36s\n",
      "21:\tlearn: 0.2015689\ttotal: 167ms\tremaining: 1.35s\n",
      "22:\tlearn: 0.1990700\ttotal: 175ms\tremaining: 1.35s\n",
      "23:\tlearn: 0.1952834\ttotal: 183ms\tremaining: 1.34s\n",
      "24:\tlearn: 0.1917922\ttotal: 189ms\tremaining: 1.32s\n",
      "25:\tlearn: 0.1889511\ttotal: 197ms\tremaining: 1.32s\n",
      "26:\tlearn: 0.1862987\ttotal: 203ms\tremaining: 1.3s\n",
      "27:\tlearn: 0.1842148\ttotal: 210ms\tremaining: 1.29s\n",
      "28:\tlearn: 0.1821088\ttotal: 216ms\tremaining: 1.27s\n",
      "29:\tlearn: 0.1800633\ttotal: 223ms\tremaining: 1.27s\n",
      "30:\tlearn: 0.1792725\ttotal: 233ms\tremaining: 1.27s\n",
      "31:\tlearn: 0.1772526\ttotal: 239ms\tremaining: 1.26s\n",
      "32:\tlearn: 0.1762229\ttotal: 247ms\tremaining: 1.25s\n",
      "33:\tlearn: 0.1749118\ttotal: 255ms\tremaining: 1.24s\n",
      "34:\tlearn: 0.1732624\ttotal: 263ms\tremaining: 1.24s\n",
      "35:\tlearn: 0.1718832\ttotal: 271ms\tremaining: 1.23s\n",
      "36:\tlearn: 0.1703888\ttotal: 279ms\tremaining: 1.23s\n",
      "37:\tlearn: 0.1689433\ttotal: 287ms\tremaining: 1.22s\n",
      "38:\tlearn: 0.1682510\ttotal: 296ms\tremaining: 1.22s\n",
      "39:\tlearn: 0.1673277\ttotal: 303ms\tremaining: 1.21s\n",
      "40:\tlearn: 0.1662921\ttotal: 309ms\tremaining: 1.2s\n",
      "41:\tlearn: 0.1656398\ttotal: 316ms\tremaining: 1.19s\n",
      "42:\tlearn: 0.1645637\ttotal: 323ms\tremaining: 1.18s\n",
      "43:\tlearn: 0.1638801\ttotal: 330ms\tremaining: 1.17s\n",
      "44:\tlearn: 0.1633023\ttotal: 337ms\tremaining: 1.16s\n",
      "45:\tlearn: 0.1627466\ttotal: 345ms\tremaining: 1.15s\n",
      "46:\tlearn: 0.1621450\ttotal: 354ms\tremaining: 1.15s\n",
      "47:\tlearn: 0.1614114\ttotal: 361ms\tremaining: 1.14s\n",
      "48:\tlearn: 0.1604934\ttotal: 368ms\tremaining: 1.14s\n",
      "49:\tlearn: 0.1598389\ttotal: 376ms\tremaining: 1.13s\n",
      "50:\tlearn: 0.1592269\ttotal: 384ms\tremaining: 1.12s\n",
      "51:\tlearn: 0.1587468\ttotal: 392ms\tremaining: 1.11s\n",
      "52:\tlearn: 0.1583347\ttotal: 400ms\tremaining: 1.11s\n",
      "53:\tlearn: 0.1579094\ttotal: 406ms\tremaining: 1.1s\n",
      "54:\tlearn: 0.1577514\ttotal: 413ms\tremaining: 1.09s\n",
      "55:\tlearn: 0.1572696\ttotal: 420ms\tremaining: 1.08s\n",
      "56:\tlearn: 0.1570046\ttotal: 428ms\tremaining: 1.07s\n",
      "57:\tlearn: 0.1566426\ttotal: 436ms\tremaining: 1.07s\n",
      "58:\tlearn: 0.1561558\ttotal: 443ms\tremaining: 1.06s\n",
      "59:\tlearn: 0.1553624\ttotal: 449ms\tremaining: 1.05s\n",
      "60:\tlearn: 0.1550786\ttotal: 462ms\tremaining: 1.05s\n",
      "61:\tlearn: 0.1545505\ttotal: 468ms\tremaining: 1.04s\n",
      "62:\tlearn: 0.1543465\ttotal: 475ms\tremaining: 1.03s\n",
      "63:\tlearn: 0.1540171\ttotal: 482ms\tremaining: 1.02s\n",
      "64:\tlearn: 0.1537986\ttotal: 489ms\tremaining: 1.01s\n",
      "65:\tlearn: 0.1532317\ttotal: 497ms\tremaining: 1.01s\n",
      "66:\tlearn: 0.1529191\ttotal: 503ms\tremaining: 999ms\n",
      "67:\tlearn: 0.1524026\ttotal: 509ms\tremaining: 989ms\n",
      "68:\tlearn: 0.1519075\ttotal: 516ms\tremaining: 980ms\n",
      "69:\tlearn: 0.1516405\ttotal: 523ms\tremaining: 972ms\n",
      "70:\tlearn: 0.1512504\ttotal: 531ms\tremaining: 964ms\n",
      "71:\tlearn: 0.1507529\ttotal: 538ms\tremaining: 956ms\n",
      "72:\tlearn: 0.1502264\ttotal: 545ms\tremaining: 949ms\n",
      "73:\tlearn: 0.1499282\ttotal: 553ms\tremaining: 942ms\n",
      "74:\tlearn: 0.1496944\ttotal: 561ms\tremaining: 934ms\n",
      "75:\tlearn: 0.1495182\ttotal: 567ms\tremaining: 925ms\n",
      "76:\tlearn: 0.1491137\ttotal: 575ms\tremaining: 918ms\n",
      "77:\tlearn: 0.1487915\ttotal: 582ms\tremaining: 910ms\n",
      "78:\tlearn: 0.1484993\ttotal: 589ms\tremaining: 902ms\n",
      "79:\tlearn: 0.1482549\ttotal: 596ms\tremaining: 894ms\n",
      "80:\tlearn: 0.1481967\ttotal: 603ms\tremaining: 886ms\n",
      "81:\tlearn: 0.1477978\ttotal: 611ms\tremaining: 879ms\n",
      "82:\tlearn: 0.1473081\ttotal: 617ms\tremaining: 870ms\n",
      "83:\tlearn: 0.1469674\ttotal: 625ms\tremaining: 863ms\n",
      "84:\tlearn: 0.1467574\ttotal: 631ms\tremaining: 854ms\n",
      "85:\tlearn: 0.1465763\ttotal: 637ms\tremaining: 845ms\n",
      "86:\tlearn: 0.1463705\ttotal: 644ms\tremaining: 836ms\n",
      "87:\tlearn: 0.1461676\ttotal: 651ms\tremaining: 829ms\n",
      "88:\tlearn: 0.1460263\ttotal: 659ms\tremaining: 822ms\n",
      "89:\tlearn: 0.1458841\ttotal: 665ms\tremaining: 813ms\n",
      "90:\tlearn: 0.1456336\ttotal: 672ms\tremaining: 804ms\n",
      "91:\tlearn: 0.1454497\ttotal: 678ms\tremaining: 795ms\n",
      "92:\tlearn: 0.1452549\ttotal: 686ms\tremaining: 789ms\n",
      "93:\tlearn: 0.1451349\ttotal: 693ms\tremaining: 781ms\n",
      "94:\tlearn: 0.1447984\ttotal: 699ms\tremaining: 773ms\n",
      "95:\tlearn: 0.1446561\ttotal: 706ms\tremaining: 764ms\n",
      "96:\tlearn: 0.1444629\ttotal: 713ms\tremaining: 757ms\n",
      "97:\tlearn: 0.1440836\ttotal: 722ms\tremaining: 751ms\n",
      "98:\tlearn: 0.1438014\ttotal: 729ms\tremaining: 744ms\n",
      "99:\tlearn: 0.1435280\ttotal: 737ms\tremaining: 737ms\n",
      "100:\tlearn: 0.1432586\ttotal: 745ms\tremaining: 730ms\n",
      "101:\tlearn: 0.1430359\ttotal: 754ms\tremaining: 724ms\n",
      "102:\tlearn: 0.1428550\ttotal: 761ms\tremaining: 717ms\n",
      "103:\tlearn: 0.1427221\ttotal: 769ms\tremaining: 710ms\n",
      "104:\tlearn: 0.1425623\ttotal: 776ms\tremaining: 702ms\n",
      "105:\tlearn: 0.1422445\ttotal: 784ms\tremaining: 695ms\n",
      "106:\tlearn: 0.1420997\ttotal: 791ms\tremaining: 687ms\n",
      "107:\tlearn: 0.1418371\ttotal: 797ms\tremaining: 679ms\n",
      "108:\tlearn: 0.1415692\ttotal: 804ms\tremaining: 671ms\n",
      "109:\tlearn: 0.1413912\ttotal: 811ms\tremaining: 664ms\n",
      "110:\tlearn: 0.1411398\ttotal: 819ms\tremaining: 656ms\n",
      "111:\tlearn: 0.1410522\ttotal: 826ms\tremaining: 649ms\n",
      "112:\tlearn: 0.1408718\ttotal: 834ms\tremaining: 642ms\n",
      "113:\tlearn: 0.1407379\ttotal: 840ms\tremaining: 634ms\n",
      "114:\tlearn: 0.1405970\ttotal: 849ms\tremaining: 627ms\n",
      "115:\tlearn: 0.1403525\ttotal: 855ms\tremaining: 619ms\n",
      "116:\tlearn: 0.1402951\ttotal: 862ms\tremaining: 612ms\n",
      "117:\tlearn: 0.1400914\ttotal: 869ms\tremaining: 604ms\n",
      "118:\tlearn: 0.1399422\ttotal: 877ms\tremaining: 597ms\n",
      "119:\tlearn: 0.1397893\ttotal: 885ms\tremaining: 590ms\n",
      "120:\tlearn: 0.1397089\ttotal: 893ms\tremaining: 583ms\n",
      "121:\tlearn: 0.1395255\ttotal: 901ms\tremaining: 576ms\n",
      "122:\tlearn: 0.1394397\ttotal: 907ms\tremaining: 568ms\n",
      "123:\tlearn: 0.1392782\ttotal: 917ms\tremaining: 562ms\n",
      "124:\tlearn: 0.1391825\ttotal: 923ms\tremaining: 554ms\n",
      "125:\tlearn: 0.1390355\ttotal: 930ms\tremaining: 546ms\n",
      "126:\tlearn: 0.1388401\ttotal: 938ms\tremaining: 539ms\n",
      "127:\tlearn: 0.1386181\ttotal: 944ms\tremaining: 531ms\n",
      "128:\tlearn: 0.1385302\ttotal: 951ms\tremaining: 524ms\n",
      "129:\tlearn: 0.1384031\ttotal: 958ms\tremaining: 516ms\n",
      "130:\tlearn: 0.1382884\ttotal: 966ms\tremaining: 509ms\n",
      "131:\tlearn: 0.1381379\ttotal: 972ms\tremaining: 501ms\n",
      "132:\tlearn: 0.1380082\ttotal: 980ms\tremaining: 494ms\n",
      "133:\tlearn: 0.1378724\ttotal: 987ms\tremaining: 486ms\n",
      "134:\tlearn: 0.1377464\ttotal: 993ms\tremaining: 478ms\n",
      "135:\tlearn: 0.1376233\ttotal: 999ms\tremaining: 470ms\n",
      "136:\tlearn: 0.1374848\ttotal: 1.01s\tremaining: 463ms\n",
      "137:\tlearn: 0.1373458\ttotal: 1.01s\tremaining: 455ms\n",
      "138:\tlearn: 0.1371840\ttotal: 1.02s\tremaining: 448ms\n",
      "139:\tlearn: 0.1370979\ttotal: 1.03s\tremaining: 440ms\n",
      "140:\tlearn: 0.1369748\ttotal: 1.03s\tremaining: 433ms\n",
      "141:\tlearn: 0.1368163\ttotal: 1.04s\tremaining: 426ms\n",
      "142:\tlearn: 0.1367243\ttotal: 1.05s\tremaining: 418ms\n",
      "143:\tlearn: 0.1365681\ttotal: 1.05s\tremaining: 410ms\n",
      "144:\tlearn: 0.1364731\ttotal: 1.06s\tremaining: 403ms\n",
      "145:\tlearn: 0.1362654\ttotal: 1.07s\tremaining: 395ms\n",
      "146:\tlearn: 0.1360527\ttotal: 1.07s\tremaining: 387ms\n",
      "147:\tlearn: 0.1359483\ttotal: 1.08s\tremaining: 380ms\n",
      "148:\tlearn: 0.1358089\ttotal: 1.09s\tremaining: 372ms\n",
      "149:\tlearn: 0.1357118\ttotal: 1.09s\tremaining: 365ms\n",
      "150:\tlearn: 0.1355637\ttotal: 1.1s\tremaining: 358ms\n",
      "151:\tlearn: 0.1354507\ttotal: 1.11s\tremaining: 351ms\n",
      "152:\tlearn: 0.1352767\ttotal: 1.12s\tremaining: 343ms\n",
      "153:\tlearn: 0.1352593\ttotal: 1.12s\tremaining: 336ms\n",
      "154:\tlearn: 0.1350811\ttotal: 1.13s\tremaining: 328ms\n",
      "155:\tlearn: 0.1349610\ttotal: 1.14s\tremaining: 321ms\n",
      "156:\tlearn: 0.1348594\ttotal: 1.15s\tremaining: 314ms\n",
      "157:\tlearn: 0.1347131\ttotal: 1.15s\tremaining: 306ms\n",
      "158:\tlearn: 0.1345250\ttotal: 1.16s\tremaining: 299ms\n",
      "159:\tlearn: 0.1344179\ttotal: 1.17s\tremaining: 291ms\n",
      "160:\tlearn: 0.1342664\ttotal: 1.18s\tremaining: 285ms\n",
      "161:\tlearn: 0.1341510\ttotal: 1.18s\tremaining: 277ms\n",
      "162:\tlearn: 0.1340405\ttotal: 1.19s\tremaining: 270ms\n",
      "163:\tlearn: 0.1339212\ttotal: 1.19s\tremaining: 262ms\n",
      "164:\tlearn: 0.1337841\ttotal: 1.2s\tremaining: 255ms\n",
      "165:\tlearn: 0.1336872\ttotal: 1.21s\tremaining: 248ms\n",
      "166:\tlearn: 0.1335775\ttotal: 1.22s\tremaining: 241ms\n",
      "167:\tlearn: 0.1334150\ttotal: 1.22s\tremaining: 233ms\n",
      "168:\tlearn: 0.1331429\ttotal: 1.23s\tremaining: 226ms\n",
      "169:\tlearn: 0.1331226\ttotal: 1.24s\tremaining: 218ms\n",
      "170:\tlearn: 0.1329373\ttotal: 1.24s\tremaining: 211ms\n",
      "171:\tlearn: 0.1329320\ttotal: 1.25s\tremaining: 203ms\n",
      "172:\tlearn: 0.1327336\ttotal: 1.26s\tremaining: 196ms\n",
      "173:\tlearn: 0.1325079\ttotal: 1.26s\tremaining: 189ms\n",
      "174:\tlearn: 0.1324146\ttotal: 1.27s\tremaining: 181ms\n",
      "175:\tlearn: 0.1323076\ttotal: 1.28s\tremaining: 174ms\n",
      "176:\tlearn: 0.1321811\ttotal: 1.28s\tremaining: 167ms\n",
      "177:\tlearn: 0.1319526\ttotal: 1.29s\tremaining: 159ms\n",
      "178:\tlearn: 0.1318720\ttotal: 1.3s\tremaining: 152ms\n",
      "179:\tlearn: 0.1318427\ttotal: 1.3s\tremaining: 145ms\n",
      "180:\tlearn: 0.1317447\ttotal: 1.31s\tremaining: 138ms\n",
      "181:\tlearn: 0.1316032\ttotal: 1.32s\tremaining: 130ms\n",
      "182:\tlearn: 0.1314914\ttotal: 1.33s\tremaining: 123ms\n",
      "183:\tlearn: 0.1313317\ttotal: 1.33s\tremaining: 116ms\n",
      "184:\tlearn: 0.1312048\ttotal: 1.34s\tremaining: 109ms\n",
      "185:\tlearn: 0.1310566\ttotal: 1.35s\tremaining: 101ms\n",
      "186:\tlearn: 0.1309985\ttotal: 1.35s\tremaining: 94.2ms\n",
      "187:\tlearn: 0.1309302\ttotal: 1.36s\tremaining: 86.9ms\n",
      "188:\tlearn: 0.1307279\ttotal: 1.37s\tremaining: 79.7ms\n",
      "189:\tlearn: 0.1305247\ttotal: 1.38s\tremaining: 72.4ms\n",
      "190:\tlearn: 0.1304629\ttotal: 1.38s\tremaining: 65.2ms\n",
      "191:\tlearn: 0.1302708\ttotal: 1.39s\tremaining: 57.9ms\n",
      "192:\tlearn: 0.1302580\ttotal: 1.4s\tremaining: 50.6ms\n",
      "193:\tlearn: 0.1301656\ttotal: 1.4s\tremaining: 43.4ms\n",
      "194:\tlearn: 0.1301093\ttotal: 1.41s\tremaining: 36.2ms\n",
      "195:\tlearn: 0.1299221\ttotal: 1.42s\tremaining: 28.9ms\n",
      "196:\tlearn: 0.1298106\ttotal: 1.43s\tremaining: 21.7ms\n",
      "197:\tlearn: 0.1295955\ttotal: 1.43s\tremaining: 14.5ms\n",
      "198:\tlearn: 0.1293766\ttotal: 1.44s\tremaining: 7.25ms\n",
      "199:\tlearn: 0.1292134\ttotal: 1.45s\tremaining: 0us\n",
      "0:\tlearn: 0.6190198\ttotal: 10.5ms\tremaining: 2.1s\n",
      "1:\tlearn: 0.5634898\ttotal: 18.3ms\tremaining: 1.82s\n",
      "2:\tlearn: 0.5067389\ttotal: 25.5ms\tremaining: 1.68s\n",
      "3:\tlearn: 0.4592536\ttotal: 32.2ms\tremaining: 1.57s\n",
      "4:\tlearn: 0.4213845\ttotal: 39.8ms\tremaining: 1.55s\n",
      "5:\tlearn: 0.3871639\ttotal: 47.5ms\tremaining: 1.53s\n",
      "6:\tlearn: 0.3600471\ttotal: 54.5ms\tremaining: 1.5s\n",
      "7:\tlearn: 0.3394947\ttotal: 62.5ms\tremaining: 1.5s\n",
      "8:\tlearn: 0.3158833\ttotal: 70.3ms\tremaining: 1.49s\n",
      "9:\tlearn: 0.3017291\ttotal: 77.2ms\tremaining: 1.47s\n",
      "10:\tlearn: 0.2865606\ttotal: 84.3ms\tremaining: 1.45s\n",
      "11:\tlearn: 0.2699514\ttotal: 91.5ms\tremaining: 1.43s\n",
      "12:\tlearn: 0.2563527\ttotal: 98.5ms\tremaining: 1.42s\n",
      "13:\tlearn: 0.2454809\ttotal: 105ms\tremaining: 1.39s\n",
      "14:\tlearn: 0.2353717\ttotal: 113ms\tremaining: 1.39s\n",
      "15:\tlearn: 0.2256221\ttotal: 120ms\tremaining: 1.38s\n",
      "16:\tlearn: 0.2174181\ttotal: 126ms\tremaining: 1.35s\n",
      "17:\tlearn: 0.2123955\ttotal: 135ms\tremaining: 1.36s\n",
      "18:\tlearn: 0.2086520\ttotal: 141ms\tremaining: 1.34s\n",
      "19:\tlearn: 0.2038773\ttotal: 148ms\tremaining: 1.33s\n",
      "20:\tlearn: 0.1994838\ttotal: 156ms\tremaining: 1.32s\n",
      "21:\tlearn: 0.1950064\ttotal: 163ms\tremaining: 1.32s\n",
      "22:\tlearn: 0.1924598\ttotal: 170ms\tremaining: 1.31s\n",
      "23:\tlearn: 0.1885775\ttotal: 178ms\tremaining: 1.3s\n",
      "24:\tlearn: 0.1860778\ttotal: 185ms\tremaining: 1.29s\n",
      "25:\tlearn: 0.1835174\ttotal: 192ms\tremaining: 1.29s\n",
      "26:\tlearn: 0.1806677\ttotal: 201ms\tremaining: 1.28s\n",
      "27:\tlearn: 0.1778558\ttotal: 207ms\tremaining: 1.27s\n",
      "28:\tlearn: 0.1759337\ttotal: 214ms\tremaining: 1.26s\n",
      "29:\tlearn: 0.1743040\ttotal: 221ms\tremaining: 1.25s\n",
      "30:\tlearn: 0.1725817\ttotal: 229ms\tremaining: 1.25s\n",
      "31:\tlearn: 0.1708800\ttotal: 236ms\tremaining: 1.24s\n",
      "32:\tlearn: 0.1698647\ttotal: 243ms\tremaining: 1.23s\n",
      "33:\tlearn: 0.1688809\ttotal: 249ms\tremaining: 1.22s\n",
      "34:\tlearn: 0.1676002\ttotal: 255ms\tremaining: 1.2s\n",
      "35:\tlearn: 0.1662152\ttotal: 264ms\tremaining: 1.2s\n",
      "36:\tlearn: 0.1649923\ttotal: 271ms\tremaining: 1.19s\n",
      "37:\tlearn: 0.1642081\ttotal: 278ms\tremaining: 1.18s\n",
      "38:\tlearn: 0.1631357\ttotal: 285ms\tremaining: 1.18s\n",
      "39:\tlearn: 0.1623741\ttotal: 292ms\tremaining: 1.17s\n",
      "40:\tlearn: 0.1614024\ttotal: 299ms\tremaining: 1.16s\n",
      "41:\tlearn: 0.1605126\ttotal: 306ms\tremaining: 1.15s\n",
      "42:\tlearn: 0.1599685\ttotal: 313ms\tremaining: 1.14s\n",
      "43:\tlearn: 0.1593504\ttotal: 319ms\tremaining: 1.13s\n",
      "44:\tlearn: 0.1587658\ttotal: 327ms\tremaining: 1.13s\n",
      "45:\tlearn: 0.1577542\ttotal: 334ms\tremaining: 1.12s\n",
      "46:\tlearn: 0.1567902\ttotal: 341ms\tremaining: 1.11s\n",
      "47:\tlearn: 0.1563430\ttotal: 347ms\tremaining: 1.1s\n",
      "48:\tlearn: 0.1558105\ttotal: 354ms\tremaining: 1.09s\n",
      "49:\tlearn: 0.1554639\ttotal: 364ms\tremaining: 1.09s\n",
      "50:\tlearn: 0.1547996\ttotal: 371ms\tremaining: 1.08s\n",
      "51:\tlearn: 0.1541138\ttotal: 379ms\tremaining: 1.08s\n",
      "52:\tlearn: 0.1536867\ttotal: 386ms\tremaining: 1.07s\n",
      "53:\tlearn: 0.1530796\ttotal: 395ms\tremaining: 1.07s\n",
      "54:\tlearn: 0.1526122\ttotal: 402ms\tremaining: 1.06s\n",
      "55:\tlearn: 0.1520400\ttotal: 409ms\tremaining: 1.05s\n",
      "56:\tlearn: 0.1513175\ttotal: 416ms\tremaining: 1.04s\n",
      "57:\tlearn: 0.1508707\ttotal: 424ms\tremaining: 1.04s\n",
      "58:\tlearn: 0.1503011\ttotal: 432ms\tremaining: 1.03s\n",
      "59:\tlearn: 0.1498171\ttotal: 439ms\tremaining: 1.02s\n",
      "60:\tlearn: 0.1495875\ttotal: 447ms\tremaining: 1.02s\n",
      "61:\tlearn: 0.1493593\ttotal: 454ms\tremaining: 1.01s\n",
      "62:\tlearn: 0.1490540\ttotal: 462ms\tremaining: 1s\n",
      "63:\tlearn: 0.1486105\ttotal: 471ms\tremaining: 1s\n",
      "64:\tlearn: 0.1480797\ttotal: 478ms\tremaining: 993ms\n",
      "65:\tlearn: 0.1475862\ttotal: 485ms\tremaining: 985ms\n",
      "66:\tlearn: 0.1470711\ttotal: 493ms\tremaining: 979ms\n",
      "67:\tlearn: 0.1465932\ttotal: 501ms\tremaining: 973ms\n",
      "68:\tlearn: 0.1462908\ttotal: 509ms\tremaining: 967ms\n",
      "69:\tlearn: 0.1458559\ttotal: 517ms\tremaining: 959ms\n",
      "70:\tlearn: 0.1456197\ttotal: 524ms\tremaining: 952ms\n",
      "71:\tlearn: 0.1452928\ttotal: 532ms\tremaining: 946ms\n",
      "72:\tlearn: 0.1449253\ttotal: 539ms\tremaining: 938ms\n",
      "73:\tlearn: 0.1446862\ttotal: 546ms\tremaining: 929ms\n",
      "74:\tlearn: 0.1444808\ttotal: 554ms\tremaining: 924ms\n",
      "75:\tlearn: 0.1441238\ttotal: 561ms\tremaining: 916ms\n",
      "76:\tlearn: 0.1436954\ttotal: 568ms\tremaining: 907ms\n",
      "77:\tlearn: 0.1434467\ttotal: 576ms\tremaining: 901ms\n",
      "78:\tlearn: 0.1431539\ttotal: 583ms\tremaining: 893ms\n",
      "79:\tlearn: 0.1429595\ttotal: 591ms\tremaining: 886ms\n",
      "80:\tlearn: 0.1424994\ttotal: 598ms\tremaining: 878ms\n",
      "81:\tlearn: 0.1423227\ttotal: 605ms\tremaining: 870ms\n",
      "82:\tlearn: 0.1421576\ttotal: 611ms\tremaining: 861ms\n",
      "83:\tlearn: 0.1419736\ttotal: 619ms\tremaining: 855ms\n",
      "84:\tlearn: 0.1417166\ttotal: 625ms\tremaining: 846ms\n",
      "85:\tlearn: 0.1414320\ttotal: 632ms\tremaining: 838ms\n",
      "86:\tlearn: 0.1411943\ttotal: 639ms\tremaining: 831ms\n",
      "87:\tlearn: 0.1410470\ttotal: 646ms\tremaining: 822ms\n",
      "88:\tlearn: 0.1407910\ttotal: 653ms\tremaining: 814ms\n",
      "89:\tlearn: 0.1406813\ttotal: 661ms\tremaining: 807ms\n",
      "90:\tlearn: 0.1405651\ttotal: 667ms\tremaining: 799ms\n",
      "91:\tlearn: 0.1401680\ttotal: 674ms\tremaining: 792ms\n",
      "92:\tlearn: 0.1399739\ttotal: 682ms\tremaining: 785ms\n",
      "93:\tlearn: 0.1396983\ttotal: 690ms\tremaining: 778ms\n",
      "94:\tlearn: 0.1395662\ttotal: 697ms\tremaining: 771ms\n",
      "95:\tlearn: 0.1395023\ttotal: 704ms\tremaining: 763ms\n",
      "96:\tlearn: 0.1392464\ttotal: 710ms\tremaining: 754ms\n",
      "97:\tlearn: 0.1389062\ttotal: 717ms\tremaining: 747ms\n",
      "98:\tlearn: 0.1387150\ttotal: 725ms\tremaining: 740ms\n",
      "99:\tlearn: 0.1385077\ttotal: 732ms\tremaining: 732ms\n",
      "100:\tlearn: 0.1382204\ttotal: 740ms\tremaining: 725ms\n",
      "101:\tlearn: 0.1380546\ttotal: 748ms\tremaining: 718ms\n",
      "102:\tlearn: 0.1378650\ttotal: 756ms\tremaining: 712ms\n",
      "103:\tlearn: 0.1376880\ttotal: 764ms\tremaining: 705ms\n",
      "104:\tlearn: 0.1374282\ttotal: 772ms\tremaining: 699ms\n",
      "105:\tlearn: 0.1371463\ttotal: 780ms\tremaining: 692ms\n",
      "106:\tlearn: 0.1369025\ttotal: 787ms\tremaining: 684ms\n",
      "107:\tlearn: 0.1367038\ttotal: 794ms\tremaining: 677ms\n",
      "108:\tlearn: 0.1364755\ttotal: 801ms\tremaining: 669ms\n",
      "109:\tlearn: 0.1362663\ttotal: 808ms\tremaining: 661ms\n",
      "110:\tlearn: 0.1360501\ttotal: 816ms\tremaining: 654ms\n",
      "111:\tlearn: 0.1358456\ttotal: 823ms\tremaining: 647ms\n",
      "112:\tlearn: 0.1356976\ttotal: 830ms\tremaining: 639ms\n",
      "113:\tlearn: 0.1355450\ttotal: 838ms\tremaining: 632ms\n",
      "114:\tlearn: 0.1353440\ttotal: 845ms\tremaining: 624ms\n",
      "115:\tlearn: 0.1351583\ttotal: 853ms\tremaining: 617ms\n",
      "116:\tlearn: 0.1350190\ttotal: 859ms\tremaining: 610ms\n",
      "117:\tlearn: 0.1349142\ttotal: 867ms\tremaining: 602ms\n",
      "118:\tlearn: 0.1347161\ttotal: 875ms\tremaining: 595ms\n",
      "119:\tlearn: 0.1345895\ttotal: 882ms\tremaining: 588ms\n",
      "120:\tlearn: 0.1344892\ttotal: 889ms\tremaining: 580ms\n",
      "121:\tlearn: 0.1343958\ttotal: 896ms\tremaining: 573ms\n",
      "122:\tlearn: 0.1341619\ttotal: 904ms\tremaining: 566ms\n",
      "123:\tlearn: 0.1339745\ttotal: 911ms\tremaining: 558ms\n",
      "124:\tlearn: 0.1337913\ttotal: 919ms\tremaining: 551ms\n",
      "125:\tlearn: 0.1336464\ttotal: 925ms\tremaining: 543ms\n",
      "126:\tlearn: 0.1334072\ttotal: 932ms\tremaining: 536ms\n",
      "127:\tlearn: 0.1331914\ttotal: 938ms\tremaining: 528ms\n",
      "128:\tlearn: 0.1330978\ttotal: 947ms\tremaining: 521ms\n",
      "129:\tlearn: 0.1329744\ttotal: 954ms\tremaining: 514ms\n",
      "130:\tlearn: 0.1328361\ttotal: 961ms\tremaining: 506ms\n",
      "131:\tlearn: 0.1325890\ttotal: 970ms\tremaining: 499ms\n",
      "132:\tlearn: 0.1324193\ttotal: 977ms\tremaining: 492ms\n",
      "133:\tlearn: 0.1322881\ttotal: 985ms\tremaining: 485ms\n",
      "134:\tlearn: 0.1322012\ttotal: 992ms\tremaining: 478ms\n",
      "135:\tlearn: 0.1320919\ttotal: 999ms\tremaining: 470ms\n",
      "136:\tlearn: 0.1319688\ttotal: 1.01s\tremaining: 463ms\n",
      "137:\tlearn: 0.1316570\ttotal: 1.01s\tremaining: 455ms\n",
      "138:\tlearn: 0.1314358\ttotal: 1.02s\tremaining: 447ms\n",
      "139:\tlearn: 0.1312838\ttotal: 1.02s\tremaining: 439ms\n",
      "140:\tlearn: 0.1311035\ttotal: 1.03s\tremaining: 432ms\n",
      "141:\tlearn: 0.1310365\ttotal: 1.04s\tremaining: 425ms\n",
      "142:\tlearn: 0.1309196\ttotal: 1.04s\tremaining: 417ms\n",
      "143:\tlearn: 0.1307720\ttotal: 1.05s\tremaining: 410ms\n",
      "144:\tlearn: 0.1306534\ttotal: 1.06s\tremaining: 402ms\n",
      "145:\tlearn: 0.1304987\ttotal: 1.07s\tremaining: 395ms\n",
      "146:\tlearn: 0.1303601\ttotal: 1.07s\tremaining: 387ms\n",
      "147:\tlearn: 0.1303066\ttotal: 1.08s\tremaining: 380ms\n",
      "148:\tlearn: 0.1302180\ttotal: 1.09s\tremaining: 372ms\n",
      "149:\tlearn: 0.1300767\ttotal: 1.09s\tremaining: 365ms\n",
      "150:\tlearn: 0.1300358\ttotal: 1.1s\tremaining: 358ms\n",
      "151:\tlearn: 0.1298974\ttotal: 1.11s\tremaining: 350ms\n",
      "152:\tlearn: 0.1297882\ttotal: 1.12s\tremaining: 343ms\n",
      "153:\tlearn: 0.1296300\ttotal: 1.12s\tremaining: 336ms\n",
      "154:\tlearn: 0.1295133\ttotal: 1.13s\tremaining: 328ms\n",
      "155:\tlearn: 0.1293283\ttotal: 1.14s\tremaining: 322ms\n",
      "156:\tlearn: 0.1291554\ttotal: 1.15s\tremaining: 314ms\n",
      "157:\tlearn: 0.1290475\ttotal: 1.15s\tremaining: 307ms\n",
      "158:\tlearn: 0.1289922\ttotal: 1.16s\tremaining: 299ms\n",
      "159:\tlearn: 0.1288921\ttotal: 1.17s\tremaining: 292ms\n",
      "160:\tlearn: 0.1286083\ttotal: 1.18s\tremaining: 285ms\n",
      "161:\tlearn: 0.1285004\ttotal: 1.18s\tremaining: 277ms\n",
      "162:\tlearn: 0.1283260\ttotal: 1.19s\tremaining: 270ms\n",
      "163:\tlearn: 0.1281965\ttotal: 1.2s\tremaining: 263ms\n",
      "164:\tlearn: 0.1281489\ttotal: 1.2s\tremaining: 255ms\n",
      "165:\tlearn: 0.1280726\ttotal: 1.21s\tremaining: 248ms\n",
      "166:\tlearn: 0.1279423\ttotal: 1.22s\tremaining: 241ms\n",
      "167:\tlearn: 0.1278640\ttotal: 1.22s\tremaining: 233ms\n",
      "168:\tlearn: 0.1277442\ttotal: 1.23s\tremaining: 226ms\n",
      "169:\tlearn: 0.1275692\ttotal: 1.24s\tremaining: 218ms\n",
      "170:\tlearn: 0.1274962\ttotal: 1.24s\tremaining: 211ms\n",
      "171:\tlearn: 0.1273899\ttotal: 1.25s\tremaining: 204ms\n",
      "172:\tlearn: 0.1272817\ttotal: 1.26s\tremaining: 197ms\n",
      "173:\tlearn: 0.1271383\ttotal: 1.27s\tremaining: 189ms\n",
      "174:\tlearn: 0.1271059\ttotal: 1.27s\tremaining: 182ms\n",
      "175:\tlearn: 0.1269741\ttotal: 1.28s\tremaining: 174ms\n",
      "176:\tlearn: 0.1268712\ttotal: 1.29s\tremaining: 167ms\n",
      "177:\tlearn: 0.1267484\ttotal: 1.29s\tremaining: 160ms\n",
      "178:\tlearn: 0.1266249\ttotal: 1.3s\tremaining: 153ms\n",
      "179:\tlearn: 0.1265140\ttotal: 1.31s\tremaining: 146ms\n",
      "180:\tlearn: 0.1264352\ttotal: 1.32s\tremaining: 138ms\n",
      "181:\tlearn: 0.1264085\ttotal: 1.32s\tremaining: 131ms\n",
      "182:\tlearn: 0.1263224\ttotal: 1.33s\tremaining: 124ms\n",
      "183:\tlearn: 0.1262289\ttotal: 1.34s\tremaining: 117ms\n",
      "184:\tlearn: 0.1260694\ttotal: 1.35s\tremaining: 109ms\n",
      "185:\tlearn: 0.1258166\ttotal: 1.35s\tremaining: 102ms\n",
      "186:\tlearn: 0.1256592\ttotal: 1.36s\tremaining: 94.7ms\n",
      "187:\tlearn: 0.1256397\ttotal: 1.37s\tremaining: 87.5ms\n",
      "188:\tlearn: 0.1254938\ttotal: 1.38s\tremaining: 80.2ms\n",
      "189:\tlearn: 0.1253026\ttotal: 1.39s\tremaining: 73ms\n",
      "190:\tlearn: 0.1252499\ttotal: 1.39s\tremaining: 65.7ms\n",
      "191:\tlearn: 0.1250835\ttotal: 1.4s\tremaining: 58.4ms\n",
      "192:\tlearn: 0.1250017\ttotal: 1.41s\tremaining: 51.1ms\n",
      "193:\tlearn: 0.1248371\ttotal: 1.42s\tremaining: 43.8ms\n",
      "194:\tlearn: 0.1247490\ttotal: 1.43s\tremaining: 36.5ms\n",
      "195:\tlearn: 0.1246499\ttotal: 1.43s\tremaining: 29.2ms\n",
      "196:\tlearn: 0.1245741\ttotal: 1.44s\tremaining: 21.9ms\n",
      "197:\tlearn: 0.1244401\ttotal: 1.45s\tremaining: 14.6ms\n",
      "198:\tlearn: 0.1243802\ttotal: 1.45s\tremaining: 7.31ms\n",
      "199:\tlearn: 0.1242364\ttotal: 1.46s\tremaining: 0us\n",
      "0:\tlearn: 0.6207472\ttotal: 13.3ms\tremaining: 2.65s\n",
      "1:\tlearn: 0.5661291\ttotal: 21.7ms\tremaining: 2.15s\n",
      "2:\tlearn: 0.5103327\ttotal: 29.1ms\tremaining: 1.91s\n",
      "3:\tlearn: 0.4665034\ttotal: 37.8ms\tremaining: 1.85s\n",
      "4:\tlearn: 0.4248070\ttotal: 44.6ms\tremaining: 1.74s\n",
      "5:\tlearn: 0.3939322\ttotal: 52.3ms\tremaining: 1.69s\n",
      "6:\tlearn: 0.3643539\ttotal: 59.3ms\tremaining: 1.63s\n",
      "7:\tlearn: 0.3383544\ttotal: 66.1ms\tremaining: 1.59s\n",
      "8:\tlearn: 0.3159437\ttotal: 74.4ms\tremaining: 1.58s\n",
      "9:\tlearn: 0.2969619\ttotal: 81.5ms\tremaining: 1.55s\n",
      "10:\tlearn: 0.2851324\ttotal: 88.5ms\tremaining: 1.52s\n",
      "11:\tlearn: 0.2744572\ttotal: 95.7ms\tremaining: 1.5s\n",
      "12:\tlearn: 0.2611181\ttotal: 104ms\tremaining: 1.5s\n",
      "13:\tlearn: 0.2491941\ttotal: 112ms\tremaining: 1.49s\n",
      "14:\tlearn: 0.2395483\ttotal: 120ms\tremaining: 1.48s\n",
      "15:\tlearn: 0.2341396\ttotal: 127ms\tremaining: 1.46s\n",
      "16:\tlearn: 0.2274114\ttotal: 134ms\tremaining: 1.45s\n",
      "17:\tlearn: 0.2215964\ttotal: 142ms\tremaining: 1.44s\n",
      "18:\tlearn: 0.2154907\ttotal: 151ms\tremaining: 1.44s\n",
      "19:\tlearn: 0.2096903\ttotal: 159ms\tremaining: 1.43s\n",
      "20:\tlearn: 0.2053557\ttotal: 167ms\tremaining: 1.43s\n",
      "21:\tlearn: 0.2022743\ttotal: 175ms\tremaining: 1.41s\n",
      "22:\tlearn: 0.1996350\ttotal: 181ms\tremaining: 1.39s\n",
      "23:\tlearn: 0.1958764\ttotal: 188ms\tremaining: 1.38s\n",
      "24:\tlearn: 0.1923515\ttotal: 196ms\tremaining: 1.37s\n",
      "25:\tlearn: 0.1893856\ttotal: 203ms\tremaining: 1.36s\n",
      "26:\tlearn: 0.1865014\ttotal: 210ms\tremaining: 1.35s\n",
      "27:\tlearn: 0.1833498\ttotal: 218ms\tremaining: 1.34s\n",
      "28:\tlearn: 0.1811780\ttotal: 225ms\tremaining: 1.33s\n",
      "29:\tlearn: 0.1800567\ttotal: 233ms\tremaining: 1.32s\n",
      "30:\tlearn: 0.1784380\ttotal: 240ms\tremaining: 1.31s\n",
      "31:\tlearn: 0.1766909\ttotal: 247ms\tremaining: 1.3s\n",
      "32:\tlearn: 0.1754827\ttotal: 254ms\tremaining: 1.29s\n",
      "33:\tlearn: 0.1738080\ttotal: 265ms\tremaining: 1.29s\n",
      "34:\tlearn: 0.1721387\ttotal: 273ms\tremaining: 1.28s\n",
      "35:\tlearn: 0.1708737\ttotal: 280ms\tremaining: 1.28s\n",
      "36:\tlearn: 0.1694635\ttotal: 287ms\tremaining: 1.26s\n",
      "37:\tlearn: 0.1684041\ttotal: 295ms\tremaining: 1.26s\n",
      "38:\tlearn: 0.1677783\ttotal: 303ms\tremaining: 1.25s\n",
      "39:\tlearn: 0.1668006\ttotal: 310ms\tremaining: 1.24s\n",
      "40:\tlearn: 0.1657846\ttotal: 318ms\tremaining: 1.23s\n",
      "41:\tlearn: 0.1645139\ttotal: 325ms\tremaining: 1.22s\n",
      "42:\tlearn: 0.1638523\ttotal: 335ms\tremaining: 1.22s\n",
      "43:\tlearn: 0.1630885\ttotal: 343ms\tremaining: 1.21s\n",
      "44:\tlearn: 0.1625228\ttotal: 350ms\tremaining: 1.21s\n",
      "45:\tlearn: 0.1619526\ttotal: 358ms\tremaining: 1.2s\n",
      "46:\tlearn: 0.1610912\ttotal: 366ms\tremaining: 1.19s\n",
      "47:\tlearn: 0.1604920\ttotal: 372ms\tremaining: 1.18s\n",
      "48:\tlearn: 0.1595028\ttotal: 379ms\tremaining: 1.17s\n",
      "49:\tlearn: 0.1587162\ttotal: 386ms\tremaining: 1.16s\n",
      "50:\tlearn: 0.1582514\ttotal: 395ms\tremaining: 1.15s\n",
      "51:\tlearn: 0.1578160\ttotal: 403ms\tremaining: 1.15s\n",
      "52:\tlearn: 0.1575014\ttotal: 411ms\tremaining: 1.14s\n",
      "53:\tlearn: 0.1570936\ttotal: 417ms\tremaining: 1.13s\n",
      "54:\tlearn: 0.1564154\ttotal: 424ms\tremaining: 1.12s\n",
      "55:\tlearn: 0.1556705\ttotal: 432ms\tremaining: 1.11s\n",
      "56:\tlearn: 0.1551773\ttotal: 439ms\tremaining: 1.1s\n",
      "57:\tlearn: 0.1548307\ttotal: 446ms\tremaining: 1.09s\n",
      "58:\tlearn: 0.1543233\ttotal: 454ms\tremaining: 1.08s\n",
      "59:\tlearn: 0.1537332\ttotal: 461ms\tremaining: 1.08s\n",
      "60:\tlearn: 0.1533894\ttotal: 468ms\tremaining: 1.07s\n",
      "61:\tlearn: 0.1530344\ttotal: 475ms\tremaining: 1.06s\n",
      "62:\tlearn: 0.1528032\ttotal: 482ms\tremaining: 1.05s\n",
      "63:\tlearn: 0.1524635\ttotal: 489ms\tremaining: 1.04s\n",
      "64:\tlearn: 0.1518292\ttotal: 500ms\tremaining: 1.04s\n",
      "65:\tlearn: 0.1511353\ttotal: 507ms\tremaining: 1.03s\n",
      "66:\tlearn: 0.1509594\ttotal: 515ms\tremaining: 1.02s\n",
      "67:\tlearn: 0.1506798\ttotal: 522ms\tremaining: 1.01s\n",
      "68:\tlearn: 0.1501546\ttotal: 530ms\tremaining: 1.01s\n",
      "69:\tlearn: 0.1498215\ttotal: 538ms\tremaining: 999ms\n",
      "70:\tlearn: 0.1493349\ttotal: 546ms\tremaining: 991ms\n",
      "71:\tlearn: 0.1490216\ttotal: 553ms\tremaining: 983ms\n",
      "72:\tlearn: 0.1485439\ttotal: 561ms\tremaining: 976ms\n",
      "73:\tlearn: 0.1482612\ttotal: 567ms\tremaining: 966ms\n",
      "74:\tlearn: 0.1480357\ttotal: 575ms\tremaining: 958ms\n",
      "75:\tlearn: 0.1477510\ttotal: 582ms\tremaining: 950ms\n",
      "76:\tlearn: 0.1472774\ttotal: 589ms\tremaining: 940ms\n",
      "77:\tlearn: 0.1469100\ttotal: 596ms\tremaining: 932ms\n",
      "78:\tlearn: 0.1466084\ttotal: 602ms\tremaining: 922ms\n",
      "79:\tlearn: 0.1464283\ttotal: 609ms\tremaining: 913ms\n",
      "80:\tlearn: 0.1463260\ttotal: 615ms\tremaining: 904ms\n",
      "81:\tlearn: 0.1460270\ttotal: 623ms\tremaining: 897ms\n",
      "82:\tlearn: 0.1457200\ttotal: 631ms\tremaining: 890ms\n",
      "83:\tlearn: 0.1453940\ttotal: 638ms\tremaining: 882ms\n",
      "84:\tlearn: 0.1452020\ttotal: 645ms\tremaining: 873ms\n",
      "85:\tlearn: 0.1450269\ttotal: 652ms\tremaining: 864ms\n",
      "86:\tlearn: 0.1448194\ttotal: 659ms\tremaining: 855ms\n",
      "87:\tlearn: 0.1445902\ttotal: 665ms\tremaining: 846ms\n",
      "88:\tlearn: 0.1442388\ttotal: 671ms\tremaining: 837ms\n",
      "89:\tlearn: 0.1439614\ttotal: 679ms\tremaining: 830ms\n",
      "90:\tlearn: 0.1437009\ttotal: 686ms\tremaining: 822ms\n",
      "91:\tlearn: 0.1435197\ttotal: 694ms\tremaining: 814ms\n",
      "92:\tlearn: 0.1433569\ttotal: 701ms\tremaining: 806ms\n",
      "93:\tlearn: 0.1432398\ttotal: 707ms\tremaining: 797ms\n",
      "94:\tlearn: 0.1428311\ttotal: 713ms\tremaining: 788ms\n",
      "95:\tlearn: 0.1426805\ttotal: 719ms\tremaining: 779ms\n",
      "96:\tlearn: 0.1425511\ttotal: 728ms\tremaining: 773ms\n",
      "97:\tlearn: 0.1422858\ttotal: 735ms\tremaining: 765ms\n",
      "98:\tlearn: 0.1420190\ttotal: 742ms\tremaining: 757ms\n",
      "99:\tlearn: 0.1417880\ttotal: 748ms\tremaining: 748ms\n",
      "100:\tlearn: 0.1415844\ttotal: 757ms\tremaining: 742ms\n",
      "101:\tlearn: 0.1414474\ttotal: 763ms\tremaining: 733ms\n",
      "102:\tlearn: 0.1412672\ttotal: 769ms\tremaining: 725ms\n",
      "103:\tlearn: 0.1410783\ttotal: 776ms\tremaining: 716ms\n",
      "104:\tlearn: 0.1409231\ttotal: 783ms\tremaining: 709ms\n",
      "105:\tlearn: 0.1405897\ttotal: 790ms\tremaining: 701ms\n",
      "106:\tlearn: 0.1403478\ttotal: 797ms\tremaining: 693ms\n",
      "107:\tlearn: 0.1401660\ttotal: 804ms\tremaining: 685ms\n",
      "108:\tlearn: 0.1399544\ttotal: 811ms\tremaining: 677ms\n",
      "109:\tlearn: 0.1398360\ttotal: 818ms\tremaining: 669ms\n",
      "110:\tlearn: 0.1396926\ttotal: 828ms\tremaining: 664ms\n",
      "111:\tlearn: 0.1393533\ttotal: 835ms\tremaining: 656ms\n",
      "112:\tlearn: 0.1390624\ttotal: 842ms\tremaining: 648ms\n",
      "113:\tlearn: 0.1389208\ttotal: 848ms\tremaining: 640ms\n",
      "114:\tlearn: 0.1388075\ttotal: 856ms\tremaining: 632ms\n",
      "115:\tlearn: 0.1386586\ttotal: 863ms\tremaining: 625ms\n",
      "116:\tlearn: 0.1385908\ttotal: 869ms\tremaining: 616ms\n",
      "117:\tlearn: 0.1383640\ttotal: 875ms\tremaining: 608ms\n",
      "118:\tlearn: 0.1381732\ttotal: 882ms\tremaining: 600ms\n",
      "119:\tlearn: 0.1379073\ttotal: 890ms\tremaining: 593ms\n",
      "120:\tlearn: 0.1378375\ttotal: 897ms\tremaining: 586ms\n",
      "121:\tlearn: 0.1377021\ttotal: 904ms\tremaining: 578ms\n",
      "122:\tlearn: 0.1375553\ttotal: 911ms\tremaining: 570ms\n",
      "123:\tlearn: 0.1373440\ttotal: 917ms\tremaining: 562ms\n",
      "124:\tlearn: 0.1372672\ttotal: 923ms\tremaining: 554ms\n",
      "125:\tlearn: 0.1370988\ttotal: 931ms\tremaining: 547ms\n",
      "126:\tlearn: 0.1369198\ttotal: 937ms\tremaining: 538ms\n",
      "127:\tlearn: 0.1367856\ttotal: 944ms\tremaining: 531ms\n",
      "128:\tlearn: 0.1366818\ttotal: 951ms\tremaining: 524ms\n",
      "129:\tlearn: 0.1365691\ttotal: 958ms\tremaining: 516ms\n",
      "130:\tlearn: 0.1363552\ttotal: 964ms\tremaining: 508ms\n",
      "131:\tlearn: 0.1362595\ttotal: 971ms\tremaining: 500ms\n",
      "132:\tlearn: 0.1361306\ttotal: 977ms\tremaining: 492ms\n",
      "133:\tlearn: 0.1359543\ttotal: 985ms\tremaining: 485ms\n",
      "134:\tlearn: 0.1357985\ttotal: 991ms\tremaining: 477ms\n",
      "135:\tlearn: 0.1356608\ttotal: 998ms\tremaining: 469ms\n",
      "136:\tlearn: 0.1355390\ttotal: 1s\tremaining: 462ms\n",
      "137:\tlearn: 0.1354155\ttotal: 1.01s\tremaining: 455ms\n",
      "138:\tlearn: 0.1352532\ttotal: 1.02s\tremaining: 447ms\n",
      "139:\tlearn: 0.1351503\ttotal: 1.02s\tremaining: 440ms\n",
      "140:\tlearn: 0.1350795\ttotal: 1.03s\tremaining: 432ms\n",
      "141:\tlearn: 0.1349245\ttotal: 1.04s\tremaining: 424ms\n",
      "142:\tlearn: 0.1348374\ttotal: 1.05s\tremaining: 417ms\n",
      "143:\tlearn: 0.1346160\ttotal: 1.05s\tremaining: 409ms\n",
      "144:\tlearn: 0.1345139\ttotal: 1.06s\tremaining: 402ms\n",
      "145:\tlearn: 0.1343820\ttotal: 1.06s\tremaining: 394ms\n",
      "146:\tlearn: 0.1343683\ttotal: 1.07s\tremaining: 387ms\n",
      "147:\tlearn: 0.1342064\ttotal: 1.08s\tremaining: 379ms\n",
      "148:\tlearn: 0.1341111\ttotal: 1.09s\tremaining: 372ms\n",
      "149:\tlearn: 0.1339768\ttotal: 1.09s\tremaining: 364ms\n",
      "150:\tlearn: 0.1338499\ttotal: 1.1s\tremaining: 357ms\n",
      "151:\tlearn: 0.1336926\ttotal: 1.1s\tremaining: 349ms\n",
      "152:\tlearn: 0.1335951\ttotal: 1.11s\tremaining: 342ms\n",
      "153:\tlearn: 0.1335098\ttotal: 1.12s\tremaining: 334ms\n",
      "154:\tlearn: 0.1333609\ttotal: 1.13s\tremaining: 327ms\n",
      "155:\tlearn: 0.1331812\ttotal: 1.13s\tremaining: 320ms\n",
      "156:\tlearn: 0.1330135\ttotal: 1.14s\tremaining: 312ms\n",
      "157:\tlearn: 0.1329240\ttotal: 1.15s\tremaining: 305ms\n",
      "158:\tlearn: 0.1327334\ttotal: 1.15s\tremaining: 297ms\n",
      "159:\tlearn: 0.1326394\ttotal: 1.16s\tremaining: 290ms\n",
      "160:\tlearn: 0.1325342\ttotal: 1.17s\tremaining: 282ms\n",
      "161:\tlearn: 0.1323710\ttotal: 1.17s\tremaining: 275ms\n",
      "162:\tlearn: 0.1322545\ttotal: 1.18s\tremaining: 268ms\n",
      "163:\tlearn: 0.1321561\ttotal: 1.19s\tremaining: 261ms\n",
      "164:\tlearn: 0.1320223\ttotal: 1.19s\tremaining: 253ms\n",
      "165:\tlearn: 0.1319163\ttotal: 1.2s\tremaining: 246ms\n",
      "166:\tlearn: 0.1318128\ttotal: 1.21s\tremaining: 239ms\n",
      "167:\tlearn: 0.1317041\ttotal: 1.22s\tremaining: 231ms\n",
      "168:\tlearn: 0.1314893\ttotal: 1.22s\tremaining: 224ms\n",
      "169:\tlearn: 0.1314699\ttotal: 1.23s\tremaining: 217ms\n",
      "170:\tlearn: 0.1313254\ttotal: 1.24s\tremaining: 210ms\n",
      "171:\tlearn: 0.1312960\ttotal: 1.24s\tremaining: 203ms\n",
      "172:\tlearn: 0.1312189\ttotal: 1.25s\tremaining: 195ms\n",
      "173:\tlearn: 0.1311019\ttotal: 1.26s\tremaining: 188ms\n",
      "174:\tlearn: 0.1309818\ttotal: 1.26s\tremaining: 181ms\n",
      "175:\tlearn: 0.1308502\ttotal: 1.27s\tremaining: 173ms\n",
      "176:\tlearn: 0.1306600\ttotal: 1.28s\tremaining: 166ms\n",
      "177:\tlearn: 0.1304256\ttotal: 1.28s\tremaining: 159ms\n",
      "178:\tlearn: 0.1303116\ttotal: 1.29s\tremaining: 152ms\n",
      "179:\tlearn: 0.1302384\ttotal: 1.3s\tremaining: 144ms\n",
      "180:\tlearn: 0.1301150\ttotal: 1.3s\tremaining: 137ms\n",
      "181:\tlearn: 0.1299529\ttotal: 1.31s\tremaining: 130ms\n",
      "182:\tlearn: 0.1297631\ttotal: 1.32s\tremaining: 122ms\n",
      "183:\tlearn: 0.1295632\ttotal: 1.32s\tremaining: 115ms\n",
      "184:\tlearn: 0.1294244\ttotal: 1.33s\tremaining: 108ms\n",
      "185:\tlearn: 0.1292924\ttotal: 1.34s\tremaining: 101ms\n",
      "186:\tlearn: 0.1292064\ttotal: 1.34s\tremaining: 93.4ms\n",
      "187:\tlearn: 0.1290617\ttotal: 1.35s\tremaining: 86.3ms\n",
      "188:\tlearn: 0.1290434\ttotal: 1.36s\tremaining: 79ms\n",
      "189:\tlearn: 0.1289051\ttotal: 1.36s\tremaining: 71.8ms\n",
      "190:\tlearn: 0.1287815\ttotal: 1.37s\tremaining: 64.6ms\n",
      "191:\tlearn: 0.1287716\ttotal: 1.38s\tremaining: 57.4ms\n",
      "192:\tlearn: 0.1286299\ttotal: 1.39s\tremaining: 50.3ms\n",
      "193:\tlearn: 0.1284441\ttotal: 1.39s\tremaining: 43.1ms\n",
      "194:\tlearn: 0.1284310\ttotal: 1.4s\tremaining: 35.9ms\n",
      "195:\tlearn: 0.1283088\ttotal: 1.41s\tremaining: 28.7ms\n",
      "196:\tlearn: 0.1282842\ttotal: 1.41s\tremaining: 21.5ms\n",
      "197:\tlearn: 0.1281540\ttotal: 1.42s\tremaining: 14.4ms\n",
      "198:\tlearn: 0.1280088\ttotal: 1.43s\tremaining: 7.18ms\n",
      "199:\tlearn: 0.1278556\ttotal: 1.44s\tremaining: 0us\n",
      "0:\tlearn: 0.6205492\ttotal: 8.46ms\tremaining: 1.68s\n",
      "1:\tlearn: 0.5658897\ttotal: 15.8ms\tremaining: 1.56s\n",
      "2:\tlearn: 0.5101566\ttotal: 21.6ms\tremaining: 1.42s\n",
      "3:\tlearn: 0.4660316\ttotal: 29.4ms\tremaining: 1.44s\n",
      "4:\tlearn: 0.4246431\ttotal: 37.6ms\tremaining: 1.47s\n",
      "5:\tlearn: 0.3937753\ttotal: 45.3ms\tremaining: 1.46s\n",
      "6:\tlearn: 0.3631159\ttotal: 53.7ms\tremaining: 1.48s\n",
      "7:\tlearn: 0.3411486\ttotal: 60.2ms\tremaining: 1.45s\n",
      "8:\tlearn: 0.3185373\ttotal: 69ms\tremaining: 1.46s\n",
      "9:\tlearn: 0.2993295\ttotal: 76.9ms\tremaining: 1.46s\n",
      "10:\tlearn: 0.2842710\ttotal: 83.5ms\tremaining: 1.43s\n",
      "11:\tlearn: 0.2705434\ttotal: 91.9ms\tremaining: 1.44s\n",
      "12:\tlearn: 0.2603881\ttotal: 100ms\tremaining: 1.44s\n",
      "13:\tlearn: 0.2481737\ttotal: 108ms\tremaining: 1.44s\n",
      "14:\tlearn: 0.2391319\ttotal: 116ms\tremaining: 1.43s\n",
      "15:\tlearn: 0.2293994\ttotal: 123ms\tremaining: 1.41s\n",
      "16:\tlearn: 0.2221639\ttotal: 133ms\tremaining: 1.43s\n",
      "17:\tlearn: 0.2177349\ttotal: 140ms\tremaining: 1.42s\n",
      "18:\tlearn: 0.2134575\ttotal: 148ms\tremaining: 1.41s\n",
      "19:\tlearn: 0.2105593\ttotal: 156ms\tremaining: 1.41s\n",
      "20:\tlearn: 0.2053215\ttotal: 164ms\tremaining: 1.4s\n",
      "21:\tlearn: 0.1994806\ttotal: 172ms\tremaining: 1.39s\n",
      "22:\tlearn: 0.1969559\ttotal: 179ms\tremaining: 1.38s\n",
      "23:\tlearn: 0.1932433\ttotal: 187ms\tremaining: 1.37s\n",
      "24:\tlearn: 0.1904374\ttotal: 195ms\tremaining: 1.36s\n",
      "25:\tlearn: 0.1876812\ttotal: 201ms\tremaining: 1.35s\n",
      "26:\tlearn: 0.1848816\ttotal: 207ms\tremaining: 1.33s\n",
      "27:\tlearn: 0.1822626\ttotal: 214ms\tremaining: 1.31s\n",
      "28:\tlearn: 0.1809681\ttotal: 222ms\tremaining: 1.31s\n",
      "29:\tlearn: 0.1792222\ttotal: 231ms\tremaining: 1.31s\n",
      "30:\tlearn: 0.1772846\ttotal: 238ms\tremaining: 1.3s\n",
      "31:\tlearn: 0.1754181\ttotal: 245ms\tremaining: 1.28s\n",
      "32:\tlearn: 0.1742571\ttotal: 252ms\tremaining: 1.27s\n",
      "33:\tlearn: 0.1725973\ttotal: 260ms\tremaining: 1.27s\n",
      "34:\tlearn: 0.1718792\ttotal: 267ms\tremaining: 1.26s\n",
      "35:\tlearn: 0.1703241\ttotal: 275ms\tremaining: 1.25s\n",
      "36:\tlearn: 0.1693229\ttotal: 283ms\tremaining: 1.25s\n",
      "37:\tlearn: 0.1683949\ttotal: 290ms\tremaining: 1.24s\n",
      "38:\tlearn: 0.1669378\ttotal: 298ms\tremaining: 1.23s\n",
      "39:\tlearn: 0.1662129\ttotal: 306ms\tremaining: 1.22s\n",
      "40:\tlearn: 0.1651136\ttotal: 312ms\tremaining: 1.21s\n",
      "41:\tlearn: 0.1639765\ttotal: 320ms\tremaining: 1.2s\n",
      "42:\tlearn: 0.1633479\ttotal: 328ms\tremaining: 1.2s\n",
      "43:\tlearn: 0.1625737\ttotal: 334ms\tremaining: 1.18s\n",
      "44:\tlearn: 0.1619372\ttotal: 340ms\tremaining: 1.17s\n",
      "45:\tlearn: 0.1614773\ttotal: 348ms\tremaining: 1.16s\n",
      "46:\tlearn: 0.1604882\ttotal: 356ms\tremaining: 1.16s\n",
      "47:\tlearn: 0.1601432\ttotal: 363ms\tremaining: 1.15s\n",
      "48:\tlearn: 0.1592797\ttotal: 370ms\tremaining: 1.14s\n",
      "49:\tlearn: 0.1588010\ttotal: 377ms\tremaining: 1.13s\n",
      "50:\tlearn: 0.1583841\ttotal: 384ms\tremaining: 1.12s\n",
      "51:\tlearn: 0.1576485\ttotal: 395ms\tremaining: 1.12s\n",
      "52:\tlearn: 0.1572725\ttotal: 401ms\tremaining: 1.11s\n",
      "53:\tlearn: 0.1567652\ttotal: 407ms\tremaining: 1.1s\n",
      "54:\tlearn: 0.1563583\ttotal: 413ms\tremaining: 1.09s\n",
      "55:\tlearn: 0.1555253\ttotal: 419ms\tremaining: 1.08s\n",
      "56:\tlearn: 0.1551683\ttotal: 427ms\tremaining: 1.07s\n",
      "57:\tlearn: 0.1548459\ttotal: 435ms\tremaining: 1.06s\n",
      "58:\tlearn: 0.1542366\ttotal: 441ms\tremaining: 1.05s\n",
      "59:\tlearn: 0.1535314\ttotal: 448ms\tremaining: 1.05s\n",
      "60:\tlearn: 0.1531633\ttotal: 457ms\tremaining: 1.04s\n",
      "61:\tlearn: 0.1529625\ttotal: 465ms\tremaining: 1.03s\n",
      "62:\tlearn: 0.1526194\ttotal: 472ms\tremaining: 1.03s\n",
      "63:\tlearn: 0.1520546\ttotal: 480ms\tremaining: 1.02s\n",
      "64:\tlearn: 0.1517133\ttotal: 488ms\tremaining: 1.01s\n",
      "65:\tlearn: 0.1510965\ttotal: 496ms\tremaining: 1.01s\n",
      "66:\tlearn: 0.1506450\ttotal: 504ms\tremaining: 1s\n",
      "67:\tlearn: 0.1500651\ttotal: 512ms\tremaining: 994ms\n",
      "68:\tlearn: 0.1496317\ttotal: 521ms\tremaining: 989ms\n",
      "69:\tlearn: 0.1492190\ttotal: 528ms\tremaining: 981ms\n",
      "70:\tlearn: 0.1486630\ttotal: 536ms\tremaining: 974ms\n",
      "71:\tlearn: 0.1484585\ttotal: 544ms\tremaining: 967ms\n",
      "72:\tlearn: 0.1482090\ttotal: 552ms\tremaining: 961ms\n",
      "73:\tlearn: 0.1477457\ttotal: 560ms\tremaining: 953ms\n",
      "74:\tlearn: 0.1473929\ttotal: 567ms\tremaining: 945ms\n",
      "75:\tlearn: 0.1471181\ttotal: 575ms\tremaining: 938ms\n",
      "76:\tlearn: 0.1469700\ttotal: 582ms\tremaining: 930ms\n",
      "77:\tlearn: 0.1468211\ttotal: 590ms\tremaining: 922ms\n",
      "78:\tlearn: 0.1463897\ttotal: 597ms\tremaining: 914ms\n",
      "79:\tlearn: 0.1460913\ttotal: 604ms\tremaining: 906ms\n",
      "80:\tlearn: 0.1458173\ttotal: 612ms\tremaining: 899ms\n",
      "81:\tlearn: 0.1453829\ttotal: 620ms\tremaining: 892ms\n",
      "82:\tlearn: 0.1451921\ttotal: 627ms\tremaining: 884ms\n",
      "83:\tlearn: 0.1450336\ttotal: 634ms\tremaining: 876ms\n",
      "84:\tlearn: 0.1446872\ttotal: 642ms\tremaining: 869ms\n",
      "85:\tlearn: 0.1443227\ttotal: 651ms\tremaining: 863ms\n",
      "86:\tlearn: 0.1441102\ttotal: 659ms\tremaining: 856ms\n",
      "87:\tlearn: 0.1440095\ttotal: 668ms\tremaining: 850ms\n",
      "88:\tlearn: 0.1437959\ttotal: 675ms\tremaining: 842ms\n",
      "89:\tlearn: 0.1436322\ttotal: 686ms\tremaining: 839ms\n",
      "90:\tlearn: 0.1433469\ttotal: 693ms\tremaining: 831ms\n",
      "91:\tlearn: 0.1429109\ttotal: 702ms\tremaining: 824ms\n",
      "92:\tlearn: 0.1427504\ttotal: 709ms\tremaining: 816ms\n",
      "93:\tlearn: 0.1425272\ttotal: 716ms\tremaining: 808ms\n",
      "94:\tlearn: 0.1423605\ttotal: 722ms\tremaining: 798ms\n",
      "95:\tlearn: 0.1422041\ttotal: 730ms\tremaining: 791ms\n",
      "96:\tlearn: 0.1420377\ttotal: 736ms\tremaining: 782ms\n",
      "97:\tlearn: 0.1416451\ttotal: 743ms\tremaining: 774ms\n",
      "98:\tlearn: 0.1414313\ttotal: 751ms\tremaining: 766ms\n",
      "99:\tlearn: 0.1412280\ttotal: 758ms\tremaining: 758ms\n",
      "100:\tlearn: 0.1410393\ttotal: 765ms\tremaining: 750ms\n",
      "101:\tlearn: 0.1409029\ttotal: 771ms\tremaining: 741ms\n",
      "102:\tlearn: 0.1407238\ttotal: 778ms\tremaining: 733ms\n",
      "103:\tlearn: 0.1404922\ttotal: 784ms\tremaining: 724ms\n",
      "104:\tlearn: 0.1403326\ttotal: 790ms\tremaining: 715ms\n",
      "105:\tlearn: 0.1401237\ttotal: 797ms\tremaining: 707ms\n",
      "106:\tlearn: 0.1399954\ttotal: 804ms\tremaining: 699ms\n",
      "107:\tlearn: 0.1398469\ttotal: 811ms\tremaining: 691ms\n",
      "108:\tlearn: 0.1395721\ttotal: 819ms\tremaining: 684ms\n",
      "109:\tlearn: 0.1394586\ttotal: 826ms\tremaining: 676ms\n",
      "110:\tlearn: 0.1393297\ttotal: 832ms\tremaining: 667ms\n",
      "111:\tlearn: 0.1391186\ttotal: 840ms\tremaining: 660ms\n",
      "112:\tlearn: 0.1390070\ttotal: 849ms\tremaining: 654ms\n",
      "113:\tlearn: 0.1388708\ttotal: 856ms\tremaining: 646ms\n",
      "114:\tlearn: 0.1387210\ttotal: 862ms\tremaining: 637ms\n",
      "115:\tlearn: 0.1385237\ttotal: 870ms\tremaining: 630ms\n",
      "116:\tlearn: 0.1385124\ttotal: 875ms\tremaining: 621ms\n",
      "117:\tlearn: 0.1381556\ttotal: 881ms\tremaining: 612ms\n",
      "118:\tlearn: 0.1379949\ttotal: 889ms\tremaining: 605ms\n",
      "119:\tlearn: 0.1377142\ttotal: 896ms\tremaining: 597ms\n",
      "120:\tlearn: 0.1375686\ttotal: 903ms\tremaining: 589ms\n",
      "121:\tlearn: 0.1374162\ttotal: 910ms\tremaining: 582ms\n",
      "122:\tlearn: 0.1373022\ttotal: 917ms\tremaining: 574ms\n",
      "123:\tlearn: 0.1372567\ttotal: 924ms\tremaining: 566ms\n",
      "124:\tlearn: 0.1369983\ttotal: 931ms\tremaining: 559ms\n",
      "125:\tlearn: 0.1367182\ttotal: 938ms\tremaining: 551ms\n",
      "126:\tlearn: 0.1366289\ttotal: 946ms\tremaining: 544ms\n",
      "127:\tlearn: 0.1364861\ttotal: 954ms\tremaining: 537ms\n",
      "128:\tlearn: 0.1364334\ttotal: 960ms\tremaining: 528ms\n",
      "129:\tlearn: 0.1363553\ttotal: 966ms\tremaining: 520ms\n",
      "130:\tlearn: 0.1362429\ttotal: 976ms\tremaining: 514ms\n",
      "131:\tlearn: 0.1361629\ttotal: 984ms\tremaining: 507ms\n",
      "132:\tlearn: 0.1360579\ttotal: 991ms\tremaining: 499ms\n",
      "133:\tlearn: 0.1359671\ttotal: 998ms\tremaining: 491ms\n",
      "134:\tlearn: 0.1359003\ttotal: 1s\tremaining: 484ms\n",
      "135:\tlearn: 0.1357234\ttotal: 1.01s\tremaining: 476ms\n",
      "136:\tlearn: 0.1356467\ttotal: 1.02s\tremaining: 468ms\n",
      "137:\tlearn: 0.1354763\ttotal: 1.02s\tremaining: 460ms\n",
      "138:\tlearn: 0.1354054\ttotal: 1.03s\tremaining: 453ms\n",
      "139:\tlearn: 0.1352877\ttotal: 1.04s\tremaining: 446ms\n",
      "140:\tlearn: 0.1351985\ttotal: 1.05s\tremaining: 438ms\n",
      "141:\tlearn: 0.1350103\ttotal: 1.05s\tremaining: 431ms\n",
      "142:\tlearn: 0.1349080\ttotal: 1.06s\tremaining: 424ms\n",
      "143:\tlearn: 0.1346659\ttotal: 1.07s\tremaining: 417ms\n",
      "144:\tlearn: 0.1345766\ttotal: 1.08s\tremaining: 410ms\n",
      "145:\tlearn: 0.1343904\ttotal: 1.09s\tremaining: 402ms\n",
      "146:\tlearn: 0.1341527\ttotal: 1.09s\tremaining: 394ms\n",
      "147:\tlearn: 0.1339340\ttotal: 1.1s\tremaining: 387ms\n",
      "148:\tlearn: 0.1337626\ttotal: 1.11s\tremaining: 380ms\n",
      "149:\tlearn: 0.1336601\ttotal: 1.12s\tremaining: 372ms\n",
      "150:\tlearn: 0.1335089\ttotal: 1.12s\tremaining: 365ms\n",
      "151:\tlearn: 0.1334033\ttotal: 1.13s\tremaining: 357ms\n",
      "152:\tlearn: 0.1332177\ttotal: 1.14s\tremaining: 350ms\n",
      "153:\tlearn: 0.1331273\ttotal: 1.15s\tremaining: 343ms\n",
      "154:\tlearn: 0.1329573\ttotal: 1.15s\tremaining: 335ms\n",
      "155:\tlearn: 0.1328875\ttotal: 1.16s\tremaining: 327ms\n",
      "156:\tlearn: 0.1328106\ttotal: 1.17s\tremaining: 319ms\n",
      "157:\tlearn: 0.1326726\ttotal: 1.17s\tremaining: 312ms\n",
      "158:\tlearn: 0.1325186\ttotal: 1.18s\tremaining: 304ms\n",
      "159:\tlearn: 0.1324045\ttotal: 1.19s\tremaining: 297ms\n",
      "160:\tlearn: 0.1322968\ttotal: 1.19s\tremaining: 289ms\n",
      "161:\tlearn: 0.1321696\ttotal: 1.2s\tremaining: 282ms\n",
      "162:\tlearn: 0.1320302\ttotal: 1.21s\tremaining: 274ms\n",
      "163:\tlearn: 0.1318711\ttotal: 1.21s\tremaining: 267ms\n",
      "164:\tlearn: 0.1317086\ttotal: 1.22s\tremaining: 259ms\n",
      "165:\tlearn: 0.1316920\ttotal: 1.23s\tremaining: 251ms\n",
      "166:\tlearn: 0.1314380\ttotal: 1.23s\tremaining: 244ms\n",
      "167:\tlearn: 0.1313213\ttotal: 1.24s\tremaining: 237ms\n",
      "168:\tlearn: 0.1311908\ttotal: 1.25s\tremaining: 229ms\n",
      "169:\tlearn: 0.1310634\ttotal: 1.25s\tremaining: 222ms\n",
      "170:\tlearn: 0.1309707\ttotal: 1.26s\tremaining: 214ms\n",
      "171:\tlearn: 0.1307818\ttotal: 1.27s\tremaining: 207ms\n",
      "172:\tlearn: 0.1307013\ttotal: 1.28s\tremaining: 199ms\n",
      "173:\tlearn: 0.1306452\ttotal: 1.28s\tremaining: 192ms\n",
      "174:\tlearn: 0.1304597\ttotal: 1.29s\tremaining: 185ms\n",
      "175:\tlearn: 0.1302864\ttotal: 1.3s\tremaining: 177ms\n",
      "176:\tlearn: 0.1300545\ttotal: 1.3s\tremaining: 170ms\n",
      "177:\tlearn: 0.1299466\ttotal: 1.31s\tremaining: 162ms\n",
      "178:\tlearn: 0.1298914\ttotal: 1.32s\tremaining: 155ms\n",
      "179:\tlearn: 0.1298828\ttotal: 1.32s\tremaining: 147ms\n",
      "180:\tlearn: 0.1297849\ttotal: 1.33s\tremaining: 140ms\n",
      "181:\tlearn: 0.1296355\ttotal: 1.34s\tremaining: 133ms\n",
      "182:\tlearn: 0.1295786\ttotal: 1.35s\tremaining: 125ms\n",
      "183:\tlearn: 0.1295335\ttotal: 1.35s\tremaining: 118ms\n",
      "184:\tlearn: 0.1293328\ttotal: 1.36s\tremaining: 110ms\n",
      "185:\tlearn: 0.1291656\ttotal: 1.37s\tremaining: 103ms\n",
      "186:\tlearn: 0.1290468\ttotal: 1.38s\tremaining: 95.7ms\n",
      "187:\tlearn: 0.1289297\ttotal: 1.38s\tremaining: 88.3ms\n",
      "188:\tlearn: 0.1287684\ttotal: 1.39s\tremaining: 80.9ms\n",
      "189:\tlearn: 0.1285828\ttotal: 1.4s\tremaining: 73.6ms\n",
      "190:\tlearn: 0.1285248\ttotal: 1.41s\tremaining: 66.2ms\n",
      "191:\tlearn: 0.1283577\ttotal: 1.41s\tremaining: 58.9ms\n",
      "192:\tlearn: 0.1283225\ttotal: 1.42s\tremaining: 51.6ms\n",
      "193:\tlearn: 0.1281746\ttotal: 1.43s\tremaining: 44.2ms\n",
      "194:\tlearn: 0.1280541\ttotal: 1.44s\tremaining: 36.9ms\n",
      "195:\tlearn: 0.1280273\ttotal: 1.45s\tremaining: 29.5ms\n",
      "196:\tlearn: 0.1279064\ttotal: 1.45s\tremaining: 22.1ms\n",
      "197:\tlearn: 0.1277880\ttotal: 1.46s\tremaining: 14.7ms\n",
      "198:\tlearn: 0.1277268\ttotal: 1.47s\tremaining: 7.38ms\n",
      "199:\tlearn: 0.1275796\ttotal: 1.48s\tremaining: 0us\n",
      "0:\tlearn: 0.6203501\ttotal: 10.2ms\tremaining: 2.04s\n",
      "1:\tlearn: 0.5655992\ttotal: 16.2ms\tremaining: 1.6s\n",
      "2:\tlearn: 0.5101830\ttotal: 22ms\tremaining: 1.44s\n",
      "3:\tlearn: 0.4622997\ttotal: 28.1ms\tremaining: 1.38s\n",
      "4:\tlearn: 0.4251494\ttotal: 36.8ms\tremaining: 1.44s\n",
      "5:\tlearn: 0.3909172\ttotal: 43.4ms\tremaining: 1.4s\n",
      "6:\tlearn: 0.3638477\ttotal: 49.1ms\tremaining: 1.35s\n",
      "7:\tlearn: 0.3442497\ttotal: 55.5ms\tremaining: 1.33s\n",
      "8:\tlearn: 0.3215486\ttotal: 62.3ms\tremaining: 1.32s\n",
      "9:\tlearn: 0.3023114\ttotal: 72.1ms\tremaining: 1.37s\n",
      "10:\tlearn: 0.2869631\ttotal: 80.4ms\tremaining: 1.38s\n",
      "11:\tlearn: 0.2709061\ttotal: 87.9ms\tremaining: 1.38s\n",
      "12:\tlearn: 0.2576988\ttotal: 95.7ms\tremaining: 1.38s\n",
      "13:\tlearn: 0.2473506\ttotal: 106ms\tremaining: 1.41s\n",
      "14:\tlearn: 0.2371837\ttotal: 114ms\tremaining: 1.4s\n",
      "15:\tlearn: 0.2288847\ttotal: 122ms\tremaining: 1.4s\n",
      "16:\tlearn: 0.2220767\ttotal: 130ms\tremaining: 1.39s\n",
      "17:\tlearn: 0.2148778\ttotal: 141ms\tremaining: 1.43s\n",
      "18:\tlearn: 0.2095509\ttotal: 148ms\tremaining: 1.41s\n",
      "19:\tlearn: 0.2060337\ttotal: 154ms\tremaining: 1.39s\n",
      "20:\tlearn: 0.2016464\ttotal: 161ms\tremaining: 1.37s\n",
      "21:\tlearn: 0.1988671\ttotal: 169ms\tremaining: 1.36s\n",
      "22:\tlearn: 0.1967261\ttotal: 175ms\tremaining: 1.35s\n",
      "23:\tlearn: 0.1934410\ttotal: 183ms\tremaining: 1.34s\n",
      "24:\tlearn: 0.1900511\ttotal: 189ms\tremaining: 1.33s\n",
      "25:\tlearn: 0.1872417\ttotal: 196ms\tremaining: 1.31s\n",
      "26:\tlearn: 0.1851067\ttotal: 203ms\tremaining: 1.3s\n",
      "27:\tlearn: 0.1825370\ttotal: 210ms\tremaining: 1.29s\n",
      "28:\tlearn: 0.1804125\ttotal: 217ms\tremaining: 1.28s\n",
      "29:\tlearn: 0.1784555\ttotal: 224ms\tremaining: 1.27s\n",
      "30:\tlearn: 0.1776352\ttotal: 231ms\tremaining: 1.26s\n",
      "31:\tlearn: 0.1755943\ttotal: 237ms\tremaining: 1.24s\n",
      "32:\tlearn: 0.1743824\ttotal: 244ms\tremaining: 1.23s\n",
      "33:\tlearn: 0.1729675\ttotal: 251ms\tremaining: 1.23s\n",
      "34:\tlearn: 0.1715010\ttotal: 259ms\tremaining: 1.22s\n",
      "35:\tlearn: 0.1700999\ttotal: 267ms\tremaining: 1.22s\n",
      "36:\tlearn: 0.1686774\ttotal: 274ms\tremaining: 1.21s\n",
      "37:\tlearn: 0.1676206\ttotal: 281ms\tremaining: 1.2s\n",
      "38:\tlearn: 0.1667601\ttotal: 289ms\tremaining: 1.19s\n",
      "39:\tlearn: 0.1658363\ttotal: 296ms\tremaining: 1.18s\n",
      "40:\tlearn: 0.1647532\ttotal: 303ms\tremaining: 1.17s\n",
      "41:\tlearn: 0.1640740\ttotal: 310ms\tremaining: 1.16s\n",
      "42:\tlearn: 0.1633294\ttotal: 317ms\tremaining: 1.16s\n",
      "43:\tlearn: 0.1627279\ttotal: 323ms\tremaining: 1.15s\n",
      "44:\tlearn: 0.1621382\ttotal: 333ms\tremaining: 1.15s\n",
      "45:\tlearn: 0.1615515\ttotal: 339ms\tremaining: 1.14s\n",
      "46:\tlearn: 0.1606219\ttotal: 346ms\tremaining: 1.13s\n",
      "47:\tlearn: 0.1601358\ttotal: 353ms\tremaining: 1.12s\n",
      "48:\tlearn: 0.1595630\ttotal: 360ms\tremaining: 1.11s\n",
      "49:\tlearn: 0.1588194\ttotal: 368ms\tremaining: 1.1s\n",
      "50:\tlearn: 0.1584136\ttotal: 376ms\tremaining: 1.1s\n",
      "51:\tlearn: 0.1577478\ttotal: 383ms\tremaining: 1.09s\n",
      "52:\tlearn: 0.1572976\ttotal: 390ms\tremaining: 1.08s\n",
      "53:\tlearn: 0.1570570\ttotal: 397ms\tremaining: 1.07s\n",
      "54:\tlearn: 0.1564333\ttotal: 404ms\tremaining: 1.07s\n",
      "55:\tlearn: 0.1559381\ttotal: 411ms\tremaining: 1.06s\n",
      "56:\tlearn: 0.1555400\ttotal: 419ms\tremaining: 1.05s\n",
      "57:\tlearn: 0.1552383\ttotal: 425ms\tremaining: 1.04s\n",
      "58:\tlearn: 0.1547526\ttotal: 432ms\tremaining: 1.03s\n",
      "59:\tlearn: 0.1541516\ttotal: 439ms\tremaining: 1.02s\n",
      "60:\tlearn: 0.1539360\ttotal: 445ms\tremaining: 1.01s\n",
      "61:\tlearn: 0.1534067\ttotal: 452ms\tremaining: 1s\n",
      "62:\tlearn: 0.1531615\ttotal: 459ms\tremaining: 999ms\n",
      "63:\tlearn: 0.1528344\ttotal: 467ms\tremaining: 992ms\n",
      "64:\tlearn: 0.1526077\ttotal: 474ms\tremaining: 984ms\n",
      "65:\tlearn: 0.1519712\ttotal: 481ms\tremaining: 977ms\n",
      "66:\tlearn: 0.1516637\ttotal: 490ms\tremaining: 972ms\n",
      "67:\tlearn: 0.1510971\ttotal: 497ms\tremaining: 965ms\n",
      "68:\tlearn: 0.1506906\ttotal: 505ms\tremaining: 958ms\n",
      "69:\tlearn: 0.1505046\ttotal: 512ms\tremaining: 951ms\n",
      "70:\tlearn: 0.1499375\ttotal: 518ms\tremaining: 941ms\n",
      "71:\tlearn: 0.1496667\ttotal: 526ms\tremaining: 935ms\n",
      "72:\tlearn: 0.1490835\ttotal: 532ms\tremaining: 926ms\n",
      "73:\tlearn: 0.1488094\ttotal: 538ms\tremaining: 917ms\n",
      "74:\tlearn: 0.1486192\ttotal: 544ms\tremaining: 907ms\n",
      "75:\tlearn: 0.1484638\ttotal: 551ms\tremaining: 900ms\n",
      "76:\tlearn: 0.1482569\ttotal: 558ms\tremaining: 892ms\n",
      "77:\tlearn: 0.1476632\ttotal: 564ms\tremaining: 883ms\n",
      "78:\tlearn: 0.1473961\ttotal: 571ms\tremaining: 874ms\n",
      "79:\tlearn: 0.1471779\ttotal: 577ms\tremaining: 866ms\n",
      "80:\tlearn: 0.1470512\ttotal: 586ms\tremaining: 860ms\n",
      "81:\tlearn: 0.1468532\ttotal: 592ms\tremaining: 851ms\n",
      "82:\tlearn: 0.1465395\ttotal: 599ms\tremaining: 844ms\n",
      "83:\tlearn: 0.1461686\ttotal: 606ms\tremaining: 836ms\n",
      "84:\tlearn: 0.1459947\ttotal: 611ms\tremaining: 827ms\n",
      "85:\tlearn: 0.1456856\ttotal: 619ms\tremaining: 821ms\n",
      "86:\tlearn: 0.1453908\ttotal: 627ms\tremaining: 814ms\n",
      "87:\tlearn: 0.1452887\ttotal: 634ms\tremaining: 806ms\n",
      "88:\tlearn: 0.1450470\ttotal: 641ms\tremaining: 799ms\n",
      "89:\tlearn: 0.1448751\ttotal: 647ms\tremaining: 791ms\n",
      "90:\tlearn: 0.1445823\ttotal: 655ms\tremaining: 785ms\n",
      "91:\tlearn: 0.1444098\ttotal: 662ms\tremaining: 777ms\n",
      "92:\tlearn: 0.1442634\ttotal: 669ms\tremaining: 770ms\n",
      "93:\tlearn: 0.1440370\ttotal: 676ms\tremaining: 762ms\n",
      "94:\tlearn: 0.1437342\ttotal: 684ms\tremaining: 756ms\n",
      "95:\tlearn: 0.1435733\ttotal: 690ms\tremaining: 747ms\n",
      "96:\tlearn: 0.1434271\ttotal: 696ms\tremaining: 739ms\n",
      "97:\tlearn: 0.1431484\ttotal: 703ms\tremaining: 732ms\n",
      "98:\tlearn: 0.1428510\ttotal: 710ms\tremaining: 724ms\n",
      "99:\tlearn: 0.1424841\ttotal: 717ms\tremaining: 717ms\n",
      "100:\tlearn: 0.1422580\ttotal: 723ms\tremaining: 709ms\n",
      "101:\tlearn: 0.1421378\ttotal: 730ms\tremaining: 702ms\n",
      "102:\tlearn: 0.1419499\ttotal: 737ms\tremaining: 694ms\n",
      "103:\tlearn: 0.1417443\ttotal: 743ms\tremaining: 686ms\n",
      "104:\tlearn: 0.1415598\ttotal: 751ms\tremaining: 679ms\n",
      "105:\tlearn: 0.1412905\ttotal: 758ms\tremaining: 672ms\n",
      "106:\tlearn: 0.1411073\ttotal: 765ms\tremaining: 665ms\n",
      "107:\tlearn: 0.1408086\ttotal: 773ms\tremaining: 658ms\n",
      "108:\tlearn: 0.1405557\ttotal: 781ms\tremaining: 652ms\n",
      "109:\tlearn: 0.1404328\ttotal: 788ms\tremaining: 645ms\n",
      "110:\tlearn: 0.1403251\ttotal: 795ms\tremaining: 638ms\n",
      "111:\tlearn: 0.1401207\ttotal: 803ms\tremaining: 631ms\n",
      "112:\tlearn: 0.1400376\ttotal: 810ms\tremaining: 624ms\n",
      "113:\tlearn: 0.1398662\ttotal: 818ms\tremaining: 617ms\n",
      "114:\tlearn: 0.1397582\ttotal: 826ms\tremaining: 610ms\n",
      "115:\tlearn: 0.1396602\ttotal: 833ms\tremaining: 603ms\n",
      "116:\tlearn: 0.1396495\ttotal: 838ms\tremaining: 594ms\n",
      "117:\tlearn: 0.1394651\ttotal: 845ms\tremaining: 587ms\n",
      "118:\tlearn: 0.1393100\ttotal: 853ms\tremaining: 580ms\n",
      "119:\tlearn: 0.1389965\ttotal: 859ms\tremaining: 573ms\n",
      "120:\tlearn: 0.1389198\ttotal: 866ms\tremaining: 565ms\n",
      "121:\tlearn: 0.1387599\ttotal: 873ms\tremaining: 558ms\n",
      "122:\tlearn: 0.1386281\ttotal: 880ms\tremaining: 551ms\n",
      "123:\tlearn: 0.1385611\ttotal: 887ms\tremaining: 544ms\n",
      "124:\tlearn: 0.1384269\ttotal: 894ms\tremaining: 536ms\n",
      "125:\tlearn: 0.1383159\ttotal: 900ms\tremaining: 529ms\n",
      "126:\tlearn: 0.1382536\ttotal: 908ms\tremaining: 522ms\n",
      "127:\tlearn: 0.1381041\ttotal: 915ms\tremaining: 514ms\n",
      "128:\tlearn: 0.1380329\ttotal: 921ms\tremaining: 507ms\n",
      "129:\tlearn: 0.1378348\ttotal: 929ms\tremaining: 500ms\n",
      "130:\tlearn: 0.1377468\ttotal: 936ms\tremaining: 493ms\n",
      "131:\tlearn: 0.1376970\ttotal: 942ms\tremaining: 485ms\n",
      "132:\tlearn: 0.1375405\ttotal: 949ms\tremaining: 478ms\n",
      "133:\tlearn: 0.1373777\ttotal: 956ms\tremaining: 471ms\n",
      "134:\tlearn: 0.1373007\ttotal: 963ms\tremaining: 464ms\n",
      "135:\tlearn: 0.1371671\ttotal: 972ms\tremaining: 457ms\n",
      "136:\tlearn: 0.1369704\ttotal: 978ms\tremaining: 450ms\n",
      "137:\tlearn: 0.1368221\ttotal: 987ms\tremaining: 443ms\n",
      "138:\tlearn: 0.1367679\ttotal: 993ms\tremaining: 436ms\n",
      "139:\tlearn: 0.1366849\ttotal: 1s\tremaining: 429ms\n",
      "140:\tlearn: 0.1365354\ttotal: 1.01s\tremaining: 421ms\n",
      "141:\tlearn: 0.1363643\ttotal: 1.01s\tremaining: 414ms\n",
      "142:\tlearn: 0.1361668\ttotal: 1.02s\tremaining: 407ms\n",
      "143:\tlearn: 0.1359304\ttotal: 1.03s\tremaining: 400ms\n",
      "144:\tlearn: 0.1357953\ttotal: 1.03s\tremaining: 393ms\n",
      "145:\tlearn: 0.1356031\ttotal: 1.04s\tremaining: 386ms\n",
      "146:\tlearn: 0.1353315\ttotal: 1.05s\tremaining: 378ms\n",
      "147:\tlearn: 0.1351540\ttotal: 1.05s\tremaining: 371ms\n",
      "148:\tlearn: 0.1349264\ttotal: 1.06s\tremaining: 364ms\n",
      "149:\tlearn: 0.1348188\ttotal: 1.07s\tremaining: 357ms\n",
      "150:\tlearn: 0.1347533\ttotal: 1.08s\tremaining: 350ms\n",
      "151:\tlearn: 0.1346047\ttotal: 1.09s\tremaining: 343ms\n",
      "152:\tlearn: 0.1344066\ttotal: 1.09s\tremaining: 336ms\n",
      "153:\tlearn: 0.1342960\ttotal: 1.1s\tremaining: 329ms\n",
      "154:\tlearn: 0.1342020\ttotal: 1.11s\tremaining: 322ms\n",
      "155:\tlearn: 0.1341269\ttotal: 1.11s\tremaining: 315ms\n",
      "156:\tlearn: 0.1339957\ttotal: 1.12s\tremaining: 308ms\n",
      "157:\tlearn: 0.1338605\ttotal: 1.13s\tremaining: 301ms\n",
      "158:\tlearn: 0.1337820\ttotal: 1.14s\tremaining: 294ms\n",
      "159:\tlearn: 0.1336831\ttotal: 1.15s\tremaining: 286ms\n",
      "160:\tlearn: 0.1334885\ttotal: 1.15s\tremaining: 279ms\n",
      "161:\tlearn: 0.1334017\ttotal: 1.16s\tremaining: 272ms\n",
      "162:\tlearn: 0.1332596\ttotal: 1.17s\tremaining: 265ms\n",
      "163:\tlearn: 0.1331115\ttotal: 1.18s\tremaining: 258ms\n",
      "164:\tlearn: 0.1329457\ttotal: 1.18s\tremaining: 251ms\n",
      "165:\tlearn: 0.1327609\ttotal: 1.19s\tremaining: 244ms\n",
      "166:\tlearn: 0.1326397\ttotal: 1.2s\tremaining: 237ms\n",
      "167:\tlearn: 0.1325234\ttotal: 1.21s\tremaining: 230ms\n",
      "168:\tlearn: 0.1324728\ttotal: 1.21s\tremaining: 222ms\n",
      "169:\tlearn: 0.1323648\ttotal: 1.22s\tremaining: 215ms\n",
      "170:\tlearn: 0.1322192\ttotal: 1.23s\tremaining: 208ms\n",
      "171:\tlearn: 0.1320866\ttotal: 1.23s\tremaining: 201ms\n",
      "172:\tlearn: 0.1320035\ttotal: 1.24s\tremaining: 193ms\n",
      "173:\tlearn: 0.1318212\ttotal: 1.24s\tremaining: 186ms\n",
      "174:\tlearn: 0.1315727\ttotal: 1.25s\tremaining: 179ms\n",
      "175:\tlearn: 0.1313990\ttotal: 1.26s\tremaining: 172ms\n",
      "176:\tlearn: 0.1311378\ttotal: 1.26s\tremaining: 164ms\n",
      "177:\tlearn: 0.1310177\ttotal: 1.27s\tremaining: 157ms\n",
      "178:\tlearn: 0.1309168\ttotal: 1.28s\tremaining: 150ms\n",
      "179:\tlearn: 0.1307003\ttotal: 1.28s\tremaining: 143ms\n",
      "180:\tlearn: 0.1305789\ttotal: 1.29s\tremaining: 136ms\n",
      "181:\tlearn: 0.1305450\ttotal: 1.3s\tremaining: 129ms\n",
      "182:\tlearn: 0.1305031\ttotal: 1.3s\tremaining: 121ms\n",
      "183:\tlearn: 0.1304540\ttotal: 1.31s\tremaining: 114ms\n",
      "184:\tlearn: 0.1303661\ttotal: 1.32s\tremaining: 107ms\n",
      "185:\tlearn: 0.1302200\ttotal: 1.32s\tremaining: 99.8ms\n",
      "186:\tlearn: 0.1301583\ttotal: 1.33s\tremaining: 92.6ms\n",
      "187:\tlearn: 0.1300177\ttotal: 1.34s\tremaining: 85.5ms\n",
      "188:\tlearn: 0.1298852\ttotal: 1.34s\tremaining: 78.3ms\n",
      "189:\tlearn: 0.1297972\ttotal: 1.35s\tremaining: 71.2ms\n",
      "190:\tlearn: 0.1296614\ttotal: 1.36s\tremaining: 64.1ms\n",
      "191:\tlearn: 0.1294386\ttotal: 1.37s\tremaining: 56.9ms\n",
      "192:\tlearn: 0.1292671\ttotal: 1.37s\tremaining: 49.8ms\n",
      "193:\tlearn: 0.1291816\ttotal: 1.38s\tremaining: 42.6ms\n",
      "194:\tlearn: 0.1291077\ttotal: 1.39s\tremaining: 35.5ms\n",
      "195:\tlearn: 0.1290286\ttotal: 1.39s\tremaining: 28.4ms\n",
      "196:\tlearn: 0.1288825\ttotal: 1.4s\tremaining: 21.3ms\n",
      "197:\tlearn: 0.1287782\ttotal: 1.4s\tremaining: 14.2ms\n",
      "198:\tlearn: 0.1287107\ttotal: 1.41s\tremaining: 7.1ms\n",
      "199:\tlearn: 0.1285819\ttotal: 1.42s\tremaining: 0us\n"
     ]
    },
    {
     "data": {
      "text/plain": [
       "0.9368333333333334"
      ]
     },
     "execution_count": 125,
     "metadata": {},
     "output_type": "execute_result"
    }
   ],
   "source": [
    "cross_val_score(catb_model, X_test, y_test, cv = 10).mean()"
   ]
  },
  {
   "cell_type": "code",
   "execution_count": 126,
   "metadata": {},
   "outputs": [
    {
     "data": {
      "image/png": "[encoded data removed]",
      "text/plain": [
       "<Figure size 432x288 with 1 Axes>"
      ]
     },
     "metadata": {
      "needs_background": "light"
     },
     "output_type": "display_data"
    }
   ],
   "source": [
    "draw_roc(catb_model)"
   ]
  },
  {
   "cell_type": "code",
   "execution_count": 127,
   "metadata": {},
   "outputs": [
    {
     "data": {
      "text/plain": [
       "<sklearn.metrics._plot.confusion_matrix.ConfusionMatrixDisplay at 0x1d034d32988>"
      ]
     },
     "execution_count": 127,
     "metadata": {},
     "output_type": "execute_result"
    },
    {
     "data": {
      "image/png": "[encoded data removed]",
      "text/plain": [
       "<Figure size 432x288 with 2 Axes>"
      ]
     },
     "metadata": {
      "needs_background": "light"
     },
     "output_type": "display_data"
    }
   ],
   "source": [
    "plot_confusion_matrix(catb_model, X_test, y_test)"
   ]
  },
  {
   "cell_type": "markdown",
   "metadata": {},
   "source": [
    "## Benchmarking All Models"
   ]
  },
  {
   "cell_type": "code",
   "execution_count": 128,
   "metadata": {},
   "outputs": [
    {
     "name": "stdout",
     "output_type": "stream",
     "text": [
      "----------------------------\n",
      "KNeighborsClassifier:\n",
      "Accuracy: 92.9750%\n",
      "----------------------------\n",
      "LogisticRegression:\n",
      "Accuracy: 93.3500%\n",
      "----------------------------\n",
      "SVC:\n",
      "Accuracy: 92.9500%\n",
      "----------------------------\n",
      "GaussianNB:\n",
      "Accuracy: 90.8667%\n",
      "----------------------------\n",
      "MLPClassifier:\n",
      "Accuracy: 92.5250%\n",
      "----------------------------\n",
      "DecisionTreeClassifier:\n",
      "Accuracy: 93.3833%\n",
      "----------------------------\n",
      "RandomForestClassifier:\n",
      "Accuracy: 93.1583%\n",
      "----------------------------\n",
      "GradientBoostingClassifier:\n",
      "Accuracy: 92.7333%\n",
      "----------------------------\n",
      "CatBoostClassifier:\n",
      "Accuracy: 93.8500%\n",
      "----------------------------\n",
      "XGBClassifier:\n",
      "Accuracy: 93.6333%\n"
     ]
    }
   ],
   "source": [
    "modeller = [\n",
    "    knn_model,\n",
    "    loj_model,\n",
    "    rbf_model,\n",
    "    nb_model,\n",
    "    mlpc_model,\n",
    "    cart_model,\n",
    "    rf_model,\n",
    "    gbm_model,\n",
    "    catb_model,\n",
    "    xgb_model\n",
    "]\n",
    "\n",
    "\n",
    "for model in modeller:\n",
    "    isimler = model.__class__.__name__\n",
    "    y_pred = model.predict(X_test)\n",
    "    dogruluk = accuracy_score(y_test, y_pred)\n",
    "    print(\"-\"*28)\n",
    "    print(isimler + \":\" )\n",
    "    print(\"Accuracy: {:.4%}\".format(dogruluk))"
   ]
  },
  {
   "cell_type": "code",
   "execution_count": 129,
   "metadata": {},
   "outputs": [
    {
     "data": {
      "image/png": "[encoded data removed]",
      "text/plain": [
       "<Figure size 432x288 with 1 Axes>"
      ]
     },
     "metadata": {
      "needs_background": "light"
     },
     "output_type": "display_data"
    }
   ],
   "source": [
    "sonuc = []\n",
    "\n",
    "sonuclar = pd.DataFrame(columns= [\"Modeller\",\"Accuracy\"])\n",
    "\n",
    "for model in modeller:\n",
    "    isimler = model.__class__.__name__\n",
    "    y_pred = model.predict(X_test)\n",
    "    dogruluk = accuracy_score(y_test, y_pred)    \n",
    "    sonuc = pd.DataFrame([[isimler, dogruluk*100]], columns= [\"Modeller\",\"Accuracy\"])\n",
    "    sonuclar = sonuclar.append(sonuc)\n",
    "    \n",
    "    \n",
    "sns.barplot(x= 'Accuracy', y = 'Modeller', data=sonuclar, color=\"r\")\n",
    "plt.xlabel('Accuracy %')\n",
    "plt.title('Modellerin Doğruluk Oranları');    "
   ]
  },
  {
   "cell_type": "code",
   "execution_count": 131,
   "metadata": {},
   "outputs": [
    {
     "data": {
      "text/html": [
       "<div>\n",
       "<style scoped>\n",
       "    .dataframe tbody tr th:only-of-type {\n",
       "        vertical-align: middle;\n",
       "    }\n",
       "\n",
       "    .dataframe tbody tr th {\n",
       "        vertical-align: top;\n",
       "    }\n",
       "\n",
       "    .dataframe thead th {\n",
       "        text-align: right;\n",
       "    }\n",
       "</style>\n",
       "<table border=\"1\" class=\"dataframe\">\n",
       "  <thead>\n",
       "    <tr style=\"text-align: right;\">\n",
       "      <th></th>\n",
       "      <th>Modeller</th>\n",
       "      <th>Accuracy</th>\n",
       "    </tr>\n",
       "  </thead>\n",
       "  <tbody>\n",
       "    <tr>\n",
       "      <th>0</th>\n",
       "      <td>CatBoostClassifier</td>\n",
       "      <td>93.850000</td>\n",
       "    </tr>\n",
       "    <tr>\n",
       "      <th>1</th>\n",
       "      <td>XGBClassifier</td>\n",
       "      <td>93.633333</td>\n",
       "    </tr>\n",
       "    <tr>\n",
       "      <th>2</th>\n",
       "      <td>DecisionTreeClassifier</td>\n",
       "      <td>93.383333</td>\n",
       "    </tr>\n",
       "    <tr>\n",
       "      <th>3</th>\n",
       "      <td>LogisticRegression</td>\n",
       "      <td>93.350000</td>\n",
       "    </tr>\n",
       "    <tr>\n",
       "      <th>4</th>\n",
       "      <td>RandomForestClassifier</td>\n",
       "      <td>93.158333</td>\n",
       "    </tr>\n",
       "    <tr>\n",
       "      <th>5</th>\n",
       "      <td>KNeighborsClassifier</td>\n",
       "      <td>92.975000</td>\n",
       "    </tr>\n",
       "    <tr>\n",
       "      <th>6</th>\n",
       "      <td>SVC</td>\n",
       "      <td>92.950000</td>\n",
       "    </tr>\n",
       "    <tr>\n",
       "      <th>7</th>\n",
       "      <td>GradientBoostingClassifier</td>\n",
       "      <td>92.733333</td>\n",
       "    </tr>\n",
       "    <tr>\n",
       "      <th>8</th>\n",
       "      <td>MLPClassifier</td>\n",
       "      <td>92.525000</td>\n",
       "    </tr>\n",
       "    <tr>\n",
       "      <th>9</th>\n",
       "      <td>GaussianNB</td>\n",
       "      <td>90.866667</td>\n",
       "    </tr>\n",
       "  </tbody>\n",
       "</table>\n",
       "</div>"
      ],
      "text/plain": [
       "                     Modeller   Accuracy\n",
       "0          CatBoostClassifier  93.850000\n",
       "1               XGBClassifier  93.633333\n",
       "2      DecisionTreeClassifier  93.383333\n",
       "3          LogisticRegression  93.350000\n",
       "4      RandomForestClassifier  93.158333\n",
       "5        KNeighborsClassifier  92.975000\n",
       "6                         SVC  92.950000\n",
       "7  GradientBoostingClassifier  92.733333\n",
       "8               MLPClassifier  92.525000\n",
       "9                  GaussianNB  90.866667"
      ]
     },
     "execution_count": 131,
     "metadata": {},
     "output_type": "execute_result"
    }
   ],
   "source": [
    "sonuclar.sort_values(by=\"Accuracy\", ascending=False, ignore_index=True)"
   ]
  }
 ],
 "metadata": {
  "kernelspec": {
   "display_name": "Python 3",
   "language": "python",
   "name": "python3"
  },
  "language_info": {
   "codemirror_mode": {
    "name": "ipython",
    "version": 3
   },
   "file_extension": ".py",
   "mimetype": "text/x-python",
   "name": "python",
   "nbconvert_exporter": "python",
   "pygments_lexer": "ipython3",
   "version": "3.7.9"
  }
 },
 "nbformat": 4,
 "nbformat_minor": 4
}
